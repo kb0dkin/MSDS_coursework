{
 "cells": [
  {
   "cell_type": "markdown",
   "metadata": {},
   "source": [
    "# Assignment 1 - Data Preparation\n",
    "MSDS 422\n",
    "\n",
    "Load in a .csv file using pandas, explore using \"statistical techniques\",\n",
    "graph it in a few different ways, look for relationships, impute missing variables, and convert categorical variables to numeric values\n",
    "\n",
    "\n"
   ]
  },
  {
   "cell_type": "code",
   "execution_count": 3,
   "metadata": {},
   "outputs": [],
   "source": [
    "import pandas as pd\n",
    "import numpy as np\n",
    "\n",
    "from matplotlib import pyplot as plt"
   ]
  },
  {
   "cell_type": "markdown",
   "metadata": {},
   "source": [
    "### Import using pandas\n",
    "filename = \"C:\\Users\\17204\\Documents\\git\\MSDS_coursework\\422\\Assignment_1\\HMEQ_Loss.csv\"\n",
    "\n",
    "For the time being I'm keeping .csv files in my .gitignore file, so to run this from git you will need to change the filepath or load a file into the same folder"
   ]
  },
  {
   "cell_type": "code",
   "execution_count": 4,
   "metadata": {},
   "outputs": [
    {
     "data": {
      "text/html": [
       "<div>\n",
       "<style scoped>\n",
       "    .dataframe tbody tr th:only-of-type {\n",
       "        vertical-align: middle;\n",
       "    }\n",
       "\n",
       "    .dataframe tbody tr th {\n",
       "        vertical-align: top;\n",
       "    }\n",
       "\n",
       "    .dataframe thead th {\n",
       "        text-align: right;\n",
       "    }\n",
       "</style>\n",
       "<table border=\"1\" class=\"dataframe\">\n",
       "  <thead>\n",
       "    <tr style=\"text-align: right;\">\n",
       "      <th></th>\n",
       "      <th>TARGET_BAD_FLAG</th>\n",
       "      <th>TARGET_LOSS_AMT</th>\n",
       "      <th>LOAN</th>\n",
       "      <th>MORTDUE</th>\n",
       "      <th>VALUE</th>\n",
       "      <th>REASON</th>\n",
       "      <th>JOB</th>\n",
       "      <th>YOJ</th>\n",
       "      <th>DEROG</th>\n",
       "      <th>DELINQ</th>\n",
       "      <th>CLAGE</th>\n",
       "      <th>NINQ</th>\n",
       "      <th>CLNO</th>\n",
       "      <th>DEBTINC</th>\n",
       "    </tr>\n",
       "  </thead>\n",
       "  <tbody>\n",
       "    <tr>\n",
       "      <th>0</th>\n",
       "      <td>1</td>\n",
       "      <td>641.0</td>\n",
       "      <td>1100</td>\n",
       "      <td>25860.0</td>\n",
       "      <td>39025.0</td>\n",
       "      <td>HomeImp</td>\n",
       "      <td>Other</td>\n",
       "      <td>10.5</td>\n",
       "      <td>0.0</td>\n",
       "      <td>0.0</td>\n",
       "      <td>94.366667</td>\n",
       "      <td>1.0</td>\n",
       "      <td>9.0</td>\n",
       "      <td>NaN</td>\n",
       "    </tr>\n",
       "    <tr>\n",
       "      <th>1</th>\n",
       "      <td>1</td>\n",
       "      <td>1109.0</td>\n",
       "      <td>1300</td>\n",
       "      <td>70053.0</td>\n",
       "      <td>68400.0</td>\n",
       "      <td>HomeImp</td>\n",
       "      <td>Other</td>\n",
       "      <td>7.0</td>\n",
       "      <td>0.0</td>\n",
       "      <td>2.0</td>\n",
       "      <td>121.833333</td>\n",
       "      <td>0.0</td>\n",
       "      <td>14.0</td>\n",
       "      <td>NaN</td>\n",
       "    </tr>\n",
       "    <tr>\n",
       "      <th>2</th>\n",
       "      <td>1</td>\n",
       "      <td>767.0</td>\n",
       "      <td>1500</td>\n",
       "      <td>13500.0</td>\n",
       "      <td>16700.0</td>\n",
       "      <td>HomeImp</td>\n",
       "      <td>Other</td>\n",
       "      <td>4.0</td>\n",
       "      <td>0.0</td>\n",
       "      <td>0.0</td>\n",
       "      <td>149.466667</td>\n",
       "      <td>1.0</td>\n",
       "      <td>10.0</td>\n",
       "      <td>NaN</td>\n",
       "    </tr>\n",
       "    <tr>\n",
       "      <th>3</th>\n",
       "      <td>1</td>\n",
       "      <td>1425.0</td>\n",
       "      <td>1500</td>\n",
       "      <td>NaN</td>\n",
       "      <td>NaN</td>\n",
       "      <td>NaN</td>\n",
       "      <td>NaN</td>\n",
       "      <td>NaN</td>\n",
       "      <td>NaN</td>\n",
       "      <td>NaN</td>\n",
       "      <td>NaN</td>\n",
       "      <td>NaN</td>\n",
       "      <td>NaN</td>\n",
       "      <td>NaN</td>\n",
       "    </tr>\n",
       "    <tr>\n",
       "      <th>4</th>\n",
       "      <td>0</td>\n",
       "      <td>NaN</td>\n",
       "      <td>1700</td>\n",
       "      <td>97800.0</td>\n",
       "      <td>112000.0</td>\n",
       "      <td>HomeImp</td>\n",
       "      <td>Office</td>\n",
       "      <td>3.0</td>\n",
       "      <td>0.0</td>\n",
       "      <td>0.0</td>\n",
       "      <td>93.333333</td>\n",
       "      <td>0.0</td>\n",
       "      <td>14.0</td>\n",
       "      <td>NaN</td>\n",
       "    </tr>\n",
       "  </tbody>\n",
       "</table>\n",
       "</div>"
      ],
      "text/plain": [
       "   TARGET_BAD_FLAG  TARGET_LOSS_AMT  LOAN  MORTDUE     VALUE   REASON     JOB  \\\n",
       "0                1            641.0  1100  25860.0   39025.0  HomeImp   Other   \n",
       "1                1           1109.0  1300  70053.0   68400.0  HomeImp   Other   \n",
       "2                1            767.0  1500  13500.0   16700.0  HomeImp   Other   \n",
       "3                1           1425.0  1500      NaN       NaN      NaN     NaN   \n",
       "4                0              NaN  1700  97800.0  112000.0  HomeImp  Office   \n",
       "\n",
       "    YOJ  DEROG  DELINQ       CLAGE  NINQ  CLNO  DEBTINC  \n",
       "0  10.5    0.0     0.0   94.366667   1.0   9.0      NaN  \n",
       "1   7.0    0.0     2.0  121.833333   0.0  14.0      NaN  \n",
       "2   4.0    0.0     0.0  149.466667   1.0  10.0      NaN  \n",
       "3   NaN    NaN     NaN         NaN   NaN   NaN      NaN  \n",
       "4   3.0    0.0     0.0   93.333333   0.0  14.0      NaN  "
      ]
     },
     "execution_count": 4,
     "metadata": {},
     "output_type": "execute_result"
    }
   ],
   "source": [
    "# filename\n",
    "filename = \"C:\\\\Users\\\\17204\\\\Documents\\\\git\\\\MSDS_coursework\\\\422\\\\Assignment_1\\\\HMEQ_Loss.csv\"\n",
    "\n",
    "# load into a dataframe\n",
    "hw_df = pd.read_csv(filename)\n",
    "\n",
    "hw_df.head() # display. I recommend checking out vscode with jupyter notebooks:)\n"
   ]
  },
  {
   "cell_type": "markdown",
   "metadata": {},
   "source": [
    "### Look at dataframe with Statistical Techniques\n",
    "\n",
    "\n",
    "#### numeric data\n",
    "From the videos I assume this just means using df.describe().\n",
    "\n",
    "Could also be interesting to look at things like skew, or any outliers etc."
   ]
  },
  {
   "cell_type": "code",
   "execution_count": 5,
   "metadata": {},
   "outputs": [
    {
     "data": {
      "text/html": [
       "<div>\n",
       "<style scoped>\n",
       "    .dataframe tbody tr th:only-of-type {\n",
       "        vertical-align: middle;\n",
       "    }\n",
       "\n",
       "    .dataframe tbody tr th {\n",
       "        vertical-align: top;\n",
       "    }\n",
       "\n",
       "    .dataframe thead th {\n",
       "        text-align: right;\n",
       "    }\n",
       "</style>\n",
       "<table border=\"1\" class=\"dataframe\">\n",
       "  <thead>\n",
       "    <tr style=\"text-align: right;\">\n",
       "      <th></th>\n",
       "      <th>count</th>\n",
       "      <th>mean</th>\n",
       "      <th>std</th>\n",
       "      <th>min</th>\n",
       "      <th>25%</th>\n",
       "      <th>50%</th>\n",
       "      <th>75%</th>\n",
       "      <th>max</th>\n",
       "    </tr>\n",
       "  </thead>\n",
       "  <tbody>\n",
       "    <tr>\n",
       "      <th>TARGET_BAD_FLAG</th>\n",
       "      <td>5960.0</td>\n",
       "      <td>0.199497</td>\n",
       "      <td>0.399656</td>\n",
       "      <td>0.000000</td>\n",
       "      <td>0.000000</td>\n",
       "      <td>0.000000</td>\n",
       "      <td>0.000000</td>\n",
       "      <td>1.000000</td>\n",
       "    </tr>\n",
       "    <tr>\n",
       "      <th>TARGET_LOSS_AMT</th>\n",
       "      <td>1189.0</td>\n",
       "      <td>13414.576955</td>\n",
       "      <td>10839.455965</td>\n",
       "      <td>224.000000</td>\n",
       "      <td>5639.000000</td>\n",
       "      <td>11003.000000</td>\n",
       "      <td>17634.000000</td>\n",
       "      <td>78987.000000</td>\n",
       "    </tr>\n",
       "    <tr>\n",
       "      <th>LOAN</th>\n",
       "      <td>5960.0</td>\n",
       "      <td>18607.969799</td>\n",
       "      <td>11207.480417</td>\n",
       "      <td>1100.000000</td>\n",
       "      <td>11100.000000</td>\n",
       "      <td>16300.000000</td>\n",
       "      <td>23300.000000</td>\n",
       "      <td>89900.000000</td>\n",
       "    </tr>\n",
       "    <tr>\n",
       "      <th>MORTDUE</th>\n",
       "      <td>5442.0</td>\n",
       "      <td>73760.817200</td>\n",
       "      <td>44457.609458</td>\n",
       "      <td>2063.000000</td>\n",
       "      <td>46276.000000</td>\n",
       "      <td>65019.000000</td>\n",
       "      <td>91488.000000</td>\n",
       "      <td>399550.000000</td>\n",
       "    </tr>\n",
       "    <tr>\n",
       "      <th>VALUE</th>\n",
       "      <td>5848.0</td>\n",
       "      <td>101776.048741</td>\n",
       "      <td>57385.775334</td>\n",
       "      <td>8000.000000</td>\n",
       "      <td>66075.500000</td>\n",
       "      <td>89235.500000</td>\n",
       "      <td>119824.250000</td>\n",
       "      <td>855909.000000</td>\n",
       "    </tr>\n",
       "    <tr>\n",
       "      <th>YOJ</th>\n",
       "      <td>5445.0</td>\n",
       "      <td>8.922268</td>\n",
       "      <td>7.573982</td>\n",
       "      <td>0.000000</td>\n",
       "      <td>3.000000</td>\n",
       "      <td>7.000000</td>\n",
       "      <td>13.000000</td>\n",
       "      <td>41.000000</td>\n",
       "    </tr>\n",
       "    <tr>\n",
       "      <th>DEROG</th>\n",
       "      <td>5252.0</td>\n",
       "      <td>0.254570</td>\n",
       "      <td>0.846047</td>\n",
       "      <td>0.000000</td>\n",
       "      <td>0.000000</td>\n",
       "      <td>0.000000</td>\n",
       "      <td>0.000000</td>\n",
       "      <td>10.000000</td>\n",
       "    </tr>\n",
       "    <tr>\n",
       "      <th>DELINQ</th>\n",
       "      <td>5380.0</td>\n",
       "      <td>0.449442</td>\n",
       "      <td>1.127266</td>\n",
       "      <td>0.000000</td>\n",
       "      <td>0.000000</td>\n",
       "      <td>0.000000</td>\n",
       "      <td>0.000000</td>\n",
       "      <td>15.000000</td>\n",
       "    </tr>\n",
       "    <tr>\n",
       "      <th>CLAGE</th>\n",
       "      <td>5652.0</td>\n",
       "      <td>179.766275</td>\n",
       "      <td>85.810092</td>\n",
       "      <td>0.000000</td>\n",
       "      <td>115.116702</td>\n",
       "      <td>173.466667</td>\n",
       "      <td>231.562278</td>\n",
       "      <td>1168.233561</td>\n",
       "    </tr>\n",
       "    <tr>\n",
       "      <th>NINQ</th>\n",
       "      <td>5450.0</td>\n",
       "      <td>1.186055</td>\n",
       "      <td>1.728675</td>\n",
       "      <td>0.000000</td>\n",
       "      <td>0.000000</td>\n",
       "      <td>1.000000</td>\n",
       "      <td>2.000000</td>\n",
       "      <td>17.000000</td>\n",
       "    </tr>\n",
       "    <tr>\n",
       "      <th>CLNO</th>\n",
       "      <td>5738.0</td>\n",
       "      <td>21.296096</td>\n",
       "      <td>10.138933</td>\n",
       "      <td>0.000000</td>\n",
       "      <td>15.000000</td>\n",
       "      <td>20.000000</td>\n",
       "      <td>26.000000</td>\n",
       "      <td>71.000000</td>\n",
       "    </tr>\n",
       "    <tr>\n",
       "      <th>DEBTINC</th>\n",
       "      <td>4693.0</td>\n",
       "      <td>33.779915</td>\n",
       "      <td>8.601746</td>\n",
       "      <td>0.524499</td>\n",
       "      <td>29.140031</td>\n",
       "      <td>34.818262</td>\n",
       "      <td>39.003141</td>\n",
       "      <td>203.312149</td>\n",
       "    </tr>\n",
       "  </tbody>\n",
       "</table>\n",
       "</div>"
      ],
      "text/plain": [
       "                  count           mean           std          min  \\\n",
       "TARGET_BAD_FLAG  5960.0       0.199497      0.399656     0.000000   \n",
       "TARGET_LOSS_AMT  1189.0   13414.576955  10839.455965   224.000000   \n",
       "LOAN             5960.0   18607.969799  11207.480417  1100.000000   \n",
       "MORTDUE          5442.0   73760.817200  44457.609458  2063.000000   \n",
       "VALUE            5848.0  101776.048741  57385.775334  8000.000000   \n",
       "YOJ              5445.0       8.922268      7.573982     0.000000   \n",
       "DEROG            5252.0       0.254570      0.846047     0.000000   \n",
       "DELINQ           5380.0       0.449442      1.127266     0.000000   \n",
       "CLAGE            5652.0     179.766275     85.810092     0.000000   \n",
       "NINQ             5450.0       1.186055      1.728675     0.000000   \n",
       "CLNO             5738.0      21.296096     10.138933     0.000000   \n",
       "DEBTINC          4693.0      33.779915      8.601746     0.524499   \n",
       "\n",
       "                          25%           50%            75%            max  \n",
       "TARGET_BAD_FLAG      0.000000      0.000000       0.000000       1.000000  \n",
       "TARGET_LOSS_AMT   5639.000000  11003.000000   17634.000000   78987.000000  \n",
       "LOAN             11100.000000  16300.000000   23300.000000   89900.000000  \n",
       "MORTDUE          46276.000000  65019.000000   91488.000000  399550.000000  \n",
       "VALUE            66075.500000  89235.500000  119824.250000  855909.000000  \n",
       "YOJ                  3.000000      7.000000      13.000000      41.000000  \n",
       "DEROG                0.000000      0.000000       0.000000      10.000000  \n",
       "DELINQ               0.000000      0.000000       0.000000      15.000000  \n",
       "CLAGE              115.116702    173.466667     231.562278    1168.233561  \n",
       "NINQ                 0.000000      1.000000       2.000000      17.000000  \n",
       "CLNO                15.000000     20.000000      26.000000      71.000000  \n",
       "DEBTINC             29.140031     34.818262      39.003141     203.312149  "
      ]
     },
     "execution_count": 5,
     "metadata": {},
     "output_type": "execute_result"
    }
   ],
   "source": [
    "# .describe() -- this will automatically only pull out the numerical data, not text\n",
    "hw_df.describe().T"
   ]
  },
  {
   "cell_type": "markdown",
   "metadata": {},
   "source": [
    "interesting things:\n",
    "1. 20% of loans are flagged as bad\n",
    "2. One delinquent loan was for 78k. Oof\n",
    "\n",
    "\n",
    "#### Categorical data\n",
    "We'll also take a look using .value_counts on the categorical data\n"
   ]
  },
  {
   "cell_type": "code",
   "execution_count": 6,
   "metadata": {},
   "outputs": [
    {
     "name": "stdout",
     "output_type": "stream",
     "text": [
      "-------------------------------\n",
      "Normalized counts of \"Reason\" Column\n",
      "-------------------------------\n",
      "DebtCon    0.659060\n",
      "HomeImp    0.298658\n",
      "NaN        0.042282\n",
      "Name: REASON, dtype: float64\n",
      "-------------------------------\n",
      "\n",
      "-------------------------------\n",
      "Normalized counts of \"Job\" Column\n",
      "-------------------------------\n",
      "Other      0.400671\n",
      "ProfExe    0.214094\n",
      "Office     0.159060\n",
      "Mgr        0.128691\n",
      "NaN        0.046812\n",
      "Self       0.032383\n",
      "Sales      0.018289\n",
      "Name: JOB, dtype: float64\n",
      "-------------------------------\n",
      "\n"
     ]
    }
   ],
   "source": [
    "sep_str = '-------------------------------'\n",
    "# create a list of the columns that are objects\n",
    "cat_cols = [col for col in hw_df.columns if hw_df[col].dtypes == 'object']\n",
    "\n",
    "# might as well just get the columns for integers and floats, too\n",
    "# alternatively I could use unique() on cols to get a list of types, then make a dict\n",
    "# with dtype as the key and the column name list as the entries\n",
    "# for a future situation\n",
    "int_cols = [col for col in hw_df.columns if hw_df[col].dtypes == 'int64']\n",
    "float_cols = [col for col in hw_df.columns if hw_df[col].dtypes == 'float64']\n",
    "\n",
    "# display their value_counts\n",
    "for col in cat_cols:\n",
    "    print(f\"{sep_str}\\nNormalized counts of \\\"{col.capitalize()}\\\" Column\\n{sep_str}\\n{hw_df[col].value_counts(normalize=True, dropna=False)}\\n{sep_str}\\n\")"
   ]
  },
  {
   "cell_type": "markdown",
   "metadata": {},
   "source": [
    "### Plotting some values\n",
    "An easy way to explore some of the data.\n",
    "\n",
    "Let's go ahead and do some histograms for the continuous variables."
   ]
  },
  {
   "cell_type": "code",
   "execution_count": 7,
   "metadata": {},
   "outputs": [
    {
     "data": {
      "image/png": "[encoded data removed]",
      "text/plain": [
       "<Figure size 432x288 with 1 Axes>"
      ]
     },
     "metadata": {},
     "output_type": "display_data"
    },
    {
     "data": {
      "image/png": "[encoded data removed]",
      "text/plain": [
       "<Figure size 432x288 with 1 Axes>"
      ]
     },
     "metadata": {},
     "output_type": "display_data"
    },
    {
     "data": {
      "image/png": "[encoded data removed]",
      "text/plain": [
       "<Figure size 432x288 with 1 Axes>"
      ]
     },
     "metadata": {},
     "output_type": "display_data"
    },
    {
     "data": {
      "image/png": "[encoded data removed]",
      "text/plain": [
       "<Figure size 432x288 with 1 Axes>"
      ]
     },
     "metadata": {},
     "output_type": "display_data"
    },
    {
     "data": {
      "image/png": "[encoded data removed]",
      "text/plain": [
       "<Figure size 432x288 with 1 Axes>"
      ]
     },
     "metadata": {},
     "output_type": "display_data"
    },
    {
     "data": {
      "image/png": "[encoded data removed]",
      "text/plain": [
       "<Figure size 432x288 with 1 Axes>"
      ]
     },
     "metadata": {},
     "output_type": "display_data"
    },
    {
     "data": {
      "image/png": "[encoded data removed]",
      "text/plain": [
       "<Figure size 432x288 with 1 Axes>"
      ]
     },
     "metadata": {},
     "output_type": "display_data"
    },
    {
     "data": {
      "image/png": "[encoded data removed]",
      "text/plain": [
       "<Figure size 432x288 with 1 Axes>"
      ]
     },
     "metadata": {},
     "output_type": "display_data"
    },
    {
     "data": {
      "image/png": "[encoded data removed]",
      "text/plain": [
       "<Figure size 432x288 with 1 Axes>"
      ]
     },
     "metadata": {},
     "output_type": "display_data"
    },
    {
     "data": {
      "image/png": "[encoded data removed]",
      "text/plain": [
       "<Figure size 432x288 with 1 Axes>"
      ]
     },
     "metadata": {},
     "output_type": "display_data"
    }
   ],
   "source": [
    "# histogram for each plot\n",
    "for col in float_cols:\n",
    "    fig,ax = plt.subplots()\n",
    "    ax.hist(hw_df[col], rwidth=.9)\n",
    "    ax.set_title(f\"Distribution of {col.capitalize()}\")\n",
    "    fig.patch.set_facecolor('white')\n",
    "    ax.spines[:].set_color(\"None\")"
   ]
  },
  {
   "cell_type": "markdown",
   "metadata": {},
   "source": [
    "#### Pie plots for the categorical datasets\n"
   ]
  },
  {
   "cell_type": "code",
   "execution_count": 8,
   "metadata": {},
   "outputs": [
    {
     "data": {
      "image/png": "[encoded data removed]",
      "text/plain": [
       "<Figure size 432x288 with 1 Axes>"
      ]
     },
     "metadata": {},
     "output_type": "display_data"
    },
    {
     "data": {
      "image/png": "[encoded data removed]",
      "text/plain": [
       "<Figure size 432x288 with 1 Axes>"
      ]
     },
     "metadata": {},
     "output_type": "display_data"
    }
   ],
   "source": [
    "# I like this colormap better\n",
    "\n",
    "cs = plt.cm.coolwarm_r(np.arange(10)/10)\n",
    "\n",
    "for col in cat_cols:\n",
    "    counts = hw_df[col].value_counts()\n",
    "    fig,ax = plt.subplots()\n",
    "    ax.pie(counts.values, labels=counts.index.values, colors=cs)\n",
    "    ax.spines[:].set_color(\"None\")\n",
    "    fig.patch.set_facecolor(\"White\")\n",
    "    ax.set_title(f\"Proportions of categories for {col.lower()}\")"
   ]
  },
  {
   "cell_type": "markdown",
   "metadata": {},
   "source": [
    "#### And for integer values\n",
    "\n",
    "from above, it looks like the \"target_bad_flag\" is just 0/1, whereas the loan is a full range. \n",
    "We'll do a pie plot for \"target_bad_flag\", and a histogram for \"loan\""
   ]
  },
  {
   "cell_type": "code",
   "execution_count": 9,
   "metadata": {},
   "outputs": [
    {
     "data": {
      "image/png": "[encoded data removed]",
      "text/plain": [
       "<Figure size 432x288 with 1 Axes>"
      ]
     },
     "metadata": {},
     "output_type": "display_data"
    },
    {
     "data": {
      "image/png": "[encoded data removed]",
      "text/plain": [
       "<Figure size 432x288 with 1 Axes>"
      ]
     },
     "metadata": {},
     "output_type": "display_data"
    }
   ],
   "source": [
    "# I like this colormap better\n",
    "cs = plt.cm.coolwarm_r(np.arange(10)/10)\n",
    "\n",
    "# pie plot for target_bad_flag\n",
    "counts = hw_df[\"TARGET_BAD_FLAG\"].replace({0:\"Good\",1:\"Bad\"}).value_counts()\n",
    "fig,ax = plt.subplots()\n",
    "ax.pie(counts.values, labels=counts.index.values, colors=cs)\n",
    "ax.spines[:].set_color(\"None\")\n",
    "fig.patch.set_facecolor(\"White\")\n",
    "ax.set_title(f\"Proportions of categories for TARGET_BAD_FLAG\")\n",
    "\n",
    "\n",
    "\n",
    "# and the histogram for \"loan\"\n",
    "fig,ax = plt.subplots()\n",
    "ax.hist(hw_df[\"LOAN\"], rwidth=.9)\n",
    "ax.set_title(f\"Distribution of LOAN\")\n",
    "fig.patch.set_facecolor('white')\n",
    "ax.spines[:].set_color(\"None\")"
   ]
  },
  {
   "cell_type": "markdown",
   "metadata": {},
   "source": [
    "### Looking at relationships\n",
    "\n",
    "We'll start by just using the groupby expressions with categorical variables."
   ]
  },
  {
   "cell_type": "code",
   "execution_count": 10,
   "metadata": {},
   "outputs": [
    {
     "name": "stdout",
     "output_type": "stream",
     "text": [
      "        TARGET_BAD_FLAG TARGET_LOSS_AMT\n",
      "                   mean          median\n",
      "REASON                                 \n",
      "DebtCon        0.189664         13630.0\n",
      "HomeImp        0.222472          5784.5\n",
      "\n",
      "        TARGET_BAD_FLAG TARGET_LOSS_AMT\n",
      "                   mean          median\n",
      "JOB                                    \n",
      "Mgr            0.233377         12779.0\n",
      "Office         0.131857         10208.0\n",
      "Other          0.231993          9332.0\n",
      "ProfExe        0.166144         12438.5\n",
      "Sales          0.348624         15614.0\n",
      "Self           0.300518         18484.5\n",
      "\n"
     ]
    }
   ],
   "source": [
    "# for each categorical column we're looking at the percentage of loans that went bad and how much they defaulted on\n",
    "for col in cat_cols:\n",
    "    print(f\"{hw_df[[col, 'TARGET_BAD_FLAG', 'TARGET_LOSS_AMT']].groupby(col).agg({'TARGET_BAD_FLAG':['mean'],'TARGET_LOSS_AMT':'median'})}\\n\")\n"
   ]
  },
  {
   "cell_type": "markdown",
   "metadata": {},
   "source": [
    "From above, folks are slighly more likely to default on loans involved with home improvement than consolidation. However, the loss amounts are smaller than with consolidation.Also it looks like self employed and sales folks are more likely to default, and the loss amount is the highest for them. \n",
    "However, those two categories have by far the fewest number of people, so we would likely take that with a grain of salt\n",
    "\n",
    "We haven't done any analysis to see how desciptive these findings are, but it looks like both employement type and loan reason could be potentially useful when predicting whether someone will default.\n",
    "\n",
    "\n",
    "\n",
    "To see whether the continuous variables are useful, we'll take a look at some other, more interesting stuff.\n",
    "\n",
    "1. The covariance between the variable and the loan amount.\n",
    "2. The percentage of defaults for each quantile of the variable"
   ]
  },
  {
   "cell_type": "code",
   "execution_count": 11,
   "metadata": {},
   "outputs": [
    {
     "name": "stdout",
     "output_type": "stream",
     "text": [
      "Correlation between MORTDUE and the Loss Amount: 0.15\n",
      "Percentage of defaulted loans per each quartile of MORTDUE \n",
      "First: 0.24, Second: 0.21, Third: 0.17, Fourth: 0.17\n",
      "\n",
      "Correlation between VALUE and the Loss Amount: 0.18\n",
      "Percentage of defaulted loans per each quartile of VALUE \n",
      "First: 0.23, Second: 0.20, Third: 0.14, Fourth: 0.18\n",
      "\n",
      "Correlation between YOJ and the Loss Amount: -0.00\n",
      "Percentage of defaulted loans per each quartile of YOJ \n",
      "First: 0.24, Second: 0.21, Third: 0.19, Fourth: 0.18\n",
      "\n",
      "Correlation between DEROG and the Loss Amount: 0.13\n",
      "Percentage of defaulted loans per each quartile of DEROG \n",
      "First: nan, Second: nan, Third: nan, Fourth: 0.48\n",
      "\n",
      "Correlation between DELINQ and the Loss Amount: 0.24\n",
      "Percentage of defaulted loans per each quartile of DELINQ \n",
      "First: nan, Second: nan, Third: nan, Fourth: 0.44\n",
      "\n",
      "Correlation between CLAGE and the Loss Amount: -0.03\n",
      "Percentage of defaulted loans per each quartile of CLAGE \n",
      "First: 0.28, Second: 0.24, Third: 0.15, Fourth: 0.11\n",
      "\n",
      "Correlation between NINQ and the Loss Amount: 0.12\n",
      "Percentage of defaulted loans per each quartile of NINQ \n",
      "First: nan, Second: nan, Third: nan, Fourth: 0.35\n",
      "\n",
      "Correlation between CLNO and the Loss Amount: 0.20\n",
      "Percentage of defaulted loans per each quartile of CLNO \n",
      "First: 0.23, Second: 0.16, Third: 0.17, Fourth: 0.23\n",
      "\n",
      "Correlation between DEBTINC and the Loss Amount: 0.13\n",
      "Percentage of defaulted loans per each quartile of DEBTINC \n",
      "First: 0.05, Second: 0.07, Third: 0.07, Fourth: 0.14\n",
      "\n"
     ]
    }
   ],
   "source": [
    "for col in float_cols:\n",
    "    if col == \"TARGET_LOSS_AMT\": continue\n",
    "    new_df = hw_df[[col, 'TARGET_LOSS_AMT', 'TARGET_BAD_FLAG']].fillna({col:hw_df[col].median(), 'TARGET_LOSS_AMT':hw_df['TARGET_LOSS_AMT'].median()}, )\n",
    "    print(f\"Correlation between {col} and the Loss Amount: {np.corrcoef(new_df[col], new_df['TARGET_LOSS_AMT'])[0,1]:.2f}\")\n",
    "    # calculate the quartiles\n",
    "    quart = np.quantile(new_df[col],[.25, .5, .75])\n",
    "    print(  f\"Percentage of defaulted loans per each quartile of {col} \\n\"\n",
    "            f\"First: {new_df['TARGET_BAD_FLAG'].loc[new_df[col].lt(quart[0])].mean():.2f}, \"\n",
    "            f\"Second: {new_df['TARGET_BAD_FLAG'].loc[new_df[col].gt(quart[0]) & new_df[col].lt(quart[1])].mean():.2f}, \"\n",
    "            f\"Third: {new_df['TARGET_BAD_FLAG'].loc[new_df[col].gt(quart[1]) & new_df[col].lt(quart[2])].mean():.2f}, \"\n",
    "            f\"Fourth: {new_df['TARGET_BAD_FLAG'].loc[new_df[col].gt(quart[2])].mean():.2f}\\n\")\n"
   ]
  },
  {
   "cell_type": "markdown",
   "metadata": {},
   "source": [
    "So that's fairly interesting. There only seems to be a loose correlation between most of the fields and the amount lost.\n",
    "There does seem to be some association between things like the number of years on the job and the age of the borrow's Credit Line and the likelihood that they will default.\n",
    "\n",
    "\n",
    "Finally, let's take a look at the relationship between the amount borrowed and the amount lost (likely to be very correlated) and the likelihood of defaulting (no idea). Since this is functionally the same as the floats above, but just is an integer instead we will just use the same code."
   ]
  },
  {
   "cell_type": "code",
   "execution_count": 12,
   "metadata": {},
   "outputs": [
    {
     "name": "stdout",
     "output_type": "stream",
     "text": [
      "Correlation between LOAN and the Loss Amount: 0.36\n",
      "Percentage of defaulted loans per each quartile of LOAN \n",
      "First: 0.28, Second: 0.20, Third: 0.15, Fourth: 0.17\n",
      "\n"
     ]
    }
   ],
   "source": [
    "for col in int_cols:\n",
    "    if col in [\"TARGET_BAD_FLAG\"]: continue\n",
    "    new_df = hw_df[[col, 'TARGET_LOSS_AMT', 'TARGET_BAD_FLAG']].fillna({col:hw_df[col].median(), 'TARGET_LOSS_AMT':hw_df['TARGET_LOSS_AMT'].median()}, )\n",
    "    print(f\"Correlation between {col} and the Loss Amount: {np.corrcoef(new_df[col], new_df['TARGET_LOSS_AMT'])[0,1]:.2f}\")\n",
    "    # calculate the quartiles\n",
    "    quart = np.quantile(new_df[col],[.25, .5, .75])\n",
    "    print(  f\"Percentage of defaulted loans per each quartile of {col} \\n\"\n",
    "            f\"First: {new_df['TARGET_BAD_FLAG'].loc[new_df[col].lt(quart[0])].mean():.2f}, \"\n",
    "            f\"Second: {new_df['TARGET_BAD_FLAG'].loc[new_df[col].gt(quart[0]) & new_df[col].lt(quart[1])].mean():.2f}, \"\n",
    "            f\"Third: {new_df['TARGET_BAD_FLAG'].loc[new_df[col].gt(quart[1]) & new_df[col].lt(quart[2])].mean():.2f}, \"\n",
    "            f\"Fourth: {new_df['TARGET_BAD_FLAG'].loc[new_df[col].gt(quart[2])].mean():.2f}\\n\")\n",
    "\n"
   ]
  },
  {
   "cell_type": "markdown",
   "metadata": {},
   "source": [
    "So it looks like folks with higher loan amounts default on more money (not a surprise), but folks with smaller loans seem to be slightly\n",
    "more likely to default. Huh.\n",
    "\n",
    "### Imputation\n",
    "Time to fill in all of those NaNs. \n",
    "\n",
    "I noticed that most of the distributions are fairly skewed, so we'll fill using the median rather than the mean for numeric variables.\n",
    "\n",
    "For categorical variables, we'll do different things for each. For the \"Reason\" field, two-thirds of loans were due to consolidation and the number of NaNs is very low so we'll just set all NaNs to \"DebtCon\". For the JOB field we will just set the missing values to \"MISSING\" since there doesn't seem to be a value that's quite as dominant and there are actually more \"NaN\"s than \"Self\" or \"Sales\" folks"
   ]
  },
  {
   "cell_type": "code",
   "execution_count": 13,
   "metadata": {},
   "outputs": [
    {
     "data": {
      "text/html": [
       "<div>\n",
       "<style scoped>\n",
       "    .dataframe tbody tr th:only-of-type {\n",
       "        vertical-align: middle;\n",
       "    }\n",
       "\n",
       "    .dataframe tbody tr th {\n",
       "        vertical-align: top;\n",
       "    }\n",
       "\n",
       "    .dataframe thead th {\n",
       "        text-align: right;\n",
       "    }\n",
       "</style>\n",
       "<table border=\"1\" class=\"dataframe\">\n",
       "  <thead>\n",
       "    <tr style=\"text-align: right;\">\n",
       "      <th></th>\n",
       "      <th>impute_MORTDUE</th>\n",
       "      <th>impute_VALUE</th>\n",
       "      <th>impute_YOJ</th>\n",
       "      <th>impute_DEROG</th>\n",
       "      <th>impute_DELINQ</th>\n",
       "      <th>impute_CLAGE</th>\n",
       "      <th>impute_NINQ</th>\n",
       "      <th>impute_CLNO</th>\n",
       "      <th>impute_DEBTINC</th>\n",
       "      <th>impute_LOAN</th>\n",
       "      <th>impute_REASON</th>\n",
       "      <th>impute_JOB</th>\n",
       "    </tr>\n",
       "  </thead>\n",
       "  <tbody>\n",
       "    <tr>\n",
       "      <th>0</th>\n",
       "      <td>25860.0</td>\n",
       "      <td>39025.0</td>\n",
       "      <td>10.5</td>\n",
       "      <td>0.0</td>\n",
       "      <td>0.0</td>\n",
       "      <td>94.366667</td>\n",
       "      <td>1.0</td>\n",
       "      <td>9.0</td>\n",
       "      <td>34.818262</td>\n",
       "      <td>1100</td>\n",
       "      <td>HomeImp</td>\n",
       "      <td>Other</td>\n",
       "    </tr>\n",
       "    <tr>\n",
       "      <th>1</th>\n",
       "      <td>70053.0</td>\n",
       "      <td>68400.0</td>\n",
       "      <td>7.0</td>\n",
       "      <td>0.0</td>\n",
       "      <td>2.0</td>\n",
       "      <td>121.833333</td>\n",
       "      <td>0.0</td>\n",
       "      <td>14.0</td>\n",
       "      <td>34.818262</td>\n",
       "      <td>1300</td>\n",
       "      <td>HomeImp</td>\n",
       "      <td>Other</td>\n",
       "    </tr>\n",
       "    <tr>\n",
       "      <th>2</th>\n",
       "      <td>13500.0</td>\n",
       "      <td>16700.0</td>\n",
       "      <td>4.0</td>\n",
       "      <td>0.0</td>\n",
       "      <td>0.0</td>\n",
       "      <td>149.466667</td>\n",
       "      <td>1.0</td>\n",
       "      <td>10.0</td>\n",
       "      <td>34.818262</td>\n",
       "      <td>1500</td>\n",
       "      <td>HomeImp</td>\n",
       "      <td>Other</td>\n",
       "    </tr>\n",
       "    <tr>\n",
       "      <th>3</th>\n",
       "      <td>65019.0</td>\n",
       "      <td>89235.5</td>\n",
       "      <td>7.0</td>\n",
       "      <td>0.0</td>\n",
       "      <td>0.0</td>\n",
       "      <td>173.466667</td>\n",
       "      <td>1.0</td>\n",
       "      <td>20.0</td>\n",
       "      <td>34.818262</td>\n",
       "      <td>1500</td>\n",
       "      <td>DebtCon</td>\n",
       "      <td>MISSING</td>\n",
       "    </tr>\n",
       "    <tr>\n",
       "      <th>4</th>\n",
       "      <td>97800.0</td>\n",
       "      <td>112000.0</td>\n",
       "      <td>3.0</td>\n",
       "      <td>0.0</td>\n",
       "      <td>0.0</td>\n",
       "      <td>93.333333</td>\n",
       "      <td>0.0</td>\n",
       "      <td>14.0</td>\n",
       "      <td>34.818262</td>\n",
       "      <td>1700</td>\n",
       "      <td>HomeImp</td>\n",
       "      <td>Office</td>\n",
       "    </tr>\n",
       "  </tbody>\n",
       "</table>\n",
       "</div>"
      ],
      "text/plain": [
       "   impute_MORTDUE  impute_VALUE  impute_YOJ  impute_DEROG  impute_DELINQ  \\\n",
       "0         25860.0       39025.0        10.5           0.0            0.0   \n",
       "1         70053.0       68400.0         7.0           0.0            2.0   \n",
       "2         13500.0       16700.0         4.0           0.0            0.0   \n",
       "3         65019.0       89235.5         7.0           0.0            0.0   \n",
       "4         97800.0      112000.0         3.0           0.0            0.0   \n",
       "\n",
       "   impute_CLAGE  impute_NINQ  impute_CLNO  impute_DEBTINC  impute_LOAN  \\\n",
       "0     94.366667          1.0          9.0       34.818262         1100   \n",
       "1    121.833333          0.0         14.0       34.818262         1300   \n",
       "2    149.466667          1.0         10.0       34.818262         1500   \n",
       "3    173.466667          1.0         20.0       34.818262         1500   \n",
       "4     93.333333          0.0         14.0       34.818262         1700   \n",
       "\n",
       "  impute_REASON impute_JOB  \n",
       "0       HomeImp      Other  \n",
       "1       HomeImp      Other  \n",
       "2       HomeImp      Other  \n",
       "3       DebtCon    MISSING  \n",
       "4       HomeImp     Office  "
      ]
     },
     "execution_count": 13,
     "metadata": {},
     "output_type": "execute_result"
    }
   ],
   "source": [
    "# Numeric values\n",
    "numeric_cols = float_cols + int_cols# copy\n",
    "# drop the \"TARGET\" columns\n",
    "numeric_cols = [col for col in numeric_cols\\\n",
    "    if col not in [\"TARGET_BAD_FLAG\",\"TARGET_LOSS_AMT\"]]\n",
    "# impurt values\n",
    "for col in numeric_cols:\n",
    "    temp_series = hw_df[col].fillna(hw_df[col].median())\n",
    "    hw_df[f\"impute_{col}\"] = temp_series\n",
    "\n",
    "\n",
    "# Reason imputation\n",
    "hw_df['impute_REASON'] = hw_df['REASON'].fillna('DebtCon')\n",
    "\n",
    "# Job imputation\n",
    "hw_df['impute_JOB'] = hw_df['JOB'].fillna('MISSING')\n",
    "\n",
    "impute_cols = [col for col in hw_df.columns if 'impute' in col]\n",
    "hw_df[impute_cols].head()"
   ]
  },
  {
   "cell_type": "markdown",
   "metadata": {},
   "source": [
    "### Convert categorical to numeric values\n",
    "We'll use slightly different methods for REASON vs JOB.\n",
    "\n",
    "Since there are only two REASON values, we'll just create a binary \"IS_DEBTCON\" field.\n",
    "\n",
    "For JOBS we'll do one-hot encoding, with one for each option. If we're using this dataset for future usage I suspect we would just drop the sales and self-employed folks, but not worrying about it right now."
   ]
  },
  {
   "cell_type": "code",
   "execution_count": 14,
   "metadata": {},
   "outputs": [],
   "source": [
    "# REASON\n",
    "hw_df['IS_DEBTCON'] = (hw_df['impute_REASON'] == 'DebtCon').astype(int)\n",
    "\n",
    "# JOB\n",
    "temp_df = pd.get_dummies(hw_df['impute_JOB'], prefix='JOB_')\n",
    "hw_df[temp_df.columns] = temp_df"
   ]
  },
  {
   "cell_type": "code",
   "execution_count": 15,
   "metadata": {},
   "outputs": [
    {
     "data": {
      "text/plain": [
       "0.04414856341976174"
      ]
     },
     "execution_count": 15,
     "metadata": {},
     "output_type": "execute_result"
    }
   ],
   "source": [
    "hw_df.REASON.isna().sum()/hw_df.REASON.count()"
   ]
  },
  {
   "cell_type": "markdown",
   "metadata": {},
   "source": [
    "## Export to excel\n",
    "\n",
    "Could also pickle it, but whatever. This is so we can use it in future weeks"
   ]
  },
  {
   "cell_type": "code",
   "execution_count": 20,
   "metadata": {},
   "outputs": [],
   "source": [
    "fn_export = \"C:\\\\Users\\\\17204\\\\Documents\\\\git\\\\MSDS_coursework\\\\422\\\\Assignment_1\\\\HMEQ_Loss_export.xlsx\"\n",
    "\n",
    "with pd.ExcelWriter(fn_export) as writer:\n",
    "    hw_df.to_excel(writer)"
   ]
  },
  {
   "cell_type": "code",
   "execution_count": null,
   "metadata": {},
   "outputs": [],
   "source": []
  }
 ],
 "metadata": {
  "interpreter": {
   "hash": "92c491c2a05d20bb5820d621268e96449780a673a65873747f5d1ffefeab30c6"
  },
  "kernelspec": {
   "display_name": "Python 3.8.12 ('vtrack_python')",
   "language": "python",
   "name": "python3"
  },
  "language_info": {
   "codemirror_mode": {
    "name": "ipython",
    "version": 3
   },
   "file_extension": ".py",
   "mimetype": "text/x-python",
   "name": "python",
   "nbconvert_exporter": "python",
   "pygments_lexer": "ipython3",
   "version": "3.9.7"
  },
  "orig_nbformat": 4
 },
 "nbformat": 4,
 "nbformat_minor": 2
}
