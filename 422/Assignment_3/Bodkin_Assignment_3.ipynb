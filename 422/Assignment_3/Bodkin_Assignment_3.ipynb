{
 "cells": [
  {
   "cell_type": "markdown",
   "metadata": {},
   "source": [
    "# Assignment 3 MSDS 422\n",
    "Regression based models\n",
    "\n",
    "\n",
    "Linear, Logistic, and other models\n",
    "\n",
    "#### Background\n",
    "We're revisiting the same dataset from the past two weeks -- the home equity loan dataset that we cleaned up in Assignment 1. This week, we'll be creating linear models using linear and logisitic regression\n",
    "\n",
    "\n",
    "#### Set up\n",
    "Let's start by pulling in all of the packages that we'll need"
   ]
  },
  {
   "cell_type": "code",
   "execution_count": 98,
   "metadata": {},
   "outputs": [],
   "source": [
    "import numpy as np\n",
    "import pandas as pd\n",
    "from sklearn.linear_model import LinearRegression, LogisticRegression\n",
    "from sklearn import metrics\n",
    "from sklearn.model_selection import train_test_split, cross_val_score\n",
    "from sklearn.feature_selection import SequentialFeatureSelector\n",
    "from matplotlib import pyplot as plt"
   ]
  },
  {
   "cell_type": "markdown",
   "metadata": {},
   "source": [
    "Pull in the dataset from the previous weeks, plus put together the lists of variables from the decision tree, random forest, and gradient boosting models"
   ]
  },
  {
   "cell_type": "code",
   "execution_count": 4,
   "metadata": {},
   "outputs": [],
   "source": [
    "# I **should** have my .gitignore set up to not upload .xlsx files, so you'll need to change the path here\n",
    "flag_fn = \"HMEQ_Loss_export_flag.xlsx\"\n",
    "flag_df = pd.read_excel(flag_fn)\n",
    "loss_fn = \"HMEQ_Loss_export_loss.xlsx\"\n",
    "loss_df = pd.read_excel(loss_fn)\n",
    "\n",
    "# get rid of the old indices. I need to remember to remove this when exporting in the future... oh well\n",
    "flag_df.drop(columns=['Unnamed: 0'], inplace=True)\n",
    "loss_df.drop(columns=['Unnamed: 0'], inplace=True)\n"
   ]
  },
  {
   "cell_type": "markdown",
   "metadata": {},
   "source": [
    "#### Important predictive fields from previous weeks\n",
    "\n",
    "I could go through and pull in the pickled decision tree etc models for the variable names, but there are so few it doesn't seem worth it\n",
    "\n",
    "<br>\n",
    "\n",
    "_Variables used to build the 'Bad Flag' Decision Tree_\n",
    "\n",
    "['impute_DELINQ', 'impute_VALUE', 'impute_YOJ', 'JOB__Office', 'impute_NINQ', 'impute_CLAGE', 'impute_CLNO', 'impute_LOAN', 'impute_DEROG', 'impute_DEBTINC', 'impute_MORTDUE']\n",
    "\n",
    "\n",
    "<br>\n",
    "\n",
    "_Variables used to build the 'Loss Amt' Regression Tree_\n",
    "\n",
    "['impute_DELINQ', 'impute_VALUE', 'JOB__Self', 'impute_YOJ', 'JOB__Other', 'impute_NINQ', 'impute_CLNO', 'impute_CLAGE', 'impute_LOAN', 'IS_DEBTCON', 'JOB__Mgr', 'JOB__ProfExe', 'impute_DEROG', 'impute_DEBTINC', 'impute_MORTDUE']\n",
    "\n",
    "<br>\n",
    "<br>\n",
    "\n",
    "_'Bad Flag' Random Forest important variables_\n",
    "\n",
    "['impute_VALUE', 'impute_DEROG', 'impute_DELINQ', 'impute_CLAGE', 'impute_CLNO', 'impute_DEBTINC', 'impute_LOAN']\n",
    "\n",
    "<br>\n",
    "\n",
    "_Loss Prediction important variables_\n",
    "\n",
    "['impute_CLNO', 'impute_DEBTINC', 'impute_LOAN']\n",
    "\n",
    "<br>\n",
    "<br>\n",
    "\n",
    "_'Bad Flag' Gradient Boosting important variables_\n",
    "\n",
    "['impute_DEROG', 'impute_DELINQ', 'impute_CLAGE', 'impute_DEBTINC']\n",
    "\n",
    "<br>\n",
    "\n",
    "_Loss Prediction important variables_\n",
    "\n",
    "['impute_CLNO', 'impute_DEBTINC', 'impute_LOAN']\n",
    "\n",
    "<br>\n",
    "\n",
    "_notice that the random forest and gradient boosting regressors have the same variables. May rerun the code from last assignment to see if I can change that up a little_"
   ]
  },
  {
   "cell_type": "code",
   "execution_count": 5,
   "metadata": {},
   "outputs": [],
   "source": [
    "# so let's just bring those in as lists. Fortunately it's easy to parse this with vim keybindings, heyo\n",
    "flag_dt_vars = ['impute_DELINQ', 'impute_VALUE', 'impute_YOJ', 'JOB__Office', 'impute_NINQ', 'impute_CLAGE', 'impute_CLNO', 'impute_LOAN', 'impute_DEROG', 'impute_DEBTINC', 'impute_MORTDUE']\n",
    "loss_dt_vars = ['impute_DELINQ', 'impute_VALUE', 'JOB__Self', 'impute_YOJ', 'JOB__Other', 'impute_NINQ', 'impute_CLNO', 'impute_CLAGE', 'impute_LOAN', 'IS_DEBTCON', 'JOB__Mgr', 'JOB__ProfExe', 'impute_DEROG', 'impute_DEBTINC', 'impute_MORTDUE']\n",
    "flag_rf_vars = ['impute_VALUE', 'impute_DEROG', 'impute_DELINQ', 'impute_CLAGE', 'impute_CLNO', 'impute_DEBTINC', 'impute_LOAN']\n",
    "loss_rf_vars = ['impute_CLNO', 'impute_DEBTINC', 'impute_LOAN']\n",
    "flag_gb_vars = ['impute_DEROG', 'impute_DELINQ', 'impute_CLAGE', 'impute_DEBTINC']\n",
    "loss_gb_vars = ['impute_CLNO', 'impute_DEBTINC', 'impute_LOAN']"
   ]
  },
  {
   "cell_type": "markdown",
   "metadata": {},
   "source": [
    "#### Split the data\n",
    "We'll go ahead and do the test/train splits up here. Makes it cleaner."
   ]
  },
  {
   "cell_type": "code",
   "execution_count": 6,
   "metadata": {},
   "outputs": [],
   "source": [
    "# we'll just keep them as dataframes for now and split the independent/dependent later (easy enough to do with indexing)\n",
    "train_flag_df, test_flag_df = train_test_split(flag_df, train_size=.9)\n",
    "train_loss_df, test_loss_df = train_test_split(loss_df, train_size=.9)"
   ]
  },
  {
   "cell_type": "markdown",
   "metadata": {},
   "source": [
    "## Support functions\n",
    "Defining functions that we will need to use repeatedly throughout\n",
    "\n",
    "\n",
    "#### Displaying the ROC curve with AUC values\n"
   ]
  },
  {
   "cell_type": "code",
   "execution_count": 7,
   "metadata": {},
   "outputs": [],
   "source": [
    "def ROC_AUC_show(model, data_train_in, data_train_target, data_test_in, data_test_target, plot=True):\n",
    "    probs=model.predict_proba(data_train_in)[:,1]\n",
    "    fpr_train, tpr_train, thresh = metrics.roc_curve(data_train_target, probs)\n",
    "    auc_train = metrics.auc(fpr_train, tpr_train)\n",
    "    probs=model.predict_proba(data_test_in)[:,1]\n",
    "    fpr_test, tpr_test, thresh = metrics.roc_curve(data_test_target, probs)\n",
    "    auc_test = metrics.auc(fpr_test, tpr_test)\n",
    "\n",
    "    if plot:\n",
    "        fig,ax = plt.subplots()\n",
    "        ax.plot(fpr_train,tpr_train, label=f\"AUC Train: {auc_train:0.2f}\")\n",
    "        ax.plot(fpr_test,tpr_test, label=f\"AUC test: {auc_test:0.2f}\")\n",
    "        ax.legend()\n",
    "        ax.set_xlabel('False Positive Rate (FPR)')\n",
    "        ax.set_ylabel('True Positive Rate (TPR)')\n",
    "\n",
    "    return fpr_train, tpr_train, auc_train, fpr_test, tpr_test, auc_test"
   ]
  },
  {
   "cell_type": "markdown",
   "metadata": {},
   "source": [
    "## Logistic Regression\n",
    "Easy enough stuff, especially with sklearn since we don't have to write our own gradient descent or anything. Nice\n",
    "\n",
    "Starting with the full input array"
   ]
  },
  {
   "cell_type": "code",
   "execution_count": 14,
   "metadata": {},
   "outputs": [
    {
     "data": {
      "text/plain": [
       "LogisticRegression(max_iter=10000)"
      ]
     },
     "execution_count": 14,
     "metadata": {},
     "output_type": "execute_result"
    }
   ],
   "source": [
    "flag_log = LogisticRegression(max_iter=10000) # start with the default -- L2 only, non-dual, default alphas for the L2\n",
    "flag_log.fit(np.array(train_flag_df.drop(columns='TARGET_BAD_FLAG')), np.ravel(train_flag_df[['TARGET_BAD_FLAG']]))"
   ]
  },
  {
   "cell_type": "code",
   "execution_count": 15,
   "metadata": {},
   "outputs": [
    {
     "name": "stdout",
     "output_type": "stream",
     "text": [
      "Training VAF: 0.8038777032065623\n",
      "testing VAF: 0.7953020134228188\n"
     ]
    }
   ],
   "source": [
    "train_pred = flag_log.predict(np.array(train_flag_df.drop(columns='TARGET_BAD_FLAG')))\n",
    "test_pred = flag_log.predict(np.array(test_flag_df.drop(columns='TARGET_BAD_FLAG')))\n",
    "\n",
    "print(f\"Training VAF: {metrics.accuracy_score(np.ravel(train_flag_df[['TARGET_BAD_FLAG']]), train_pred)}\")\n",
    "print(f\"testing VAF: {metrics.accuracy_score(np.ravel(test_flag_df[['TARGET_BAD_FLAG']]), test_pred)}\")"
   ]
  },
  {
   "cell_type": "code",
   "execution_count": 16,
   "metadata": {},
   "outputs": [
    {
     "data": {
      "image/png": "[encoded data removed]",
      "text/plain": [
       "<Figure size 432x288 with 1 Axes>"
      ]
     },
     "metadata": {
      "needs_background": "light"
     },
     "output_type": "display_data"
    }
   ],
   "source": [
    "_ = ROC_AUC_show(flag_log, np.array(train_flag_df.drop(columns='TARGET_BAD_FLAG')),\\\n",
    "    np.ravel(train_flag_df[['TARGET_BAD_FLAG']]),\\\n",
    "    np.array(test_flag_df.drop(columns='TARGET_BAD_FLAG')),\\\n",
    "    np.ravel(test_flag_df[['TARGET_BAD_FLAG']]))"
   ]
  },
  {
   "cell_type": "markdown",
   "metadata": {},
   "source": [
    "Next using only the data from the decision tree"
   ]
  },
  {
   "cell_type": "code",
   "execution_count": 18,
   "metadata": {},
   "outputs": [
    {
     "name": "stdout",
     "output_type": "stream",
     "text": [
      "Training VAF: 0.8038777032065623\n",
      "testing VAF: 0.7953020134228188\n"
     ]
    },
    {
     "data": {
      "image/png": "[encoded data removed]",
      "text/plain": [
       "<Figure size 432x288 with 1 Axes>"
      ]
     },
     "metadata": {
      "needs_background": "light"
     },
     "output_type": "display_data"
    }
   ],
   "source": [
    "ind_array_train = np.array(train_flag_df[flag_dt_vars])\n",
    "dep_array_train = np.ravel(train_flag_df[['TARGET_BAD_FLAG']])\n",
    "ind_array_test = np.array(test_flag_df[flag_dt_vars])\n",
    "dep_array_test = np.ravel(test_flag_df[['TARGET_BAD_FLAG']])\n",
    "\n",
    "flag_log = LogisticRegression(max_iter=1000) # start with the default -- L2 only, non-dual, default alphas for the L2\n",
    "flag_log.fit(ind_array_train, dep_array_train)\n",
    "\n",
    "train_pred = flag_log.predict(ind_array_train)\n",
    "test_pred = flag_log.predict(ind_array_test)\n",
    "\n",
    "print(f\"Training VAF: {metrics.accuracy_score(dep_array_train, train_pred)}\")\n",
    "print(f\"testing VAF: {metrics.accuracy_score(dep_array_test, test_pred)}\")\n",
    "\n",
    "\n",
    "_ = ROC_AUC_show(flag_log, ind_array_train, dep_array_train, ind_array_test, dep_array_test)"
   ]
  },
  {
   "cell_type": "markdown",
   "metadata": {},
   "source": [
    "Same for Random Forest"
   ]
  },
  {
   "cell_type": "code",
   "execution_count": 19,
   "metadata": {},
   "outputs": [
    {
     "name": "stdout",
     "output_type": "stream",
     "text": [
      "Training VAF: 0.8035048471290082\n",
      "testing VAF: 0.7885906040268457\n"
     ]
    },
    {
     "data": {
      "image/png": "[encoded data removed]",
      "text/plain": [
       "<Figure size 432x288 with 1 Axes>"
      ]
     },
     "metadata": {
      "needs_background": "light"
     },
     "output_type": "display_data"
    }
   ],
   "source": [
    "ind_array_train = np.array(train_flag_df[flag_rf_vars])\n",
    "dep_array_train = np.ravel(train_flag_df[['TARGET_BAD_FLAG']])\n",
    "ind_array_test = np.array(test_flag_df[flag_rf_vars])\n",
    "dep_array_test = np.ravel(test_flag_df[['TARGET_BAD_FLAG']])\n",
    "\n",
    "flag_log = LogisticRegression(max_iter=1000) # start with the default -- L2 only, non-dual, default alphas for the L2\n",
    "flag_log.fit(ind_array_train, dep_array_train)\n",
    "\n",
    "train_pred = flag_log.predict(ind_array_train)\n",
    "test_pred = flag_log.predict(ind_array_test)\n",
    "\n",
    "print(f\"Training VAF: {metrics.accuracy_score(dep_array_train, train_pred)}\")\n",
    "print(f\"testing VAF: {metrics.accuracy_score(dep_array_test, test_pred)}\")\n",
    "\n",
    "_ = ROC_AUC_show(flag_log, ind_array_train, dep_array_train, ind_array_test, dep_array_test)"
   ]
  },
  {
   "cell_type": "markdown",
   "metadata": {},
   "source": [
    "Gradient Boosting"
   ]
  },
  {
   "cell_type": "code",
   "execution_count": 20,
   "metadata": {},
   "outputs": [
    {
     "name": "stdout",
     "output_type": "stream",
     "text": [
      "Training VAF: 0.8363161819537659\n",
      "testing VAF: 0.8305369127516778\n"
     ]
    },
    {
     "data": {
      "image/png": "[encoded data removed]",
      "text/plain": [
       "<Figure size 432x288 with 1 Axes>"
      ]
     },
     "metadata": {
      "needs_background": "light"
     },
     "output_type": "display_data"
    }
   ],
   "source": [
    "ind_array_train = np.array(train_flag_df[flag_gb_vars])\n",
    "dep_array_train = np.ravel(train_flag_df[['TARGET_BAD_FLAG']])\n",
    "ind_array_test = np.array(test_flag_df[flag_gb_vars])\n",
    "dep_array_test = np.ravel(test_flag_df[['TARGET_BAD_FLAG']])\n",
    "\n",
    "flag_log = LogisticRegression(max_iter=1000) # start with the default -- L2 only, non-dual, default alphas for the L2\n",
    "flag_log.fit(ind_array_train, dep_array_train)\n",
    "\n",
    "train_pred = flag_log.predict(ind_array_train)\n",
    "test_pred = flag_log.predict(ind_array_test)\n",
    "\n",
    "print(f\"Training VAF: {metrics.accuracy_score(dep_array_train, train_pred)}\")\n",
    "print(f\"testing VAF: {metrics.accuracy_score(dep_array_test, test_pred)}\")\n",
    "\n",
    "\n",
    "_ = ROC_AUC_show(flag_log, ind_array_train, dep_array_train, ind_array_test, dep_array_test)"
   ]
  },
  {
   "cell_type": "markdown",
   "metadata": {},
   "source": [
    "### stepwise selection\n",
    "Using sequential feature selector"
   ]
  },
  {
   "cell_type": "code",
   "execution_count": 142,
   "metadata": {},
   "outputs": [
    {
     "data": {
      "text/plain": [
       "SequentialFeatureSelector(estimator=LogisticRegression(max_iter=10000),\n",
       "                          n_features_to_select=9, scoring='accuracy')"
      ]
     },
     "execution_count": 142,
     "metadata": {},
     "output_type": "execute_result"
    }
   ],
   "source": [
    "ind_array_train = np.array(train_flag_df.drop(columns='TARGET_BAD_FLAG'))\n",
    "dep_array_train = np.ravel(train_flag_df[['TARGET_BAD_FLAG']])\n",
    "ind_array_test = np.array(test_flag_df.drop(columns='TARGET_BAD_FLAG'))\n",
    "dep_array_test = np.ravel(test_flag_df[['TARGET_BAD_FLAG']])\n",
    "\n",
    "flag_sfs = SequentialFeatureSelector(LogisticRegression(max_iter=10000),\\\n",
    "    n_features_to_select=9,\n",
    "    direction='forward',\n",
    "    scoring='accuracy',\n",
    "    cv=5)\n",
    "flag_sfs.fit(ind_array_train, dep_array_train)\n",
    "\n"
   ]
  },
  {
   "cell_type": "code",
   "execution_count": 144,
   "metadata": {},
   "outputs": [
    {
     "name": "stdout",
     "output_type": "stream",
     "text": [
      "Training accuracy: 0.8015\n",
      "testing accuracy: 0.7919\n"
     ]
    },
    {
     "data": {
      "image/png": "[encoded data removed]",
      "text/plain": [
       "<Figure size 432x288 with 1 Axes>"
      ]
     },
     "metadata": {
      "needs_background": "light"
     },
     "output_type": "display_data"
    }
   ],
   "source": [
    "# apparently I have to re-fit the estimator, once it finds the estimator\n",
    "flag_sfs.estimator.fit(ind_array_train, dep_array_train)\n",
    "\n",
    "train_pred = flag_sfs.estimator.predict(ind_array_train)\n",
    "test_pred = flag_sfs.estimator.predict(ind_array_test)\n",
    "\n",
    "print(f\"Training accuracy: {metrics.accuracy_score(dep_array_train, train_pred):.4f}\")\n",
    "print(f\"testing accuracy: {metrics.accuracy_score(dep_array_test, test_pred):.4f}\")\n",
    "\n",
    "_ = ROC_AUC_show(flag_sfs.estimator, ind_array_train, dep_array_train, ind_array_test, dep_array_test)"
   ]
  },
  {
   "cell_type": "code",
   "execution_count": 128,
   "metadata": {},
   "outputs": [
    {
     "data": {
      "text/plain": [
       "{'C': 1.0,\n",
       " 'class_weight': None,\n",
       " 'dual': False,\n",
       " 'fit_intercept': True,\n",
       " 'intercept_scaling': 1,\n",
       " 'l1_ratio': None,\n",
       " 'max_iter': 1000,\n",
       " 'multi_class': 'auto',\n",
       " 'n_jobs': None,\n",
       " 'penalty': 'l2',\n",
       " 'random_state': None,\n",
       " 'solver': 'lbfgs',\n",
       " 'tol': 0.0001,\n",
       " 'verbose': 0,\n",
       " 'warm_start': False}"
      ]
     },
     "execution_count": 128,
     "metadata": {},
     "output_type": "execute_result"
    }
   ],
   "source": [
    "flag_sfs.estimator.get_params()"
   ]
  },
  {
   "cell_type": "code",
   "execution_count": null,
   "metadata": {},
   "outputs": [],
   "source": [
    "\n",
    "\n",
    "var_dict = dict(zip(train_flag_df.drop(columns='TARGET_BAD_FLAG').keys(), flag_mdl.coef_))\n",
    "print('\\n-----------------------------------------------------')\n",
    "for row in var_dict.keys():\n",
    "    print(f\"{row}:\\t{var_dict[row]}\")"
   ]
  },
  {
   "cell_type": "markdown",
   "metadata": {},
   "source": [
    "## Linear Regression\n",
    "\n",
    "We'll start with just using sklearn. Thinking we'll also just show how to do it with the normal equation, and potentially add some more fun stuff"
   ]
  },
  {
   "cell_type": "code",
   "execution_count": 91,
   "metadata": {},
   "outputs": [
    {
     "name": "stdout",
     "output_type": "stream",
     "text": [
      "Training VAF: 0.8265,    Training RMSE: 4529.0424\n",
      "testing VAF: 0.8351,    testing RMSE: 4261.6279)\n",
      "\n",
      "-----------------------------------------------------\n",
      "impute_MORTDUE:\t0.001791837818934986\n",
      "impute_VALUE:\t-0.008304188438649789\n",
      "impute_YOJ:\t-87.02227724754634\n",
      "impute_DEROG:\t314.9121078835661\n",
      "impute_DELINQ:\t826.1110820787959\n",
      "impute_CLAGE:\t-22.988617127584153\n",
      "impute_NINQ:\t75.9428396794417\n",
      "impute_CLNO:\t240.21721831980466\n",
      "impute_DEBTINC:\t61.80304662758177\n",
      "impute_LOAN:\t0.7649761516814345\n",
      "IS_DEBTCON:\t1111.6197294087742\n",
      "JOB__MISSING:\t235.32300298011552\n",
      "JOB__Mgr:\t-951.0039661972778\n",
      "JOB__Office:\t-428.5901793321377\n",
      "JOB__Other:\t-568.9963917403626\n",
      "JOB__ProfExe:\t-686.7611746627382\n",
      "JOB__Sales:\t541.0530225884178\n",
      "JOB__Self:\t1858.9756863639836\n"
     ]
    }
   ],
   "source": [
    "ind_array_train = np.array(train_loss_df.drop(columns='TARGET_LOSS_AMT'))\n",
    "dep_array_train = np.ravel(train_loss_df[['TARGET_LOSS_AMT']])\n",
    "ind_array_test = np.array(test_loss_df.drop(columns='TARGET_LOSS_AMT'))\n",
    "dep_array_test = np.ravel(test_loss_df[['TARGET_LOSS_AMT']])\n",
    "\n",
    "loss_mdl = LinearRegression() # start with the default\n",
    "loss_mdl.fit(ind_array_train, dep_array_train)\n",
    "\n",
    "train_pred = loss_mdl.predict(ind_array_train)\n",
    "test_pred = loss_mdl.predict(ind_array_test)\n",
    "\n",
    "print(f\"Training VAF: {metrics.r2_score(dep_array_train, train_pred):.4f},\\\n",
    "    Training RMSE: {np.sqrt(metrics.mean_squared_error(dep_array_train, train_pred)):.4f}\")\n",
    "print(f\"testing VAF: {metrics.r2_score(dep_array_test, test_pred):.4f},\\\n",
    "    testing RMSE: {np.sqrt(metrics.mean_squared_error(dep_array_test, test_pred)):.4f})\")\n",
    "\n",
    "\n",
    "\n",
    "var_dict = dict(zip(train_loss_df.drop(columns='TARGET_LOSS_AMT').keys(), loss_mdl.coef_))\n",
    "print('\\n-----------------------------------------------------')\n",
    "for row in var_dict.keys():\n",
    "    print(f\"{row}:\\t{var_dict[row]}\")"
   ]
  },
  {
   "cell_type": "markdown",
   "metadata": {},
   "source": [
    "#### Decision Tree variable set"
   ]
  },
  {
   "cell_type": "code",
   "execution_count": 94,
   "metadata": {},
   "outputs": [
    {
     "name": "stdout",
     "output_type": "stream",
     "text": [
      "Training VAF: 0.8263,    Training RMSE: 4531.7281\n",
      "testing VAF: 0.8328,    testing RMSE: 4291.7545)\n",
      "\n",
      "-----------------------------------------------------\n",
      "impute_DELINQ:\t816.50934744638\n",
      "impute_VALUE:\t-0.008390271129487311\n",
      "JOB__Self:\t2031.4565292103523\n",
      "impute_YOJ:\t-87.74301289560022\n",
      "JOB__Other:\t-394.8559621000501\n",
      "impute_NINQ:\t76.74524433471618\n",
      "impute_CLNO:\t241.74412238864858\n",
      "impute_CLAGE:\t-23.004331022748698\n",
      "impute_LOAN:\t0.764532220710706\n",
      "IS_DEBTCON:\t1121.8281738777894\n",
      "JOB__Mgr:\t-781.5132306296002\n",
      "JOB__ProfExe:\t-518.1694580017863\n",
      "impute_DEROG:\t317.79835569012147\n",
      "impute_DEBTINC:\t62.2180835992852\n",
      "impute_MORTDUE:\t0.00193740459134331\n"
     ]
    }
   ],
   "source": [
    "ind_array_train = np.array(train_loss_df[loss_dt_vars])\n",
    "dep_array_train = np.ravel(train_loss_df[['TARGET_LOSS_AMT']])\n",
    "ind_array_test = np.array(test_loss_df[loss_dt_vars])\n",
    "dep_array_test = np.ravel(test_loss_df[['TARGET_LOSS_AMT']])\n",
    "\n",
    "loss_mdl = LinearRegression() # start with the default\n",
    "loss_mdl.fit(ind_array_train, dep_array_train)\n",
    "\n",
    "train_pred = loss_mdl.predict(ind_array_train)\n",
    "test_pred = loss_mdl.predict(ind_array_test)\n",
    "\n",
    "print(f\"Training VAF: {metrics.r2_score(dep_array_train, train_pred):.4f},\\\n",
    "    Training RMSE: {np.sqrt(metrics.mean_squared_error(dep_array_train, train_pred)):.4f}\")\n",
    "print(f\"testing VAF: {metrics.r2_score(dep_array_test, test_pred):.4f},\\\n",
    "    testing RMSE: {np.sqrt(metrics.mean_squared_error(dep_array_test, test_pred)):.4f})\")\n",
    "\n",
    "var_dict = dict(zip(loss_dt_vars, loss_mdl.coef_))\n",
    "print('\\n-----------------------------------------------------')\n",
    "for row in var_dict.keys():\n",
    "    print(f\"{row}:\\t{var_dict[row]}\")"
   ]
  },
  {
   "cell_type": "markdown",
   "metadata": {},
   "source": [
    "#### Random Forest variable set"
   ]
  },
  {
   "cell_type": "code",
   "execution_count": 95,
   "metadata": {},
   "outputs": [
    {
     "name": "stdout",
     "output_type": "stream",
     "text": [
      "Training VAF: 0.7706,    Training RMSE: 5207.7079\n",
      "testing VAF: 0.7854,    testing RMSE: 4862.2888)\n",
      "\n",
      "-----------------------------------------------------\n",
      "impute_CLNO:\t239.72649493064088\n",
      "impute_DEBTINC:\t72.53064190903183\n",
      "impute_LOAN:\t0.7460053360156526\n"
     ]
    }
   ],
   "source": [
    "ind_array_train = np.array(train_loss_df[loss_rf_vars])\n",
    "dep_array_train = np.ravel(train_loss_df[['TARGET_LOSS_AMT']])\n",
    "ind_array_test = np.array(test_loss_df[loss_rf_vars])\n",
    "dep_array_test = np.ravel(test_loss_df[['TARGET_LOSS_AMT']])\n",
    "\n",
    "loss_mdl = LinearRegression() # start with the default\n",
    "loss_mdl.fit(ind_array_train, dep_array_train)\n",
    "\n",
    "train_pred = loss_mdl.predict(ind_array_train)\n",
    "test_pred = loss_mdl.predict(ind_array_test)\n",
    "\n",
    "print(f\"Training VAF: {metrics.r2_score(dep_array_train, train_pred):.4f},\\\n",
    "    Training RMSE: {np.sqrt(metrics.mean_squared_error(dep_array_train, train_pred)):.4f}\")\n",
    "print(f\"testing VAF: {metrics.r2_score(dep_array_test, test_pred):.4f},\\\n",
    "    testing RMSE: {np.sqrt(metrics.mean_squared_error(dep_array_test, test_pred)):.4f})\")\n",
    "\n",
    "\n",
    "var_dict = dict(zip(loss_rf_vars, loss_mdl.coef_))\n",
    "print('\\n-----------------------------------------------------')\n",
    "for row in var_dict.keys():\n",
    "    print(f\"{row}:\\t{var_dict[row]}\")"
   ]
  },
  {
   "cell_type": "markdown",
   "metadata": {},
   "source": [
    "### Gradient Boosting set"
   ]
  },
  {
   "cell_type": "code",
   "execution_count": 96,
   "metadata": {},
   "outputs": [
    {
     "name": "stdout",
     "output_type": "stream",
     "text": [
      "Training VAF: 0.7706,    Training RMSE: 5207.7079\n",
      "testing VAF: 0.7854,    testing RMSE: 4862.2888)\n",
      "\n",
      "-----------------------------------------------------\n",
      "impute_CLNO:\t239.72649493064088\n",
      "impute_DEBTINC:\t72.53064190903183\n",
      "impute_LOAN:\t0.7460053360156526\n"
     ]
    }
   ],
   "source": [
    "ind_array_train = np.array(train_loss_df[loss_gb_vars])\n",
    "dep_array_train = np.ravel(train_loss_df[['TARGET_LOSS_AMT']])\n",
    "ind_array_test = np.array(test_loss_df[loss_gb_vars])\n",
    "dep_array_test = np.ravel(test_loss_df[['TARGET_LOSS_AMT']])\n",
    "\n",
    "loss_mdl = LinearRegression() # start with the default\n",
    "loss_mdl.fit(ind_array_train, dep_array_train)\n",
    "\n",
    "train_pred = loss_mdl.predict(ind_array_train)\n",
    "test_pred = loss_mdl.predict(ind_array_test)\n",
    "\n",
    "print(f\"Training VAF: {metrics.r2_score(dep_array_train, train_pred):.4f},\\\n",
    "    Training RMSE: {np.sqrt(metrics.mean_squared_error(dep_array_train, train_pred)):.4f}\")\n",
    "print(f\"testing VAF: {metrics.r2_score(dep_array_test, test_pred):.4f},\\\n",
    "    testing RMSE: {np.sqrt(metrics.mean_squared_error(dep_array_test, test_pred)):.4f})\")\n",
    "\n",
    "\n",
    "var_dict = dict(zip(loss_gb_vars, loss_mdl.coef_))\n",
    "print('\\n-----------------------------------------------------')\n",
    "for row in var_dict.keys():\n",
    "    print(f\"{row}:\\t{var_dict[row]}\")"
   ]
  },
  {
   "cell_type": "markdown",
   "metadata": {},
   "source": [
    "### Stepwise selection"
   ]
  },
  {
   "cell_type": "code",
   "execution_count": 147,
   "metadata": {},
   "outputs": [
    {
     "name": "stdout",
     "output_type": "stream",
     "text": [
      "Training VAF: 0.8265,    Training RMSE: 4529.0424\n",
      "testing VAF: 0.8351,    testing RMSE: 4261.6279)\n"
     ]
    }
   ],
   "source": [
    "ind_array_train = np.array(train_loss_df.drop(columns='TARGET_LOSS_AMT'))\n",
    "dep_array_train = np.ravel(train_loss_df[['TARGET_LOSS_AMT']])\n",
    "ind_array_test = np.array(test_loss_df.drop(columns='TARGET_LOSS_AMT'))\n",
    "dep_array_test = np.ravel(test_loss_df[['TARGET_LOSS_AMT']])\n",
    "\n",
    "loss_sfs = SequentialFeatureSelector(LinearRegression(),\\\n",
    "    n_features_to_select=5,\n",
    "    direction='forward',\n",
    "    scoring='r2',\n",
    "    cv=5)\n",
    "loss_sfs.fit(ind_array_train, dep_array_train)\n",
    "\n",
    "# apparently I have to re-fit the estimator, once it finds the estimator\n",
    "loss_sfs.estimator.fit(ind_array_train, dep_array_train)\n",
    "\n",
    "train_pred = loss_sfs.estimator.predict(ind_array_train)\n",
    "test_pred = loss_sfs.estimator.predict(ind_array_test)\n",
    "\n",
    "print(f\"Training VAF: {metrics.r2_score(dep_array_train, train_pred):.4f},\\\n",
    "    Training RMSE: {np.sqrt(metrics.mean_squared_error(dep_array_train, train_pred)):.4f}\")\n",
    "print(f\"testing VAF: {metrics.r2_score(dep_array_test, test_pred):.4f},\\\n",
    "    testing RMSE: {np.sqrt(metrics.mean_squared_error(dep_array_test, test_pred)):.4f})\")\n"
   ]
  },
  {
   "cell_type": "markdown",
   "metadata": {},
   "source": [
    "## Linear Regression with the normal function\n",
    "Since we can go ahead and do that easily"
   ]
  },
  {
   "cell_type": "code",
   "execution_count": 88,
   "metadata": {},
   "outputs": [],
   "source": [
    "def normal(indep, dep):\n",
    "    # for some reason getting poor estimates with inv, so using pinv instead\n",
    "    # I would have guessed that it's because the matrix is poorly conditioned, \n",
    "    # but the determinant is way over 0. weird\n",
    "    return np.matmul(np.linalg.pinv(np.matmul(indep.T,indep)), np.matmul(indep.T, dep))"
   ]
  },
  {
   "cell_type": "code",
   "execution_count": 97,
   "metadata": {},
   "outputs": [
    {
     "name": "stdout",
     "output_type": "stream",
     "text": [
      "Training VAF: 0.8264605613793605,    training RMSE: 4529.04241282902\n",
      "testing VAF: 0.8351154969704642,    testing RMSE: 4261.627884314475\n",
      "\n",
      "-----------------------------------------------------\n",
      "impute_MORTDUE:\t0.0017918378189524103\n",
      "impute_VALUE:\t-0.0083041884386648\n",
      "impute_YOJ:\t-87.02227724670979\n",
      "impute_DEROG:\t314.9121078838998\n",
      "impute_DELINQ:\t826.1110820784579\n",
      "impute_CLAGE:\t-22.988617127591112\n",
      "impute_NINQ:\t75.94283967952742\n",
      "impute_CLNO:\t240.21721831977902\n",
      "impute_DEBTINC:\t61.80304662757305\n",
      "impute_LOAN:\t0.7649761516814417\n",
      "IS_DEBTCON:\t1111.6197294080484\n",
      "JOB__MISSING:\t-213.76316162475268\n",
      "JOB__Mgr:\t-1400.0901308032749\n",
      "JOB__Office:\t-877.6763439380939\n",
      "JOB__Other:\t-1018.082556346184\n",
      "JOB__ProfExe:\t-1135.8473392693231\n",
      "JOB__Sales:\t91.9668579819845\n",
      "JOB__Self:\t1409.8895217598638\n"
     ]
    }
   ],
   "source": [
    "# pull in desired values\n",
    "ind_array_train = np.array(train_loss_df.drop(columns='TARGET_LOSS_AMT'))\n",
    "dep_array_train = np.ravel(train_loss_df[['TARGET_LOSS_AMT']])\n",
    "ind_array_test = np.array(test_loss_df.drop(columns='TARGET_LOSS_AMT'))\n",
    "dep_array_test = np.ravel(test_loss_df[['TARGET_LOSS_AMT']])\n",
    "\n",
    "\n",
    "# add a column for the intercept\n",
    "ind_array_train = np.append(ind_array_train, np.ones([ind_array_train.shape[0],1]), axis=1)\n",
    "ind_array_test = np.append(ind_array_test, np.ones([ind_array_test.shape[0],1]), axis=1)\n",
    "\n",
    "# calculate the coefficients\n",
    "B_array = normal(ind_array_train, dep_array_train)\n",
    "\n",
    "# find the prediction values\n",
    "train_pred = np.matmul(ind_array_train, B_array)\n",
    "test_pred = np.matmul(ind_array_test, B_array)\n",
    "\n",
    "# and errors\n",
    "print(f\"Training VAF: {metrics.r2_score(dep_array_train, train_pred)},\\\n",
    "    training RMSE: {np.sqrt(metrics.mean_squared_error(dep_array_train, train_pred))}\")\n",
    "print(f\"testing VAF: {metrics.r2_score(dep_array_test, test_pred)},\\\n",
    "    testing RMSE: {np.sqrt(metrics.mean_squared_error(dep_array_test, test_pred))}\")\n",
    "\n",
    "var_dict = dict(zip(train_loss_df.drop(columns='TARGET_LOSS_AMT').keys(), B_array[:-1]))\n",
    "print(\"\\n-----------------------------------------------------\")\n",
    "for row in var_dict.keys():\n",
    "    print(f\"{row}:\\t{var_dict[row]}\")"
   ]
  },
  {
   "cell_type": "code",
   "execution_count": null,
   "metadata": {},
   "outputs": [],
   "source": []
  }
 ],
 "metadata": {
  "interpreter": {
   "hash": "0ede8e7e71a5f2e64351c10584b1004e0ff656ebf00bf88bb6edfd7da7f0e049"
  },
  "kernelspec": {
   "display_name": "Python 3.9.7 ('MSDS')",
   "language": "python",
   "name": "python3"
  },
  "language_info": {
   "codemirror_mode": {
    "name": "ipython",
    "version": 3
   },
   "file_extension": ".py",
   "mimetype": "text/x-python",
   "name": "python",
   "nbconvert_exporter": "python",
   "pygments_lexer": "ipython3",
   "version": "3.9.7"
  },
  "orig_nbformat": 4
 },
 "nbformat": 4,
 "nbformat_minor": 2
}
