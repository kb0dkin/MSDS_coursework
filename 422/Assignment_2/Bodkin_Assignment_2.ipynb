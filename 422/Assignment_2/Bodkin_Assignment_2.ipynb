{
 "cells": [
  {
   "cell_type": "markdown",
   "metadata": {},
   "source": [
    "# Assignment 2 MSDS 422\n",
    "Decision Trees, Random Forests, and Gradient Boosting\n",
    "\n",
    "\n",
    "The point of this assignment is to explore the usage of Decision Trees, Random Forests, and Gradient Boosting to predict whether someone will default on a loan, and if so by how much. We'll be using the data sets that we cleaned up in Assignment 1\n",
    "\n",
    "#### Import libraries"
   ]
  },
  {
   "cell_type": "code",
   "execution_count": 2,
   "metadata": {},
   "outputs": [],
   "source": [
    "import numpy as np\n",
    "import pandas as pd\n",
    "from sklearn import metrics\n",
    "from matplotlib import pyplot as plt\n",
    "\n",
    "\n",
    "# all of the different models for sklearn -- there's a few of them\n",
    "from sklearn import tree\n",
    "from sklearn.model_selection import train_test_split\n",
    "from sklearn.ensemble import RandomForestClassifier, RandomForestRegressor, GradientBoostingClassifier, GradientBoostingRegressor\n",
    "\n",
    "# pygraphviz -- for displaying the Decision Trees\n",
    "import pygraphviz"
   ]
  },
  {
   "cell_type": "markdown",
   "metadata": {},
   "source": [
    "### Import data\n",
    "\n",
    "We'll start by importing everything as a dataframe"
   ]
  },
  {
   "cell_type": "code",
   "execution_count": 3,
   "metadata": {},
   "outputs": [],
   "source": [
    "fn = './HMEQ_Loss_export.xlsx'\n",
    "\n",
    "hmeq_pd = pd.read_excel(fn)"
   ]
  },
  {
   "cell_type": "code",
   "execution_count": 4,
   "metadata": {},
   "outputs": [],
   "source": [
    "# drop the non-imputed versions of the various columns\n",
    "# plus the column that was previously the index\n",
    "\n",
    "# get rid of anything that has an imputed version\n",
    "drop_list = [imp_item.split('impute_')[-1] for imp_item in hmeq_pd.columns if 'impute_' in imp_item]\n",
    "\n",
    "# get rid of the categorical variables that contain strings\n",
    "drop_list = drop_list + ['impute_REASON', 'impute_JOB'] # these exist as one-hot encoded fields now\n",
    "\n",
    "# add Unnamed: 0\n",
    "drop_list.append('Unnamed: 0')\n",
    "\n",
    "# drop them in hmeq_pd\n",
    "hmeq_pd.drop(columns=drop_list, inplace=True)"
   ]
  },
  {
   "cell_type": "markdown",
   "metadata": {},
   "source": [
    "#### Create some of the functions we will be using repeatedly\n",
    "\n",
    "Show the ROC curve and plot with the AUC in the legend"
   ]
  },
  {
   "cell_type": "code",
   "execution_count": 5,
   "metadata": {},
   "outputs": [],
   "source": [
    "def ROC_AUC_show(model, data_train_in, data_train_target, data_test_in, data_test_target, plot=True):\n",
    "    probs=model.predict_proba(data_train_in)[:,1]\n",
    "    fpr_train, tpr_train, thresh = metrics.roc_curve(data_train_target, probs)\n",
    "    auc_train = metrics.auc(fpr_train, tpr_train)\n",
    "    probs=model.predict_proba(data_test_in)[:,1]\n",
    "    fpr_test, tpr_test, thresh = metrics.roc_curve(data_test_target, probs)\n",
    "    auc_test = metrics.auc(fpr_test, tpr_test)\n",
    "\n",
    "    if plot:\n",
    "        fig,ax = plt.subplots()\n",
    "        ax.plot(fpr_train,tpr_train, label=f\"AUC Train: {auc_train:0.2f}\")\n",
    "        ax.plot(fpr_test,tpr_test, label=f\"AUC test: {auc_test:0.2f}\")\n",
    "        ax.legend()\n",
    "        ax.set_xlabel('False Positive Rate (FPR)')\n",
    "        ax.set_ylabel('True Positive Rate (TPR)')\n",
    "\n",
    "    return fpr_train, tpr_train, auc_train, fpr_test, tpr_test, auc_test\n"
   ]
  },
  {
   "cell_type": "markdown",
   "metadata": {},
   "source": [
    "return a list of all variables used in a tree"
   ]
  },
  {
   "cell_type": "code",
   "execution_count": 6,
   "metadata": {},
   "outputs": [],
   "source": [
    "# based on code from Prof Wedding, though I think this is a little more efficient\n",
    "def getVars(tree_model, varNames):\n",
    "    varUsed = [varNames[ind] for ind in tree_model.tree_.feature if ind != tree._tree.TREE_UNDEFINED]\n",
    "    return list(set(varUsed))\n"
   ]
  },
  {
   "cell_type": "markdown",
   "metadata": {},
   "source": [
    "## Break data into test and training sets\n",
    "\n",
    "To start with, we'll create separate arrays for each target, since \"TARGET_BAD_FLAG\" and \"TARGET_LOSS_AMT\" will have some different stuff. For example, \"TARGET_LOSS_AMT\" will not want any predictions when the person *did not* default\n",
    "\n",
    "We'll want to test on consistent sets between the different model types, so we can get the split up here then test below."
   ]
  },
  {
   "cell_type": "code",
   "execution_count": 7,
   "metadata": {},
   "outputs": [],
   "source": [
    "# bad_flag dataframe\n",
    "flag_df = hmeq_pd.drop(columns='TARGET_LOSS_AMT')\n",
    "\n",
    "# Loss amount - drop bad flag and rows with no loss\n",
    "loss_df = hmeq_pd.loc[hmeq_pd['TARGET_BAD_FLAG'] == 1].drop(columns='TARGET_BAD_FLAG')\n",
    "\n",
    "\n",
    "\n",
    "# split them up\n",
    "[flag_train_df, flag_test_df] = train_test_split(flag_df, train_size=.9)\n",
    "[loss_train_df, loss_test_df] = train_test_split(loss_df, train_size=.9)\n",
    "\n",
    "# and make some numpy arrays since that's what scikit wants in this case\n",
    "flag_train_target = flag_train_df[['TARGET_BAD_FLAG']].values\n",
    "flag_train_in = flag_train_df.drop(columns='TARGET_BAD_FLAG').values\n",
    "flag_test_target = flag_test_df[['TARGET_BAD_FLAG']].values\n",
    "flag_test_in = flag_test_df.drop(columns='TARGET_BAD_FLAG').values\n",
    "loss_train_target = loss_train_df[['TARGET_LOSS_AMT']].values\n",
    "loss_train_in = loss_train_df.drop(columns='TARGET_LOSS_AMT').values\n",
    "loss_test_target = loss_test_df[['TARGET_LOSS_AMT']].values\n",
    "loss_test_in = loss_test_df.drop(columns='TARGET_LOSS_AMT').values"
   ]
  },
  {
   "cell_type": "markdown",
   "metadata": {},
   "source": [
    "## Decision and regression trees\n",
    "\n",
    "The \"bad_flag\" target will use a decision tree, whereas the \"loss\" would use a regression tree since it has continuous values\n",
    "\n",
    "\n",
    "First, let's create the model for each"
   ]
  },
  {
   "cell_type": "code",
   "execution_count": 8,
   "metadata": {},
   "outputs": [],
   "source": [
    "# for the \"bad flag\"\n",
    "# flag_dt = tree.DecisionTreeClassifier() # initialize the classifier\n",
    "# flag_dt = tree.DecisionTreeClassifier(max_depth=3) # initialize the classifier -- try limiting the depth\n",
    "flag_dt = tree.DecisionTreeClassifier(max_depth=8) # 8 seems to be pretty good, without too much overfitting\n",
    "\n",
    "# fit the model \n",
    "flag_dt = flag_dt.fit(flag_train_in, flag_train_target) # fit the model\n",
    "flag_train_pred = flag_dt.predict(flag_train_in)\n",
    "flag_test_pred = flag_dt.predict(flag_test_in)\n",
    "\n",
    "\n",
    "\n",
    "# for the \"loss_amt\"\n",
    "# loss_dt = tree.DecisionTreeRegressor()\n",
    "# loss_dt = tree.DecisionTreeRegressor(max_depth=3)\n",
    "loss_dt = tree.DecisionTreeRegressor(max_depth=8)\n",
    "loss_dt = loss_dt.fit(loss_train_in, loss_train_target)\n",
    "loss_train_pred = loss_dt.predict(loss_train_in)\n",
    "loss_test_pred = loss_dt.predict(loss_test_in)\n"
   ]
  },
  {
   "cell_type": "markdown",
   "metadata": {},
   "source": [
    "#### Looks at the quality of the predictions\n",
    "\n",
    "We'll be using the \"Accuracy\" metric for the classifier, and R**2 for the regressor"
   ]
  },
  {
   "cell_type": "code",
   "execution_count": 9,
   "metadata": {},
   "outputs": [
    {
     "name": "stdout",
     "output_type": "stream",
     "text": [
      "--------------------------\n",
      "Accuracy of Flag tree classifier:\n",
      "Training: 0.9080909768829232\n",
      "Testing: 0.889261744966443\n",
      "\n",
      "\n",
      "--------------------------\n",
      "MSE of Loss tree regressor:\n",
      "Training: 3232654.2205900764\n",
      "Testing: 41885616.41136013\n",
      "R2 since those MSE values are hard to parse\n",
      "Training: 0.9723368490687376\n",
      "Testing: 0.6570088908409545\n"
     ]
    }
   ],
   "source": [
    "sep_str = '--------------------------'\n",
    "\n",
    "# print stuff out\n",
    "print(sep_str)\n",
    "print(f\"Accuracy of Flag tree classifier:\")\n",
    "print(f\"Training: {metrics.accuracy_score(flag_train_target, flag_train_pred)}\")\n",
    "print(f\"Testing: {metrics.accuracy_score(flag_test_target, flag_test_pred)}\")\n",
    "print('\\n')\n",
    "print(sep_str)\n",
    "print(f\"MSE of Loss tree regressor:\")\n",
    "print(f\"Training: {metrics.mean_squared_error(loss_train_target, loss_train_pred)}\")\n",
    "print(f\"Testing: {metrics.mean_squared_error(loss_test_target, loss_test_pred)}\")\n",
    "print(f\"R2 since those MSE values are hard to parse\")\n",
    "print(f\"Training: {metrics.r2_score(loss_train_target, loss_train_pred)}\")\n",
    "print(f\"Testing: {metrics.r2_score(loss_test_target, loss_test_pred)}\")\n",
    "\n"
   ]
  },
  {
   "cell_type": "markdown",
   "metadata": {},
   "source": [
    "#### ROC curves\n",
    "Looks at the true positive rate (TPR) vs the false positive rate (FPR)\n",
    "The idea is that as the sensitivity of the model increases, the FPR will increase as well.\n",
    "\n",
    "We will likely want to do this a few times, so let's go ahead and make a function that we'll reuse for the future models\n",
    "\n",
    "This will only work for the classifiers, not the regressors, since it's comparing how accurate the classification is vs how often we make errors"
   ]
  },
  {
   "cell_type": "code",
   "execution_count": 10,
   "metadata": {},
   "outputs": [
    {
     "name": "stdout",
     "output_type": "stream",
     "text": [
      "--------------------------\n",
      "Bad Flag ROC comparison\n"
     ]
    },
    {
     "data": {
      "image/png": "[encoded data removed]",
      "text/plain": [
       "<Figure size 432x288 with 1 Axes>"
      ]
     },
     "metadata": {
      "needs_background": "light"
     },
     "output_type": "display_data"
    }
   ],
   "source": [
    "# for the \"Bad Flag\" classifier\n",
    "print(sep_str)\n",
    "print('Bad Flag ROC comparison')\n",
    "ROC_resp = ROC_AUC_show(flag_dt, flag_train_in, flag_train_target, flag_test_in, flag_test_target)\n",
    "\n",
    "\n"
   ]
  },
  {
   "cell_type": "markdown",
   "metadata": {},
   "source": [
    "#### Plotting using pygraphviz\n",
    "Export to graphviz format, then plot it"
   ]
  },
  {
   "cell_type": "code",
   "execution_count": 11,
   "metadata": {},
   "outputs": [
    {
     "name": "stderr",
     "output_type": "stream",
     "text": [
      "C:\\Users\\17204\\miniconda3\\envs\\MSDS\\lib\\site-packages\\pygraphviz\\agraph.py:1402: RuntimeWarning: neato: graph is too large for cairo-renderer bitmaps. Scaling by 0.829439 to fit\n",
      "\n",
      "  warnings.warn(b\"\".join(errors).decode(self.encoding), RuntimeWarning)\n"
     ]
    }
   ],
   "source": [
    "flag_var_list = [col for col in flag_df.columns if 'TARGET' not in col]\n",
    "loss_var_list = [col for col in loss_df.columns if 'TARGET' not in col]\n",
    "\n",
    "\n",
    "flag_viz = tree.export_graphviz(flag_dt, feature_names=flag_var_list) # bad flag\n",
    "loss_viz = tree.export_graphviz(loss_dt, feature_names=loss_var_list) # loss\n",
    "\n",
    "tree.export_graphviz(flag_dt, \"flag_dt.dot\", feature_names=flag_var_list) # bad flag\n",
    "tree.export_graphviz(loss_dt, \"loss_dt.dot\", feature_names=loss_var_list) # loss\n",
    "\n",
    "flag_G = pygraphviz.AGraph(flag_viz)\n",
    "loss_G = pygraphviz.AGraph(loss_viz)\n",
    "\n",
    "\n",
    "flag_G.layout(prog='dot')\n",
    "flag_G.draw(\"flag_dt.jpg\")\n",
    "\n",
    "loss_G.layout(prog='dot')\n",
    "loss_G.draw(\"loss_dt.jpg\")"
   ]
  },
  {
   "cell_type": "markdown",
   "metadata": {},
   "source": [
    "![Decision Tree Example](flag_dt.jpg)"
   ]
  },
  {
   "cell_type": "markdown",
   "metadata": {},
   "source": [
    "Let's take a look at what variables we used."
   ]
  },
  {
   "cell_type": "code",
   "execution_count": 12,
   "metadata": {},
   "outputs": [
    {
     "name": "stdout",
     "output_type": "stream",
     "text": [
      "Variables used to build the 'Bad Flag' Decision Tree\n",
      "['JOB__MISSING', 'impute_CLAGE', 'impute_LOAN', 'impute_VALUE', 'impute_CLNO', 'impute_NINQ', 'impute_YOJ', 'JOB__Office', 'JOB__Sales', 'impute_DELINQ', 'impute_DEROG', 'impute_MORTDUE', 'impute_DEBTINC']\n",
      "--------------------------\n",
      "Variables used to build the 'Loss Amt' Regression Tree\n",
      "['impute_CLAGE', 'JOB__Mgr', 'impute_LOAN', 'impute_VALUE', 'JOB__ProfExe', 'impute_CLNO', 'impute_YOJ', 'IS_DEBTCON', 'impute_NINQ', 'JOB__Office', 'impute_DELINQ', 'impute_DEROG', 'impute_MORTDUE', 'impute_DEBTINC']\n"
     ]
    }
   ],
   "source": [
    "print(f\"Variables used to build the 'Bad Flag' Decision Tree\")\n",
    "print(f\"{getVars(flag_dt, flag_var_list)}\")\n",
    "print(sep_str)\n",
    "\n",
    "print(f\"Variables used to build the 'Loss Amt' Regression Tree\")\n",
    "print(f\"{getVars(loss_dt, loss_var_list)}\")"
   ]
  },
  {
   "cell_type": "markdown",
   "metadata": {},
   "source": [
    "## Random Forests\n",
    "\n",
    "Second verse, same as the first\n",
    "\n",
    "This time we'll be working with Random Forests. Random Forests are basically a bunch of Decision Trees using different clusters of the data"
   ]
  },
  {
   "cell_type": "code",
   "execution_count": 13,
   "metadata": {},
   "outputs": [],
   "source": [
    "# for the \"bad flag\"\n",
    "# flag_rf = RandomForestClassifier() # initialize the classifier\n",
    "flag_rf = RandomForestClassifier(max_depth=8, n_estimators=100) # initialize the classifier\n",
    "\n",
    "# fit the model \n",
    "flag_rf = flag_rf.fit(flag_train_in, flag_train_target.reshape(len(flag_train_target),)) # fit the model\n",
    "flag_train_pred_rf = flag_rf.predict(flag_train_in)\n",
    "flag_test_pred_rf = flag_rf.predict(flag_test_in)\n",
    "\n",
    "\n",
    "\n",
    "# for the \"loss_amt\"\n",
    "loss_rf = RandomForestRegressor()\n",
    "loss_rf = loss_rf.fit(loss_train_in, loss_train_target.reshape(len(loss_train_target),))\n",
    "loss_train_pred_rf = loss_rf.predict(loss_train_in)\n",
    "loss_test_pred_rf = loss_rf.predict(loss_test_in)\n"
   ]
  },
  {
   "cell_type": "code",
   "execution_count": 14,
   "metadata": {},
   "outputs": [
    {
     "name": "stdout",
     "output_type": "stream",
     "text": [
      "--------------------------\n",
      "Accuracy of Flag random forest classifier:\n",
      "Training: 0.9164802386278896\n",
      "Testing: 0.9261744966442953\n",
      "\n",
      "\n",
      "--------------------------\n",
      "MSE of Loss random forest regressor:\n",
      "Training: 1233898.1454050464\n",
      "Testing: 28748535.45855882\n",
      "R2 of Loss random forest regressor:\n",
      "Training: 0.9894410263823658\n",
      "Testing: 0.7645852464772395\n"
     ]
    }
   ],
   "source": [
    "sep_str = '--------------------------'\n",
    "\n",
    "# print stuff out\n",
    "print(sep_str)\n",
    "print(f\"Accuracy of Flag random forest classifier:\")\n",
    "print(f\"Training: {metrics.accuracy_score(flag_train_target, flag_train_pred_rf)}\")\n",
    "print(f\"Testing: {metrics.accuracy_score(flag_test_target, flag_test_pred_rf)}\")\n",
    "print('\\n')\n",
    "print(sep_str)\n",
    "print(f\"MSE of Loss random forest regressor:\")\n",
    "print(f\"Training: {metrics.mean_squared_error(loss_train_target, loss_train_pred_rf)}\")\n",
    "print(f\"Testing: {metrics.mean_squared_error(loss_test_target, loss_test_pred_rf)}\")\n",
    "print(f\"R2 of Loss random forest regressor:\")\n",
    "print(f\"Training: {metrics.r2_score(loss_train_target, loss_train_pred_rf)}\")\n",
    "print(f\"Testing: {metrics.r2_score(loss_test_target, loss_test_pred_rf)}\")"
   ]
  },
  {
   "cell_type": "code",
   "execution_count": 15,
   "metadata": {},
   "outputs": [
    {
     "name": "stdout",
     "output_type": "stream",
     "text": [
      "--------------------------\n",
      "Bad Flag ROC comparison\n"
     ]
    },
    {
     "data": {
      "image/png": "[encoded data removed]",
      "text/plain": [
       "<Figure size 432x288 with 1 Axes>"
      ]
     },
     "metadata": {
      "needs_background": "light"
     },
     "output_type": "display_data"
    }
   ],
   "source": [
    "# for the \"Bad Flag\" classifier\n",
    "print(sep_str)\n",
    "print('Bad Flag ROC comparison')\n",
    "ROC_resp = ROC_AUC_show(flag_rf, flag_train_in, flag_train_target, flag_test_in, flag_test_target)"
   ]
  },
  {
   "cell_type": "markdown",
   "metadata": {},
   "source": [
    "Now for the list of variables for each. Since random forests are just a collection of trees, we just have to call it for each tree in the forest :)"
   ]
  },
  {
   "cell_type": "code",
   "execution_count": 16,
   "metadata": {},
   "outputs": [],
   "source": [
    "# # get a list of variables that show up in each decision tree\n",
    "# flag_forest_vars_all = [getVars(da_tree, flag_var_list) for da_tree in flag_rf.estimators_]\n",
    "# flag_forest_vars = []\n",
    "# for forest_var in flag_forest_vars_all:\n",
    "    # flag_forest_vars = list(set(flag_forest_vars + forest_var))\n",
    "\n",
    "# # print it\n",
    "# print(f\"Random forest used variables:\")\n",
    "# print(f\"{flag_forest_vars}\")\n",
    "# print(sep_str)\n",
    "\n",
    "# # get a list of variables that show up in each decision tree\n",
    "# loss_forest_vars_all = [getVars(da_tree, loss_var_list) for da_tree in loss_rf.estimators_]\n",
    "# loss_forest_vars = []\n",
    "# for forest_var in loss_forest_vars_all:\n",
    "    # loss_forest_vars = list(set(loss_forest_vars + forest_var))\n",
    "\n",
    "# # print it\n",
    "# print(f\"Random forest used variables:\")\n",
    "# print(f\"{loss_forest_vars}\")"
   ]
  },
  {
   "cell_type": "code",
   "execution_count": 17,
   "metadata": {},
   "outputs": [
    {
     "name": "stdout",
     "output_type": "stream",
     "text": [
      "'Bad Flag' Random Forest important variables:\n",
      "['impute_DEROG', 'impute_DELINQ', 'impute_CLAGE', 'impute_DEBTINC', 'impute_LOAN']\n",
      "\n",
      "--------------------------\n",
      "Loss Prediction important variables:\n",
      "['impute_CLNO', 'impute_DEBTINC', 'impute_LOAN']\n"
     ]
    }
   ],
   "source": [
    "# classifier_rf\n",
    "print(f\"'Bad Flag' Random Forest important variables:\")\n",
    "print(f\"{np.array(flag_var_list)[flag_rf.feature_importances_ > np.mean(flag_rf.feature_importances_)].tolist()}\\n\")\n",
    "\n",
    "print(sep_str)\n",
    "print(\"Loss Prediction important variables:\")\n",
    "print(f\"{np.array(loss_var_list)[loss_rf.feature_importances_ > np.mean(loss_rf.feature_importances_)].tolist()}\")\n"
   ]
  },
  {
   "cell_type": "markdown",
   "metadata": {},
   "source": [
    "Looks like every variable is used at least once in both of the random forests"
   ]
  },
  {
   "cell_type": "markdown",
   "metadata": {},
   "source": [
    "## Gradient Boosting\n",
    "\n",
    "Now run through all of the same things with Gradient Boosting\n",
    "\n"
   ]
  },
  {
   "cell_type": "code",
   "execution_count": 18,
   "metadata": {},
   "outputs": [],
   "source": [
    "# for the \"bad flag\"\n",
    "flag_gb = GradientBoostingClassifier() # initialize the classifier\n",
    "\n",
    "# fit the model \n",
    "flag_gb = flag_gb.fit(flag_train_in, flag_train_target.reshape(len(flag_train_target),)) # fit the model\n",
    "flag_train_pred_gb = flag_gb.predict(flag_train_in)\n",
    "flag_test_pred_gb = flag_gb.predict(flag_test_in)\n",
    "\n",
    "\n",
    "\n",
    "# for the \"loss_amt\"\n",
    "loss_gb = RandomForestRegressor()\n",
    "# loss_gb = tree.DecisionTreeRegressor(max_depth=4)\n",
    "loss_gb = loss_gb.fit(loss_train_in, loss_train_target.reshape(len(loss_train_target),))\n",
    "loss_train_pred_gb = loss_gb.predict(loss_train_in)\n",
    "loss_test_pred_gb = loss_gb.predict(loss_test_in)"
   ]
  },
  {
   "cell_type": "code",
   "execution_count": 19,
   "metadata": {},
   "outputs": [
    {
     "name": "stdout",
     "output_type": "stream",
     "text": [
      "--------------------------\n",
      "Accuracy of Flag Gradient Boosting classifier:\n",
      "Training: 0.9157345264727815\n",
      "Testing: 0.912751677852349\n",
      "\n",
      "\n",
      "--------------------------\n",
      "MSE of Loss Gradient Boosting regressor:\n",
      "Training: 1362870.6788024302\n",
      "Testing: 27267396.093031093\n",
      "R2 of Loss Gradient Boosting regressor:\n",
      "Training: 0.9883373554005965\n",
      "Testing: 0.7767139359254792\n"
     ]
    }
   ],
   "source": [
    "\n",
    "sep_str = '--------------------------'\n",
    "\n",
    "# print stuff out\n",
    "print(sep_str)\n",
    "print(f\"Accuracy of Flag Gradient Boosting classifier:\")\n",
    "print(f\"Training: {metrics.accuracy_score(flag_train_target, flag_train_pred_gb)}\")\n",
    "print(f\"Testing: {metrics.accuracy_score(flag_test_target, flag_test_pred_gb)}\")\n",
    "print('\\n')\n",
    "print(sep_str)\n",
    "print(f\"MSE of Loss Gradient Boosting regressor:\")\n",
    "print(f\"Training: {metrics.mean_squared_error(loss_train_target, loss_train_pred_gb)}\")\n",
    "print(f\"Testing: {metrics.mean_squared_error(loss_test_target, loss_test_pred_gb)}\")\n",
    "print(f\"R2 of Loss Gradient Boosting regressor:\")\n",
    "print(f\"Training: {metrics.r2_score(loss_train_target, loss_train_pred_gb)}\")\n",
    "print(f\"Testing: {metrics.r2_score(loss_test_target, loss_test_pred_gb)}\")"
   ]
  },
  {
   "cell_type": "code",
   "execution_count": 20,
   "metadata": {},
   "outputs": [
    {
     "name": "stdout",
     "output_type": "stream",
     "text": [
      "--------------------------\n",
      "Bad Flag ROC comparison\n"
     ]
    },
    {
     "data": {
      "image/png": "[encoded data removed]",
      "text/plain": [
       "<Figure size 432x288 with 1 Axes>"
      ]
     },
     "metadata": {
      "needs_background": "light"
     },
     "output_type": "display_data"
    }
   ],
   "source": [
    "# for the \"Bad Flag\" classifier\n",
    "print(sep_str)\n",
    "print('Bad Flag ROC comparison')\n",
    "ROC_resp = ROC_AUC_show(flag_gb, flag_train_in, flag_train_target, flag_test_in, flag_test_target)"
   ]
  },
  {
   "cell_type": "code",
   "execution_count": 21,
   "metadata": {},
   "outputs": [],
   "source": [
    "# # get a list of variables that show up in each decision tree\n",
    "# flag_boost_vars_all = [getVars(da_tree, flag_var_list) for da_tree in flag_gb.estimators_]\n",
    "# flag_boost_vars = []\n",
    "# for boost_var in flag_boost_vars_all:\n",
    "    # flag_boost_vars = list(set(flag_boost_vars + boost_var))\n",
    "\n",
    "# # print it\n",
    "# print(f\"Random boost used variables:\")\n",
    "# print(f\"{flag_boost_vars}\")\n",
    "# print(sep_str)\n",
    "\n",
    "# get a list of variables that show up in each decision tree\n",
    "# loss_boost_vars_all = [getVars(da_tree[0], loss_var_list) for da_tree in loss_gb.estimators_]\n",
    "# loss_boost_vars = []\n",
    "# for boost_var in loss_boost_vars_all:\n",
    "    # loss_boost_vars = list(set(loss_boost_vars + boost_var))\n",
    "# \n",
    "# print it\n",
    "# print(f\"Random boost used variables:\")\n",
    "# print(f\"{loss_boost_vars}\")"
   ]
  },
  {
   "cell_type": "code",
   "execution_count": 24,
   "metadata": {},
   "outputs": [
    {
     "name": "stdout",
     "output_type": "stream",
     "text": [
      "'Bad Flag' Gradient Boosting important variables:\n",
      "['impute_DEROG', 'impute_DELINQ', 'impute_CLAGE', 'impute_DEBTINC']\n",
      "\n",
      "--------------------------\n",
      "Loss Prediction important variables:\n",
      "['impute_CLNO', 'impute_DEBTINC', 'impute_LOAN']\n"
     ]
    }
   ],
   "source": [
    "# classifier_gb\n",
    "print(f\"'Bad Flag' Gradient Boosting important variables:\")\n",
    "print(f\"{np.array(flag_var_list)[flag_gb.feature_importances_ > np.mean(flag_gb.feature_importances_)].tolist()}\\n\")\n",
    "\n",
    "print(sep_str)\n",
    "print(\"Loss Prediction important variables:\")\n",
    "print(f\"{np.array(loss_var_list)[loss_gb.feature_importances_ > np.mean(loss_gb.feature_importances_)].tolist()}\")"
   ]
  },
  {
   "cell_type": "markdown",
   "metadata": {},
   "source": [
    "### Export data\n",
    "\n",
    "I'm exporting the two dataframes so that I don't have to reseparate and drop stuff in the coming weeks."
   ]
  },
  {
   "cell_type": "code",
   "execution_count": 23,
   "metadata": {},
   "outputs": [],
   "source": [
    "flag_fn = './HMEQ_Loss_export_flag.xlsx'\n",
    "loss_fn = './HMEQ_Loss_export_loss.xlsx'\n",
    "\n",
    "# # setup a context manager\n",
    "# with pd.ExcelWriter(flag_fn, mode='w') as flag_file:\n",
    "    # pass\n",
    "flag_df.to_excel(flag_fn)\n",
    "loss_df.to_excel(loss_fn)\n",
    "\n",
    "\n"
   ]
  },
  {
   "cell_type": "code",
   "execution_count": null,
   "metadata": {},
   "outputs": [],
   "source": []
  }
 ],
 "metadata": {
  "interpreter": {
   "hash": "0ede8e7e71a5f2e64351c10584b1004e0ff656ebf00bf88bb6edfd7da7f0e049"
  },
  "kernelspec": {
   "display_name": "Python 3 (ipykernel)",
   "language": "python",
   "name": "python3"
  },
  "language_info": {
   "codemirror_mode": {
    "name": "ipython",
    "version": 3
   },
   "file_extension": ".py",
   "mimetype": "text/x-python",
   "name": "python",
   "nbconvert_exporter": "python",
   "pygments_lexer": "ipython3",
   "version": "3.9.7"
  }
 },
 "nbformat": 4,
 "nbformat_minor": 2
}
