{
 "cells": [
  {
   "cell_type": "markdown",
   "metadata": {},
   "source": [
    "# MSDS 460 Discussion 8\n",
    "Monte Carlo Simulation of a game of chance\n",
    "\n",
    "\n",
    "Going to play the game \"left/right/center\" with N people. \n",
    "\n",
    "### Rules of the game:\n",
    "Each player starts with T poker chips. There are two six sided dice:\n",
    "1. Left\n",
    "2. Right\n",
    "3. Center\n",
    "4. Center\n",
    "5. Keep \n",
    "6. Keep\n",
    "\n",
    "The player gives a poker chip according to the dice roll; one chip per die. The winner is the last person with chips left.\n",
    "\n",
    "\n",
    "### Import necessary packages"
   ]
  },
  {
   "cell_type": "code",
   "execution_count": 1,
   "metadata": {},
   "outputs": [],
   "source": [
    "import numpy as np\n",
    "from numpy.random import default_rng \n",
    "from matplotlib import pyplot as plt\n",
    "import ipympl"
   ]
  },
  {
   "cell_type": "markdown",
   "metadata": {},
   "source": [
    "### Define the classes -- dice and games\n",
    "\n",
    "Set it up so that I can easily repeat a game "
   ]
  },
  {
   "cell_type": "code",
   "execution_count": 2,
   "metadata": {},
   "outputs": [],
   "source": [
    "class LRC_dice():\n",
    "    def __init__(self):\n",
    "        self.rng = default_rng()\n",
    "        self.sides = np.array(['Left','Right','Center','Keep'])\n",
    "        self.probs = np.array([1/6,1/6,1/3,1/3])\n",
    "\n",
    "    def roll(self):\n",
    "        return self.rng.choice(self.sides, size = 2, p = self.probs)\n",
    "\n",
    "\n",
    "\n",
    "class LRC_game():\n",
    "    def __init__(self, N_players, dice, T_chips):\n",
    "        ''' game with N_players and LRC_dice instance dice'''\n",
    "\n",
    "        # the same for every iteration\n",
    "        self.N_players = N_players # how many players?\n",
    "        self.T_chips = T_chips # how many does each start with?\n",
    "        self.dice = dice\n",
    "\n",
    "        # reinitialized each game\n",
    "        self.player = 0 # start with player 0\n",
    "        self.pots = np.ones([N_players,]) * T_chips # the pots of coins\n",
    "        self.center = 0\n",
    "\n",
    "    def run(self):\n",
    "        while np.sum(self.pots > 0) > 1: # while at least two players are in the game\n",
    "            rolls = self.dice.roll()\n",
    "            for roll in rolls:\n",
    "                if self.pots[self.player] > 0: # turn is only valid if we have any chips, can't give away more chips than we have\n",
    "                    if roll == 'Left':\n",
    "                        self.pots[self.player] -= 1 # remove a die\n",
    "                        self.pots[np.mod(self.player-1,self.N_players)] += 1 # add a die to the player to the right\n",
    "                    if roll == 'Right':\n",
    "                        self.pots[self.player] -= 1 # remove a die\n",
    "                        self.pots[np.mod(self.player+1,self.N_players)] += 1 # add a die to the player to the left\n",
    "                    if roll == 'Center':\n",
    "                        self.pots[self.player] -= 1 # remove a die\n",
    "                        self.center += 1 # add a die to the center\n",
    "            self.player = np.mod(self.player + 1, self.N_players)\n",
    "        \n",
    "        self.winner = np.argmax(self.pots)\n",
    "\n",
    "    def restart(self):\n",
    "        # reinitialized each game\n",
    "        self.player = 0 # start with player 0\n",
    "        self.pots = np.ones([self.N_players,]) * self.T_chips # the pots of coins\n",
    "        self.center = 0\n"
   ]
  },
  {
   "cell_type": "markdown",
   "metadata": {},
   "source": [
    "### Run through X iterations of the game\n",
    "\n",
    "Let's try 1000 iterations."
   ]
  },
  {
   "cell_type": "code",
   "execution_count": 5,
   "metadata": {},
   "outputs": [],
   "source": [
    "# play with 4 players and 6 chips\n",
    "num_players = 4\n",
    "num_chips = 6\n",
    "\n",
    "num_games = 10000\n",
    "\n",
    "our_dice = LRC_dice()\n",
    "our_game = LRC_game(num_players, our_dice, num_chips)\n",
    "\n",
    "game_results = np.ndarray([num_games,2])\n",
    "\n",
    "for g_num in np.arange(num_games):\n",
    "    our_game.run()\n",
    "    game_results[g_num,:] = np.array([our_game.winner, our_game.center])\n",
    "    our_game.restart()"
   ]
  },
  {
   "cell_type": "markdown",
   "metadata": {},
   "source": [
    "### Plot a histogram of the winners!"
   ]
  },
  {
   "cell_type": "code",
   "execution_count": 6,
   "metadata": {},
   "outputs": [
    {
     "data": {
      "application/vnd.jupyter.widget-view+json": {
       "model_id": "365c16c4d6644fdd88373831fa254265",
       "version_major": 2,
       "version_minor": 0
      },
      "image/png": "[encoded data removed]",
      "text/html": [
       "\n",
       "            <div style=\"display: inline-block;\">\n",
       "                <div class=\"jupyter-widgets widget-label\" style=\"text-align: center;\">\n",
       "                    Figure\n",
       "                </div>\n",
       "                <img src='data:image/png;base64,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' width=432.0/>\n",
       "            </div>\n",
       "        "
      ],
      "text/plain": [
       "Canvas(toolbar=Toolbar(toolitems=[('Home', 'Reset original view', 'home', 'home'), ('Back', 'Back to previous …"
      ]
     },
     "metadata": {},
     "output_type": "display_data"
    }
   ],
   "source": [
    "fig, ax = plt.subplots()\n",
    "\n",
    "ax.hist(game_results[:,0], density=True, bins=np.arange(num_players+1)-.5, rwidth=.8)\n",
    "ax.set_xlabel('Player')\n",
    "ax.set_ylabel('Percentage of wins')\n",
    "ax.set_xticks(np.arange(num_players))\n",
    "\n",
    "ax.spines[:].set_visible(False)"
   ]
  },
  {
   "cell_type": "code",
   "execution_count": null,
   "metadata": {},
   "outputs": [],
   "source": [
    "np.arange(num_players+1)-.5"
   ]
  },
  {
   "cell_type": "code",
   "execution_count": null,
   "metadata": {},
   "outputs": [],
   "source": []
  }
 ],
 "metadata": {
  "interpreter": {
   "hash": "e6f5ab44297089514ffa059ea0d83d6392bebfea7e191fb6b7f26c8412c9553b"
  },
  "kernelspec": {
   "display_name": "Python 3.9.7 ('MSDS')",
   "language": "python",
   "name": "python3"
  },
  "language_info": {
   "codemirror_mode": {
    "name": "ipython",
    "version": 3
   },
   "file_extension": ".py",
   "mimetype": "text/x-python",
   "name": "python",
   "nbconvert_exporter": "python",
   "pygments_lexer": "ipython3",
   "version": "3.9.7"
  },
  "orig_nbformat": 4
 },
 "nbformat": 4,
 "nbformat_minor": 2
}
