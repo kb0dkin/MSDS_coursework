{
 "cells": [
  {
   "cell_type": "markdown",
   "metadata": {},
   "source": [
    "# MSDS 460 Discussion 2\n",
    "\n",
    "Linear Programming problem. Will try with PuLP"
   ]
  },
  {
   "cell_type": "code",
   "execution_count": 1,
   "metadata": {},
   "outputs": [
    {
     "name": "stdout",
     "output_type": "stream",
     "text": [
      "Solutions:\n",
      "-------------\n",
      "\n",
      "Model 1 to Make: 3000, to buy: 0\n",
      "Model 2 to Make: 550, to buy: 1450\n",
      "Model 3 to Make: 900, to buy: 0\n"
     ]
    }
   ],
   "source": [
    "from pulp import LpProblem, LpMinimize, LpVariable\n",
    "\n",
    "# separate the \"made\" versions from the \"buy\" versions\n",
    "m1_make = LpVariable(\"m1_make\", lowBound=0, upBound=3000)\n",
    "m1_buy = LpVariable(\"m1_buy\", lowBound=0, upBound=3000)\n",
    "m2_make = LpVariable(\"m2_make\", lowBound=0, upBound=2000)\n",
    "m2_buy = LpVariable(\"m2_buy\", lowBound=0, upBound=2000)\n",
    "m3_make = LpVariable(\"m3_make\", lowBound=0, upBound=900)\n",
    "m3_buy = LpVariable(\"m3_buy\", lowBound=0, upBound=900)\n",
    "\n",
    "prob = LpProblem(\"ElectroPoly\", LpMinimize) # going to minimize everything\n",
    "prob += m1_make*2 + m2_make*1.5 + m3_make*3 <= 10000 # wiring capacity\n",
    "prob += m1_make*1 + m2_make*2 + m3_make*1 <= 5000 # wiring capacity\n",
    "# constraints for each model\n",
    "prob += m1_make + m1_buy == 3000\n",
    "prob += m2_make + m2_buy == 2000\n",
    "prob += m3_make + m3_buy == 900\n",
    "\n",
    "# objective function\n",
    "prob += 50*m1_make + 61*m1_buy + 83*m2_make + 97*m2_buy + 130*m3_make + 145*m3_buy\n",
    "\n",
    "# solve it\n",
    "prob.solve()\n",
    "\n",
    "print(f\"Solutions:\\n-------------\\n\")\n",
    "print(f\"Model 1 to Make: {int(m1_make.value())}, to buy: {int(m1_buy.value())}\")\n",
    "print(f\"Model 2 to Make: {int(m2_make.value())}, to buy: {int(m2_buy.value())}\")\n",
    "print(f\"Model 3 to Make: {int(m3_make.value())}, to buy: {int(m3_buy.value())}\")"
   ]
  },
  {
   "cell_type": "code",
   "execution_count": 2,
   "metadata": {},
   "outputs": [
    {
     "data": {
      "text/plain": [
       "<pulp.apis.coin_api.PULP_CBC_CMD at 0x20267380c10>"
      ]
     },
     "execution_count": 2,
     "metadata": {},
     "output_type": "execute_result"
    }
   ],
   "source": [
    "prob.solver"
   ]
  }
 ],
 "metadata": {
  "interpreter": {
   "hash": "0ede8e7e71a5f2e64351c10584b1004e0ff656ebf00bf88bb6edfd7da7f0e049"
  },
  "kernelspec": {
   "display_name": "Python 3.9.7 ('MSDS')",
   "language": "python",
   "name": "python3"
  },
  "language_info": {
   "codemirror_mode": {
    "name": "ipython",
    "version": 3
   },
   "file_extension": ".py",
   "mimetype": "text/x-python",
   "name": "python",
   "nbconvert_exporter": "python",
   "pygments_lexer": "ipython3",
   "version": "3.9.7"
  },
  "orig_nbformat": 4
 },
 "nbformat": 4,
 "nbformat_minor": 2
}
