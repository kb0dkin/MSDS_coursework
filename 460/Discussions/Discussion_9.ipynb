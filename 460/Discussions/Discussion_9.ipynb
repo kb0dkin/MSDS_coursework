{
 "cells": [
  {
   "cell_type": "markdown",
   "metadata": {},
   "source": [
    "# MSDS 460 Discussion 9\n",
    "Markov chains\n",
    "\n",
    "We're looking at the probability that a spy is in a particular country at any point in time. \n",
    "The spy travels to a different country every day, and are equally likely to travel to any bordering country.\n",
    "They can only travel over land borders, so they can only travel between bordering countries.\n",
    "\n",
    "<br>\n",
    "\n",
    "### Markov Transition Matrix:\n"
   ]
  },
  {
   "cell_type": "code",
   "execution_count": 1,
   "metadata": {},
   "outputs": [
    {
     "name": "stdout",
     "output_type": "stream",
     "text": [
      "What is the probability the spy is in each country? {'EQU': 0.04076923076923077, 'COL': 0.08692307692307694, 'VEN': 0.05846153846153847, 'GUY': 0.05846153846153847, 'SUR': 0.05846153846153847, 'FG': 0.03307692307692308, ' BRA': 0.1576923076923077, 'PER': 0.11230769230769233, 'BOL': 0.13153846153846155, 'PGY': 0.04230769230769231, 'CHI': 0.05, 'ARG': 0.11230769230769233, 'UGY': 0.026923076923076925}\n",
      "----------------------------------------------------\n",
      "The spy is most likely in  BRA\n"
     ]
    }
   ],
   "source": [
    "import numpy as np\n",
    "\n",
    "countries = ['EQU', 'COL', 'VEN', 'GUY', 'SUR', 'FG', ' BRA', 'PER', 'BOL', 'PGY', 'CHI', 'ARG', 'UGY']\n",
    "\n",
    "\n",
    "\n",
    "#           EQU   COL   VEN   GUY   SUR   FG    BRA   PER   BOL   PGY   CHI   ARG   UGY\n",
    "mark_TC = [[0.00, 0.33, 0.00, 0.00, 0.00, 0.00, 0.00, 0.20, 0.00, 0.00, 0.00, 0.00, 0.00],\n",
    "           [0.50, 0.00, 0.33, 0.00, 0.00, 0.00, 0.10, 0.20, 0.00, 0.00, 0.00, 0.00, 0.00],\n",
    "           [0.00, 0.33, 0.00, 0.33, 0.00, 0.00, 0.10, 0.00, 0.00, 0.00, 0.00, 0.00, 0.00],\n",
    "           [0.00, 0.00, 0.33, 0.00, 0.33, 0.00, 0.10, 0.00, 0.00, 0.00, 0.00, 0.00, 0.00],\n",
    "           [0.00, 0.00, 0.00, 0.33, 0.00, 0.33, 0.10, 0.00, 0.00, 0.00, 0.00, 0.00, 0.00],\n",
    "           [0.00, 0.00, 0.00, 0.00, 0.33, 0.00, 0.10, 0.00, 0.00, 0.00, 0.00, 0.00, 0.00],\n",
    "           [0.00, 0.00, 0.33, 0.33, 0.33, 0.33, 0.00, 0.20, 0.20, 0.33, 0.00, 0.00, 0.00],\n",
    "           [0.50, 0.33, 0.00, 0.00, 0.00, 0.00, 0.10, 0.00, 0.20, 0.00, 0.33, 0.00, 0.00],\n",
    "           [0.00, 0.00, 0.00, 0.00, 0.00, 0.00, 0.10, 0.20, 0.00, 0.33, 0.33, 0.25, 0.50],\n",
    "           [0.00, 0.00, 0.00, 0.00, 0.00, 0.00, 0.10, 0.00, 0.20, 0.00, 0.00, 0.25, 0.00],\n",
    "           [0.00, 0.00, 0.00, 0.00, 0.00, 0.00, 0.00, 0.20, 0.20, 0.00, 0.00, 0.25, 0.00],\n",
    "           [0.00, 0.00, 0.00, 0.00, 0.00, 0.00, 0.10, 0.00, 0.20, 0.33, 0.33, 0.00, 0.50],\n",
    "           [0.00, 0.00, 0.00, 0.00, 0.00, 0.00, 0.10, 0.00, 0.00, 0.00, 0.00, 0.25, 0.00]]\n",
    "\n",
    "\n",
    "steady = np.ones([13,])/13\n",
    "in_probs = np.matmul(mark_TC,steady)\n",
    "\n",
    "print(f\"What is the probability the spy is in each country? {dict(zip(countries, in_probs))}\")\n",
    "print('----------------------------------------------------')\n",
    "print(f\"The spy is most likely in {countries[np.argmax(in_probs)]}\")\n",
    "\n"
   ]
  },
  {
   "cell_type": "code",
   "execution_count": null,
   "metadata": {},
   "outputs": [],
   "source": []
  }
 ],
 "metadata": {
  "interpreter": {
   "hash": "e6f5ab44297089514ffa059ea0d83d6392bebfea7e191fb6b7f26c8412c9553b"
  },
  "kernelspec": {
   "display_name": "Python 3.9.7 ('MSDS')",
   "language": "python",
   "name": "python3"
  },
  "language_info": {
   "codemirror_mode": {
    "name": "ipython",
    "version": 3
   },
   "file_extension": ".py",
   "mimetype": "text/x-python",
   "name": "python",
   "nbconvert_exporter": "python",
   "pygments_lexer": "ipython3",
   "version": "3.9.7"
  },
  "orig_nbformat": 4
 },
 "nbformat": 4,
 "nbformat_minor": 2
}
