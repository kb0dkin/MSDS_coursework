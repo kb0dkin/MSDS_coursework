{
 "cells": [
  {
   "cell_type": "markdown",
   "metadata": {},
   "source": [
    "# MSDS 460 Discussion 7\n",
    "Simulation and modeling"
   ]
  },
  {
   "cell_type": "code",
   "execution_count": 3,
   "metadata": {},
   "outputs": [],
   "source": [
    "import numpy as np\n",
    "import simpy\n",
    "import itertools\n",
    "from math import factorial"
   ]
  },
  {
   "cell_type": "markdown",
   "metadata": {},
   "source": [
    "### Unfair dice modeling\n",
    "\n",
    "Simulating the rolls of two weighted dice. The probability of a die showing a particular number is proportional to the number shown. \n",
    "\n",
    "This means for a die with N sides, the probability of the sides is:\n",
    "\n",
    "1: $\\frac{1}{N!}$ <br>\n",
    "2: $\\frac{2}{N!}$ <br>\n",
    "3: $\\frac{3}{N!}$ <br>\n",
    "        . <br>\n",
    "        . <br>\n",
    "        . <br>\n",
    "N: $\\frac{N}{N!}$ <br>"
   ]
  },
  {
   "cell_type": "code",
   "execution_count": 26,
   "metadata": {},
   "outputs": [],
   "source": [
    "# define the die\n",
    "n_sides = 20 # make this whatever you want\n",
    "\n",
    "# just making a map of evenly weighted choices\n",
    "prob_map = np.ndarray([0,])\n",
    "for side in np.arange(n_sides+1):\n",
    "    prob_map = np.append(prob_map,np.ones([side,])*side)\n",
    "\n"
   ]
  },
  {
   "cell_type": "code",
   "execution_count": 27,
   "metadata": {},
   "outputs": [
    {
     "name": "stdout",
     "output_type": "stream",
     "text": [
      "Rolling 2 unfair dice with 20 sides 1000 times\n",
      " we got a mean roll total of 27.709 with a variance of 44.16\n"
     ]
    }
   ],
   "source": [
    "# roll two dice D times, find the mean and variance of the total.\n",
    "d_rolls = 1000\n",
    "\n",
    "# each roll of a die should be entirely independent of the others\n",
    "# so we can just ask for 2*number of rolls (for two dice) and \n",
    "# reshape the array to get a Dx2 array. Then sum, and mean\n",
    "\n",
    "# create a generator\n",
    "rand_seed = 456 # pick a fun number\n",
    "rng = np.random.default_rng(rand_seed)\n",
    "\n",
    "# get the roll results\n",
    "roll_results = prob_map[rng.integers(low=0, high=prob_map.shape[0], size=2*d_rolls)].reshape([d_rolls, 2])\n",
    "\n",
    "# total mean and variance\n",
    "roll_total = roll_results.sum(axis=1)\n",
    "roll_mean = roll_total.mean()\n",
    "roll_var = roll_total.var()\n",
    "\n",
    "# display the results:\n",
    "print(f\"Rolling 2 unfair dice with {n_sides} sides {d_rolls} times\\n we got a mean roll total of {roll_mean} with a variance of {roll_var:.2f}\")"
   ]
  },
  {
   "cell_type": "code",
   "execution_count": null,
   "metadata": {},
   "outputs": [],
   "source": []
  }
 ],
 "metadata": {
  "interpreter": {
   "hash": "e6f5ab44297089514ffa059ea0d83d6392bebfea7e191fb6b7f26c8412c9553b"
  },
  "kernelspec": {
   "display_name": "Python 3.9.7 ('MSDS')",
   "language": "python",
   "name": "python3"
  },
  "language_info": {
   "codemirror_mode": {
    "name": "ipython",
    "version": 3
   },
   "file_extension": ".py",
   "mimetype": "text/x-python",
   "name": "python",
   "nbconvert_exporter": "python",
   "pygments_lexer": "ipython3",
   "version": "3.9.7"
  },
  "orig_nbformat": 4
 },
 "nbformat": 4,
 "nbformat_minor": 2
}
