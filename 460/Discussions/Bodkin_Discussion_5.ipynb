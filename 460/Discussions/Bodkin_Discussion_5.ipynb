{
 "cells": [
  {
   "cell_type": "markdown",
   "metadata": {},
   "source": [
    "# Discussion 5 -- MSDS 460\n",
    "\n",
    "Integer programming, solving the knapsack problem\n",
    "\n",
    "Apparently this uses the branch and bound technique"
   ]
  },
  {
   "cell_type": "code",
   "execution_count": 3,
   "metadata": {},
   "outputs": [],
   "source": [
    "from pulp import LpMaximize, LpProblem, LpVariable, LpInteger\n",
    "\n",
    "sep_str = '---------------------------------'"
   ]
  },
  {
   "cell_type": "code",
   "execution_count": 15,
   "metadata": {},
   "outputs": [
    {
     "name": "stdout",
     "output_type": "stream",
     "text": [
      "Status of solution: 1\n",
      "---------------------------------\n",
      "Total value of items in truck: 79.0\n",
      "We will bring the following items:\n",
      "dining_room_set\n",
      "sofa\n",
      "\n",
      "and we're leaving the following in an alley:\n",
      "bedroom_set\n",
      "gaming_computer\n",
      "television\n"
     ]
    }
   ],
   "source": [
    "# define our variables\n",
    "b = LpVariable(\"bedroom_set\", lowBound=0, upBound=1, cat=LpInteger)\n",
    "d = LpVariable(\"dining_room_set\", lowBound=0, upBound=1, cat=LpInteger)\n",
    "c = LpVariable(\"gaming_computer\", lowBound=0, upBound=1, cat=LpInteger)\n",
    "s = LpVariable(\"sofa\", lowBound=0, upBound=1, cat=LpInteger)\n",
    "t = LpVariable(\"television\", lowBound=0, upBound=1, cat=LpInteger)\n",
    "\n",
    "# define the problem -- maximize the value of what you can fit in the truck\n",
    "truck = LpProblem(\"Moving Truck\", sense=LpMaximize)\n",
    "\n",
    "# constraints -- volume of the truck\n",
    "#           bed         dine        comp        sofa        tv\n",
    "truck +=   800*b   +   600*d   +   300*c   +   400*s   +    200*t   <=  1100\n",
    "\n",
    "# objective function -- maximize the value\n",
    "#           bed         dine        comp        sofa        tv\n",
    "truck +=    60*b   +    48*d   +    14*c    +   31*s    +   10*t\n",
    "\n",
    "# solve it\n",
    "truck.solve()\n",
    "\n",
    "# print out the status\n",
    "print(f\"Status of solution: {truck.status}\")\n",
    "\n",
    "# print value of objective function and variables\n",
    "print(sep_str)\n",
    "print(f\"Total value of items in truck: {truck.objective.value()}\")\n",
    "\n",
    "print(\"We will bring the following items:\")\n",
    "for var in truck.variables():\n",
    "    if var.value() == 1:\n",
    "        print(var.name)\n",
    "\n",
    "print(\"\\nand we're leaving the following in an alley:\")\n",
    "for var in truck.variables():\n",
    "    if var.value() == 0:\n",
    "        print(var.name)\n",
    "\n"
   ]
  },
  {
   "cell_type": "code",
   "execution_count": null,
   "metadata": {},
   "outputs": [],
   "source": []
  }
 ],
 "metadata": {
  "interpreter": {
   "hash": "0ede8e7e71a5f2e64351c10584b1004e0ff656ebf00bf88bb6edfd7da7f0e049"
  },
  "kernelspec": {
   "display_name": "Python 3.9.7 ('MSDS')",
   "language": "python",
   "name": "python3"
  },
  "language_info": {
   "codemirror_mode": {
    "name": "ipython",
    "version": 3
   },
   "file_extension": ".py",
   "mimetype": "text/x-python",
   "name": "python",
   "nbconvert_exporter": "python",
   "pygments_lexer": "ipython3",
   "version": "3.9.7"
  },
  "orig_nbformat": 4
 },
 "nbformat": 4,
 "nbformat_minor": 2
}
