{
 "cells": [
  {
   "cell_type": "markdown",
   "metadata": {},
   "source": [
    "# Discussion Module 4\n",
    "\n",
    "Looking at network models, converting primal to duals, and sensitivity analysis stuff"
   ]
  },
  {
   "cell_type": "code",
   "execution_count": 110,
   "metadata": {},
   "outputs": [],
   "source": [
    "# from pulp import LpProblem, LpMinimize, LpVariable\n",
    "import pulp as plp\n",
    "import numpy as np\n",
    "import pandas as pd\n",
    "# import lpsolve55"
   ]
  },
  {
   "cell_type": "code",
   "execution_count": 2,
   "metadata": {},
   "outputs": [
    {
     "data": {
      "text/plain": [
       "['GLPK_CMD', 'PULP_CBC_CMD']"
      ]
     },
     "execution_count": 2,
     "metadata": {},
     "output_type": "execute_result"
    }
   ],
   "source": [
    "import pulp as plp\n",
    "plp.listSolvers(onlyAvailable=True)"
   ]
  },
  {
   "cell_type": "code",
   "execution_count": 91,
   "metadata": {},
   "outputs": [],
   "source": [
    "# first create the problem\n",
    "\n",
    "prob = plp.LpProblem('CarsTransfers', plp.LpMinimize)\n",
    "\n",
    "# define the variables and constraints for each location\n",
    "# since this is a network problem, the variable are going to be the transfers\n",
    "# and the constraints are going to be the number each location can give or needs\n",
    " \n",
    "# from Newark\n",
    "N2B = plp.LpVariable(\"Newark_to_Boston\", lowBound=0)\n",
    "N2R = plp.LpVariable(\"Newark_to_Richmond\", lowBound=0)\n",
    "\n",
    "# from Jacksonville\n",
    "J2R = plp.LpVariable(\"Jacksonville_to_Richmond\", lowBound=0)\n",
    "J2A = plp.LpVariable(\"Jacksonville_to_Atlanta\", lowBound=0)\n",
    "J2M = plp.LpVariable(\"Jacksonville_to_Mobile\", lowBound=0)\n",
    "\n",
    "# from Boston\n",
    "B2C = plp.LpVariable(\"Boston_to_Columbus\", lowBound=0)\n",
    "\n",
    "# from Columbus\n",
    "C2A = plp.LpVariable(\"Columbus_to_Atlanta\", lowBound=0)\n",
    "\n",
    "# from Atlanta\n",
    "A2R = plp.LpVariable(\"Atlanta_to_Richmond\", lowBound=0)\n",
    "A2M = plp.LpVariable(\"Atlanta_to_Mobile\", lowBound=0)\n",
    "A2C = plp.LpVariable(\"Atlanta_to_Columbus\", lowBound=0)\n",
    "\n",
    "# From Mobile\n",
    "M2A = plp.LpVariable(\"Mobile_to_Atlanta\", lowBound=0)\n",
    "\n",
    "\n",
    "# constraints -- needed or available per city\n",
    "prob += N2B + N2R                          <= 200 # Newark -- only have 200 cars_to_give. Swapped it to gte to make it easier for the solver\n",
    "prob += J2R + J2A + J2M                    <= 300 # Jacksonville -- only have 300 cars_to_give. Swapped it to gte to make it easier for the solver\n",
    "prob += N2B - B2C                          >= 100 # Boston -- need_to_have at least 100 cars\n",
    "prob += B2C + A2C - C2A                    >= 60  # Columbus -- need_to_have at least 60 cars\n",
    "prob += C2A + M2A + J2A - A2C - A2M - A2R  >= 170 # Atlanta > 170 \n",
    "prob += A2M + J2M - M2A                    >= 70  # Mobile > 70\n",
    "prob += N2R + J2R + A2R                    >= 80  # Richmond > 80\n",
    "\n",
    "# objective -- costs of each transfer summed\n",
    "prob += 30*N2B + 40*N2R + 50*J2M + 45*J2A + 50*J2R + 50*B2C + 35*C2A + 40*A2C + 35*A2M + 30*A2R + 25*M2A "
   ]
  },
  {
   "cell_type": "code",
   "execution_count": 92,
   "metadata": {},
   "outputs": [],
   "source": [
    "prob.setSolver(plp.get_solver('PULP_CBC_CMD'))\n"
   ]
  },
  {
   "cell_type": "code",
   "execution_count": 93,
   "metadata": {},
   "outputs": [
    {
     "data": {
      "text/plain": [
       "1"
      ]
     },
     "execution_count": 93,
     "metadata": {},
     "output_type": "execute_result"
    }
   ],
   "source": [
    "prob.solve()"
   ]
  },
  {
   "cell_type": "code",
   "execution_count": 94,
   "metadata": {},
   "outputs": [
    {
     "name": "stdout",
     "output_type": "stream",
     "text": [
      "Total cost: 22350.0\n",
      "Atlanta_to_Columbus:\t\t\t40.0\n",
      "Atlanta_to_Mobile:\t\t\t0.0\n",
      "Atlanta_to_Richmond:\t\t\t0.0\n",
      "Boston_to_Columbus:\t\t\t20.0\n",
      "Columbus_to_Atlanta:\t\t\t0.0\n",
      "Jacksonville_to_Atlanta:\t\t\t210.0\n",
      "Jacksonville_to_Mobile:\t\t\t70.0\n",
      "Jacksonville_to_Richmond:\t\t\t0.0\n",
      "Mobile_to_Atlanta:\t\t\t0.0\n",
      "Newark_to_Boston:\t\t\t120.0\n",
      "Newark_to_Richmond:\t\t\t80.0\n"
     ]
    }
   ],
   "source": [
    "# look through the values of each variable and the output of the objective function\n",
    "# for var in prob.variablesDict\n",
    "print(f\"Total cost: {prob.objective.value()}\")\n",
    "\n",
    "for var in prob.variables():\n",
    "    print(f\"{var.name}:\\t\\t\\t{var.value()}\")"
   ]
  },
  {
   "cell_type": "code",
   "execution_count": 95,
   "metadata": {},
   "outputs": [],
   "source": [
    "from lpsolve55 import *\n",
    "from lp_maker import *\n"
   ]
  },
  {
   "cell_type": "code",
   "execution_count": 129,
   "metadata": {},
   "outputs": [],
   "source": [
    "\n",
    "# lpsolve so that we can get the sensitivity analysis\n",
    "# Xj order :\n",
    "# N2B N2R J2R J2A J2M B2C C2A A2C A2M A2R M2A \n",
    "\n",
    "   #     NWK    JAC  BOS  CBS  ATL  MOB  RCH\n",
    "rhs =  [-200, -300, 100,  60, 170,  70,  80] # rhs of constraint function \n",
    "comp = [   1,    1,   1,   1,   1,   1,   1] # -1: lt; 0: eq; 1: gt\n",
    "\n",
    "# 30*N2B + 40*N2R + 50*J2R+ 45*J2A + 50*J2M + 50*B2C + 35*C2A + 40*A2C + 35*A2M + 30*A2R + 25*M2A \n",
    "obj = [30, 40, 50, 45, 50, 50, 35, 40, 35, 30, 25]\n",
    "\n",
    "      # N2B N2R J2R J2A J2M B2C C2A A2C A2M A2R M2A \n",
    "Aij = [[-1, -1,  0,  0,  0,  0,  0,  0,  0,  0,  0],  # Newark -- only have 200 cars_to_give. Swapped it to gte to make it easier for the solver\n",
    "       [ 0,  0, -1, -1, -1,  0,  0,  0,  0,  0,  0],  # Jacksonville -- only have 300 cars_to_give. Swapped it to gte to make it easier for the solver\n",
    "       [ 1,  0,  0,  0,  0, -1,  0,  0,  0,  0,  0],  # Boston -- need_to_have at least 100 cars\n",
    "       [ 0,  0,  0,  0,  0,  1, -1,  1,  0,  0,  0],  # Columbus -- need_to_have at least 60 cars\n",
    "       [ 0,  0,  0,  1,  0,  0,  1, -1, -1, -1,  1],  # Atlanta > 170 \n",
    "       [ 0,  0,  0,  0,  1,  0,  0,  0,  1,  0, -1],  # Mobile > 70\n",
    "       [ 0,  1,  1,  0,  0,  0,  0,  0,  0,  1,  0]]  # Richmond > 80\n",
    "\n",
    "\n",
    "\n",
    "lp_handle = lp_maker(obj, Aij, rhs, comp, setminim=1)\n"
   ]
  },
  {
   "cell_type": "code",
   "execution_count": 154,
   "metadata": {},
   "outputs": [],
   "source": [
    "\n",
    "trip_names = [N2B, N2R, J2R, J2A, J2M, B2C, C2A, A2C, A2M, A2R, M2A]\n",
    "cities = ['NWK', 'JAC', 'BOS', 'CBS', 'ATL', 'MOB', 'RCH']\n",
    "dual_indices = cities+trip_names\n"
   ]
  },
  {
   "cell_type": "code",
   "execution_count": 171,
   "metadata": {},
   "outputs": [
    {
     "name": "stdout",
     "output_type": "stream",
     "text": [
      "Any failures: 0\n",
      "Objective Function value: 22350.0\n",
      "\n",
      "Newark_to_Boston: 120.00\n",
      "Newark_to_Richmond: 80.00\n",
      "Jacksonville_to_Richmond: 0.00\n",
      "Jacksonville_to_Atlanta: 210.00\n",
      "Jacksonville_to_Mobile: 70.00\n",
      "Boston_to_Columbus: 20.00\n",
      "Columbus_to_Atlanta: 0.00\n",
      "Atlanta_to_Columbus: 40.00\n",
      "Atlanta_to_Mobile: 0.00\n",
      "Atlanta_to_Richmond: 0.00\n",
      "Mobile_to_Atlanta: 0.00\n"
     ]
    }
   ],
   "source": [
    "lpstat = lpsolve('solve', lp_handle)\n",
    "print(f\"Any failures: {lpstat}\")\n",
    "print(f\"Objective Function value: {lpsolve('get_objective', lp_handle)}\\n\") \n",
    "var_sols = lpsolve('get_variables', lp_handle)\n",
    "for ii in range(len(trip_names)):\n",
    "    print(f\"{trip_names[ii]}: {var_sols[0][ii]:.02f}\")"
   ]
  },
  {
   "cell_type": "code",
   "execution_count": 166,
   "metadata": {},
   "outputs": [],
   "source": [
    "[frm, till, fromval, tilval, ret] = lpsolve('get_sensitivity_obj',lp_handle)\n",
    "[duals, dualsfrom, dualstill, _] = lpsolve('get_sensitivity_rhs', lp_handle)\n",
    "\n",
    "\n",
    "\n",
    "sens_pd = pd.DataFrame(np.array([frm, till, fromval]).round().T, index=trip_names, columns=['Lower', 'Upper', 'FromVal'])\n",
    "dual_pd = pd.DataFrame(np.array([duals, dualsfrom, dualstill]).round().T, index=dual_indices, columns= ['Reduced Cost','Lower Limit','Upper Limit'])"
   ]
  },
  {
   "cell_type": "code",
   "execution_count": 167,
   "metadata": {},
   "outputs": [
    {
     "data": {
      "text/html": [
       "<div>\n",
       "<style scoped>\n",
       "    .dataframe tbody tr th:only-of-type {\n",
       "        vertical-align: middle;\n",
       "    }\n",
       "\n",
       "    .dataframe tbody tr th {\n",
       "        vertical-align: top;\n",
       "    }\n",
       "\n",
       "    .dataframe thead th {\n",
       "        text-align: right;\n",
       "    }\n",
       "</style>\n",
       "<table border=\"1\" class=\"dataframe\">\n",
       "  <thead>\n",
       "    <tr style=\"text-align: right;\">\n",
       "      <th></th>\n",
       "      <th>Lower</th>\n",
       "      <th>Upper</th>\n",
       "      <th>FromVal</th>\n",
       "    </tr>\n",
       "  </thead>\n",
       "  <tbody>\n",
       "    <tr>\n",
       "      <th>Newark_to_Boston</th>\n",
       "      <td>25.0</td>\n",
       "      <td>35.0</td>\n",
       "      <td>-inf</td>\n",
       "    </tr>\n",
       "    <tr>\n",
       "      <th>Newark_to_Richmond</th>\n",
       "      <td>-5.0</td>\n",
       "      <td>45.0</td>\n",
       "      <td>-inf</td>\n",
       "    </tr>\n",
       "    <tr>\n",
       "      <th>Jacksonville_to_Richmond</th>\n",
       "      <td>45.0</td>\n",
       "      <td>inf</td>\n",
       "      <td>40.0</td>\n",
       "    </tr>\n",
       "    <tr>\n",
       "      <th>Jacksonville_to_Atlanta</th>\n",
       "      <td>40.0</td>\n",
       "      <td>50.0</td>\n",
       "      <td>-inf</td>\n",
       "    </tr>\n",
       "    <tr>\n",
       "      <th>Jacksonville_to_Mobile</th>\n",
       "      <td>20.0</td>\n",
       "      <td>80.0</td>\n",
       "      <td>-inf</td>\n",
       "    </tr>\n",
       "    <tr>\n",
       "      <th>Boston_to_Columbus</th>\n",
       "      <td>45.0</td>\n",
       "      <td>55.0</td>\n",
       "      <td>-inf</td>\n",
       "    </tr>\n",
       "    <tr>\n",
       "      <th>Columbus_to_Atlanta</th>\n",
       "      <td>-40.0</td>\n",
       "      <td>inf</td>\n",
       "      <td>-inf</td>\n",
       "    </tr>\n",
       "    <tr>\n",
       "      <th>Atlanta_to_Columbus</th>\n",
       "      <td>35.0</td>\n",
       "      <td>45.0</td>\n",
       "      <td>-inf</td>\n",
       "    </tr>\n",
       "    <tr>\n",
       "      <th>Atlanta_to_Mobile</th>\n",
       "      <td>5.0</td>\n",
       "      <td>inf</td>\n",
       "      <td>70.0</td>\n",
       "    </tr>\n",
       "    <tr>\n",
       "      <th>Atlanta_to_Richmond</th>\n",
       "      <td>-0.0</td>\n",
       "      <td>inf</td>\n",
       "      <td>40.0</td>\n",
       "    </tr>\n",
       "    <tr>\n",
       "      <th>Mobile_to_Atlanta</th>\n",
       "      <td>-5.0</td>\n",
       "      <td>inf</td>\n",
       "      <td>210.0</td>\n",
       "    </tr>\n",
       "  </tbody>\n",
       "</table>\n",
       "</div>"
      ],
      "text/plain": [
       "                          Lower  Upper  FromVal\n",
       "Newark_to_Boston           25.0   35.0     -inf\n",
       "Newark_to_Richmond         -5.0   45.0     -inf\n",
       "Jacksonville_to_Richmond   45.0    inf     40.0\n",
       "Jacksonville_to_Atlanta    40.0   50.0     -inf\n",
       "Jacksonville_to_Mobile     20.0   80.0     -inf\n",
       "Boston_to_Columbus         45.0   55.0     -inf\n",
       "Columbus_to_Atlanta       -40.0    inf     -inf\n",
       "Atlanta_to_Columbus        35.0   45.0     -inf\n",
       "Atlanta_to_Mobile           5.0    inf     70.0\n",
       "Atlanta_to_Richmond        -0.0    inf     40.0\n",
       "Mobile_to_Atlanta          -5.0    inf    210.0"
      ]
     },
     "execution_count": 167,
     "metadata": {},
     "output_type": "execute_result"
    }
   ],
   "source": [
    "sens_pd.replace(to_replace={-1e+30:-np.inf, 1e30:np.inf})"
   ]
  },
  {
   "cell_type": "code",
   "execution_count": 168,
   "metadata": {},
   "outputs": [
    {
     "data": {
      "text/html": [
       "<div>\n",
       "<style scoped>\n",
       "    .dataframe tbody tr th:only-of-type {\n",
       "        vertical-align: middle;\n",
       "    }\n",
       "\n",
       "    .dataframe tbody tr th {\n",
       "        vertical-align: top;\n",
       "    }\n",
       "\n",
       "    .dataframe thead th {\n",
       "        text-align: right;\n",
       "    }\n",
       "</style>\n",
       "<table border=\"1\" class=\"dataframe\">\n",
       "  <thead>\n",
       "    <tr style=\"text-align: right;\">\n",
       "      <th></th>\n",
       "      <th>Reduced Cost</th>\n",
       "      <th>Lower Limit</th>\n",
       "      <th>Upper Limit</th>\n",
       "    </tr>\n",
       "  </thead>\n",
       "  <tbody>\n",
       "    <tr>\n",
       "      <th>NWK</th>\n",
       "      <td>5.0</td>\n",
       "      <td>-240.0</td>\n",
       "      <td>-180.0</td>\n",
       "    </tr>\n",
       "    <tr>\n",
       "      <th>JAC</th>\n",
       "      <td>0.0</td>\n",
       "      <td>-inf</td>\n",
       "      <td>inf</td>\n",
       "    </tr>\n",
       "    <tr>\n",
       "      <th>BOS</th>\n",
       "      <td>35.0</td>\n",
       "      <td>60.0</td>\n",
       "      <td>120.0</td>\n",
       "    </tr>\n",
       "    <tr>\n",
       "      <th>CBS</th>\n",
       "      <td>85.0</td>\n",
       "      <td>20.0</td>\n",
       "      <td>80.0</td>\n",
       "    </tr>\n",
       "    <tr>\n",
       "      <th>ATL</th>\n",
       "      <td>45.0</td>\n",
       "      <td>-40.0</td>\n",
       "      <td>190.0</td>\n",
       "    </tr>\n",
       "    <tr>\n",
       "      <th>MOB</th>\n",
       "      <td>50.0</td>\n",
       "      <td>0.0</td>\n",
       "      <td>90.0</td>\n",
       "    </tr>\n",
       "    <tr>\n",
       "      <th>RCH</th>\n",
       "      <td>45.0</td>\n",
       "      <td>40.0</td>\n",
       "      <td>100.0</td>\n",
       "    </tr>\n",
       "    <tr>\n",
       "      <th>Newark_to_Boston</th>\n",
       "      <td>0.0</td>\n",
       "      <td>-inf</td>\n",
       "      <td>inf</td>\n",
       "    </tr>\n",
       "    <tr>\n",
       "      <th>Newark_to_Richmond</th>\n",
       "      <td>0.0</td>\n",
       "      <td>-inf</td>\n",
       "      <td>inf</td>\n",
       "    </tr>\n",
       "    <tr>\n",
       "      <th>Jacksonville_to_Richmond</th>\n",
       "      <td>5.0</td>\n",
       "      <td>-20.0</td>\n",
       "      <td>40.0</td>\n",
       "    </tr>\n",
       "    <tr>\n",
       "      <th>Jacksonville_to_Atlanta</th>\n",
       "      <td>0.0</td>\n",
       "      <td>-inf</td>\n",
       "      <td>inf</td>\n",
       "    </tr>\n",
       "    <tr>\n",
       "      <th>Jacksonville_to_Mobile</th>\n",
       "      <td>0.0</td>\n",
       "      <td>-inf</td>\n",
       "      <td>inf</td>\n",
       "    </tr>\n",
       "    <tr>\n",
       "      <th>Boston_to_Columbus</th>\n",
       "      <td>0.0</td>\n",
       "      <td>-inf</td>\n",
       "      <td>inf</td>\n",
       "    </tr>\n",
       "    <tr>\n",
       "      <th>Columbus_to_Atlanta</th>\n",
       "      <td>75.0</td>\n",
       "      <td>-40.0</td>\n",
       "      <td>inf</td>\n",
       "    </tr>\n",
       "    <tr>\n",
       "      <th>Atlanta_to_Columbus</th>\n",
       "      <td>0.0</td>\n",
       "      <td>-inf</td>\n",
       "      <td>inf</td>\n",
       "    </tr>\n",
       "    <tr>\n",
       "      <th>Atlanta_to_Mobile</th>\n",
       "      <td>30.0</td>\n",
       "      <td>-210.0</td>\n",
       "      <td>70.0</td>\n",
       "    </tr>\n",
       "    <tr>\n",
       "      <th>Atlanta_to_Richmond</th>\n",
       "      <td>30.0</td>\n",
       "      <td>-20.0</td>\n",
       "      <td>40.0</td>\n",
       "    </tr>\n",
       "    <tr>\n",
       "      <th>Mobile_to_Atlanta</th>\n",
       "      <td>30.0</td>\n",
       "      <td>-70.0</td>\n",
       "      <td>210.0</td>\n",
       "    </tr>\n",
       "  </tbody>\n",
       "</table>\n",
       "</div>"
      ],
      "text/plain": [
       "                          Reduced Cost  Lower Limit  Upper Limit\n",
       "NWK                                5.0       -240.0       -180.0\n",
       "JAC                                0.0         -inf          inf\n",
       "BOS                               35.0         60.0        120.0\n",
       "CBS                               85.0         20.0         80.0\n",
       "ATL                               45.0        -40.0        190.0\n",
       "MOB                               50.0          0.0         90.0\n",
       "RCH                               45.0         40.0        100.0\n",
       "Newark_to_Boston                   0.0         -inf          inf\n",
       "Newark_to_Richmond                 0.0         -inf          inf\n",
       "Jacksonville_to_Richmond           5.0        -20.0         40.0\n",
       "Jacksonville_to_Atlanta            0.0         -inf          inf\n",
       "Jacksonville_to_Mobile             0.0         -inf          inf\n",
       "Boston_to_Columbus                 0.0         -inf          inf\n",
       "Columbus_to_Atlanta               75.0        -40.0          inf\n",
       "Atlanta_to_Columbus                0.0         -inf          inf\n",
       "Atlanta_to_Mobile                 30.0       -210.0         70.0\n",
       "Atlanta_to_Richmond               30.0        -20.0         40.0\n",
       "Mobile_to_Atlanta                 30.0        -70.0        210.0"
      ]
     },
     "execution_count": 168,
     "metadata": {},
     "output_type": "execute_result"
    }
   ],
   "source": [
    "dual_pd.replace(to_replace={-1e+30:-np.inf, 1e30:np.inf})"
   ]
  },
  {
   "cell_type": "code",
   "execution_count": null,
   "metadata": {},
   "outputs": [],
   "source": []
  }
 ],
 "metadata": {
  "interpreter": {
   "hash": "e6f5ab44297089514ffa059ea0d83d6392bebfea7e191fb6b7f26c8412c9553b"
  },
  "kernelspec": {
   "display_name": "Python 3.9.7 ('MSDS')",
   "language": "python",
   "name": "python3"
  },
  "language_info": {
   "codemirror_mode": {
    "name": "ipython",
    "version": 3
   },
   "file_extension": ".py",
   "mimetype": "text/x-python",
   "name": "python",
   "nbconvert_exporter": "python",
   "pygments_lexer": "ipython3",
   "version": "3.9.7"
  }
 },
 "nbformat": 4,
 "nbformat_minor": 2
}
