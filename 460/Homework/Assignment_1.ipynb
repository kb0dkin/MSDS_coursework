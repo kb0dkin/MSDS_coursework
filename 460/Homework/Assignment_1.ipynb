{
 "cells": [
  {
   "cell_type": "markdown",
   "metadata": {},
   "source": [
    "# MSDS 460 Assignment 1\n",
    "Currency conversion problem using Linear Programming"
   ]
  },
  {
   "cell_type": "code",
   "execution_count": 83,
   "metadata": {},
   "outputs": [],
   "source": [
    "# import all of the libraries we need\n",
    "import numpy as np\n",
    "from pulp import LpProblem, LpMinimize, LpMaximize, LpVariable, LpContinuous\n",
    "from matplotlib import pyplot as plt\n"
   ]
  },
  {
   "cell_type": "markdown",
   "metadata": {},
   "source": [
    "### Problem Overview\n",
    "We have a bucket of money in a few different currencies, and we're trying to maximize the amount of money \n",
    "we have after some exchanges, while satisfying a few constraints.\n",
    "\n",
    "First, let's look at the conversion rates."
   ]
  },
  {
   "cell_type": "code",
   "execution_count": 84,
   "metadata": {},
   "outputs": [
    {
     "name": "stdout",
     "output_type": "stream",
     "text": [
      "Current holdings in USD: 9.06 million\n",
      "Current holdings in EUR: 9.15 million\n",
      "Current holdings in GBP: 4.68 million\n",
      "Current holdings in HKD: 71.00 million\n",
      "Current holdings in JPY: 1079.42 million\n"
     ]
    }
   ],
   "source": [
    "# currency we have (bid) rates are along the vertical axis,\n",
    "# what we end up with (ask) is on the horizontal axis\n",
    "# order of currencies is:\n",
    "# USD, EUR, GBP, HKD, JPY\n",
    "rates = np.array([[1, 1.01864, .064090, 7.7985, 118.55],\n",
    "                 [.97240, 1, .62950, 7.65520, 116.41],\n",
    "                 [1.5593, 1.5881, 1, 12.154, 184.97],\n",
    "                 [.12812, .13040, .08210, 1, 15.10050],\n",
    "                 [.00843, .00456, .00540, .06580, 1]])\n",
    "\n",
    "# and what we currently have in millions, converted to USD\n",
    "pot = np.array([2, 5, 1, 3, 30])\n",
    "pot_conv = np.matmul(pot,rates)\n",
    "\n",
    "print(f\"Current holdings in USD: {pot_conv[0]:.2f} million\")\n",
    "print(f\"Current holdings in EUR: {pot_conv[1]:.2f} million\")\n",
    "print(f\"Current holdings in GBP: {pot_conv[2]:.2f} million\")\n",
    "print(f\"Current holdings in HKD: {pot_conv[3]:.2f} million\")\n",
    "print(f\"Current holdings in JPY: {pot_conv[4]:.2f} million\")"
   ]
  },
  {
   "cell_type": "markdown",
   "metadata": {},
   "source": [
    "### Outlining the problem\n",
    "\n",
    "We are wanting to increase our euro and yen holdings to 8 million EUR and 54 million JPY, while maintaining at least 250k in USD in each currency. \n",
    "For calculating the amount for each currency, I will calculate the values using the bid conversion, not the ask.\n",
    "That means that I will need at least EUR*.9724 >= $250k, for example\n",
    "\n",
    "So, that means that we need to have the following constraints (in millions)\n",
    "\n",
    "<code>\n",
    "USD >= .25;\n",
    ".9724*EUR >= .25;\n",
    "1.5593*GBP >= .25;\n",
    ".12812*HKD >= .25;\n",
    ".00843*JPY >= .25;\n",
    "\n",
    "\n",
    "EUR >= 8;\n",
    "JPY >= 54 </code>\n",
    "\n",
    "### Problem 1\n",
    "__Create a model for this problem and solve it__\n",
    "\n",
    "So unless I'm misunderstanding this problem, what we have to do is set up a variable for each transaction, not each final quantity.\n",
    "That means a variable for conversion from USD to GBP, one for USD to EUR, etc. We also need a term for any residual cash that isn't converted from a particular currency.\n",
    "\n",
    "From there, we define each of our constraints using a combinations of these transactions. So, for USD we would have the initial constraint, which is\n",
    "\n",
    "<code> 2M USD == USD2EUR + USD2GBP + USD2HKD + USD2JPY + USD2USD [residual, not converted] </code>\n",
    "\n",
    "and also\n",
    "\n",
    "<code> .25M USD <= USD2USD + .97240 * EUR2USD + 1.5593 GBP2USD + .12812 HKD2USD + .00843 JPY2USD </code>"
   ]
  },
  {
   "cell_type": "code",
   "execution_count": 85,
   "metadata": {},
   "outputs": [],
   "source": [
    "# set up variables for each currency type\n",
    "U2E = LpVariable(\"U2E\", lowBound=0, upBound=2) # How many USD to Euroes. Can't be negative\n",
    "U2G = LpVariable(\"U2G\", lowBound=0, upBound=2) # \"\" to GBP\n",
    "U2H = LpVariable(\"U2H\", lowBound=0, upBound=2)\n",
    "U2J = LpVariable(\"U2J\", lowBound=0, upBound=2)\n",
    "Ures = LpVariable(\"Ures\", lowBound=0, upBound=2) # residual. Can I drop this term if I set the initial conditions to an inequality? Maybe...\n",
    "\n",
    "E2U = LpVariable(\"E2U\", lowBound=0, upBound=5) # EUR 2 USD\n",
    "E2G = LpVariable(\"E2G\", lowBound=0, upBound=5)\n",
    "E2H = LpVariable(\"E2H\", lowBound=0, upBound=5)\n",
    "E2J = LpVariable(\"E2J\", lowBound=0, upBound=5)\n",
    "Eres = LpVariable(\"Eres\", lowBound=0, upBound=5)\n",
    "\n",
    "G2U = LpVariable(\"G2U\", lowBound=0, upBound=1)\n",
    "G2E = LpVariable(\"G2E\", lowBound=0, upBound=1)\n",
    "G2H = LpVariable(\"G2H\", lowBound=0, upBound=1)\n",
    "G2J = LpVariable(\"G2J\", lowBound=0, upBound=1)\n",
    "Gres = LpVariable(\"Gres\", lowBound=0, upBound=1)\n",
    "\n",
    "H2U = LpVariable(\"H2U\", lowBound=0, upBound=3)\n",
    "H2E = LpVariable(\"H2E\", lowBound=0, upBound=3)\n",
    "H2G = LpVariable(\"H2G\", lowBound=0, upBound=3)\n",
    "H2J = LpVariable(\"H2J\", lowBound=0, upBound=3)\n",
    "Hres = LpVariable(\"Hres\", lowBound=0, upBound=3)\n",
    "\n",
    "J2U = LpVariable(\"J2U\", lowBound=0, upBound=30)\n",
    "J2E = LpVariable(\"J2E\", lowBound=0, upBound=30)\n",
    "J2G = LpVariable(\"J2G\", lowBound=0, upBound=30)\n",
    "J2H = LpVariable(\"J2H\", lowBound=0, upBound=30)\n",
    "Jres = LpVariable(\"Jres\", lowBound=0, upBound=30)\n",
    "\n",
    "# to make the objective functions easier, we'll create a variable\n",
    "# for the final amount in each currency\n",
    "USDf = LpVariable(\"USDf\")\n",
    "EURf = LpVariable(\"EURf\")\n",
    "GBPf = LpVariable(\"GBPf\")\n",
    "HKDf = LpVariable(\"HKDf\")\n",
    "JPYf = LpVariable(\"JPYf\")\n",
    "\n",
    "# now the constraints:\n",
    "prob = LpProblem('MoneyConversion', LpMaximize)\n",
    "# Initial values\n",
    "prob += Ures + U2E + U2G + U2H + U2J == 2\n",
    "prob += Eres + E2U + E2G + E2H + E2J == 5\n",
    "prob += Gres + G2U + G2E + G2H + G2J == 1\n",
    "prob += Hres + H2U + H2E + H2G + H2J == 3\n",
    "prob += Jres + J2U + J2E + J2G + J2H == 30\n",
    "\n",
    "# The total amounts converted must be less than or equal to the final conversion values\n",
    "prob += Ures +         .9724*E2U +   1.5593*G2U +  .12812*H2U +   .00843*J2U -  USDf == 0\n",
    "prob += 1.01864*U2E +  Eres +        1.5881*G2E +  .1304*H2E +    .00856*J2E -  EURf == 0# conversion of .25 to Euro using Bid rate, not Ask\n",
    "prob += .6409*U2G +    .6295*E2G +   Gres +         .08210*H2G +  .0054*J2G  -  GBPf == 0 # \"\"\n",
    "prob += 7.7985*U2H +   7.6552*E2H +  12.154*G2H +   Hres +        .0658*J2H  -  HKDf == 0\n",
    "prob += 118.55*U2J +   116.41*E2J +  184.97*G2J +   15.1005*H2J +  Jres      -  JPYf == 0\n",
    "\n",
    "\n",
    "# minimums for the final values\n",
    "prob += USDf >= .25\n",
    "prob += EURf >= .25/.9724  # using the Bid values, not the ask\n",
    "prob += GBPf >= .25/1.5593\n",
    "prob += HKDf >= .25/.12812\n",
    "prob += JPYf >= .25/.00843\n",
    "\n",
    "# Need at least 8M GBP and 24M JPY\n",
    "prob +=  EURf >= 8\n",
    "prob +=  JPYf >= 54 \n",
    "\n",
    "# and the objective function: how much do we have of each, in USD?\n",
    "prob += USDf + .9724*EURf + 1.5593*GBPf + .12812*HKDf + .00843*JPYf "
   ]
  },
  {
   "cell_type": "code",
   "execution_count": 86,
   "metadata": {},
   "outputs": [
    {
     "data": {
      "text/plain": [
       "1"
      ]
     },
     "execution_count": 86,
     "metadata": {},
     "output_type": "execute_result"
    }
   ],
   "source": [
    "\n",
    "# solve it, and print everything really pretty\n",
    "prob.solve()\n"
   ]
  },
  {
   "cell_type": "code",
   "execution_count": 87,
   "metadata": {},
   "outputs": [
    {
     "name": "stdout",
     "output_type": "stream",
     "text": [
      "We want (in millions): 0.29608381 USD, 8.0 EUR, 0.16032835 GBP, 1.9512957 HKD, 54.0 JPY\n",
      "This gives us a total of 9.030503811239 million USD\n"
     ]
    }
   ],
   "source": [
    "print(f\"We want (in millions): {USDf.value()} USD, {EURf.value()} EUR, {GBPf.value()} GBP, {HKDf.value()} HKD, {JPYf.value()} JPY\")\n",
    "print(f\"This gives us a total of {prob.objective.value()} million USD\")\n"
   ]
  },
  {
   "cell_type": "code",
   "execution_count": 88,
   "metadata": {},
   "outputs": [
    {
     "name": "stdout",
     "output_type": "stream",
     "text": [
      "7.7792\n",
      "0.249999996155\n",
      "0.250000005084\n",
      "0.45522\n"
     ]
    }
   ],
   "source": [
    "# equivalents of each in USD\n",
    "print(EURf.value()*.9724)\n",
    "print(GBPf.value()*1.5593)\n",
    "print(HKDf.value()*.12812)\n",
    "print(JPYf.value()*.00843)"
   ]
  },
  {
   "cell_type": "markdown",
   "metadata": {},
   "source": [
    "### Trading plan (question 2)\n",
    "Since we created variables for each trade, we just need to print out all of the variables. Isn't that nice?"
   ]
  },
  {
   "cell_type": "code",
   "execution_count": 89,
   "metadata": {},
   "outputs": [
    {
     "name": "stdout",
     "output_type": "stream",
     "text": [
      "E2G: 0.0\n",
      "E2H: 0.0\n",
      "E2J: 0.0\n",
      "E2U: 0.0\n",
      "EURf: 8.0\n",
      "Eres: 5.0\n",
      "G2E: 0.60620868\n",
      "G2H: 0.0\n",
      "G2J: 0.23346297\n",
      "G2U: 0.0\n",
      "GBPf: 0.16032835\n",
      "Gres: 0.16032835\n",
      "H2E: 0.0\n",
      "H2G: 0.0\n",
      "H2J: 0.0\n",
      "H2U: 2.3109882\n",
      "HKDf: 1.9512957\n",
      "Hres: 0.68901178\n",
      "J2E: 0.0\n",
      "J2G: 0.0\n",
      "J2H: 19.183646\n",
      "J2U: 0.0\n",
      "JPYf: 54.0\n",
      "Jres: 10.816354\n",
      "U2E: 2.0\n",
      "U2G: 0.0\n",
      "U2H: 0.0\n",
      "U2J: 0.0\n",
      "USDf: 0.29608381\n",
      "Ures: 0.0\n"
     ]
    }
   ],
   "source": [
    "for var in prob.variables():\n",
    "    print(f\"{var}: {var.value()}\")"
   ]
  },
  {
   "cell_type": "markdown",
   "metadata": {},
   "source": [
    "### Transaction Costs (Question 3)\n",
    "\n",
    "Subtract post-transaction costs from initial valuation in USD"
   ]
  },
  {
   "cell_type": "code",
   "execution_count": 90,
   "metadata": {},
   "outputs": [
    {
     "name": "stdout",
     "output_type": "stream",
     "text": [
      "Transaction costs: 0.028056188760999135M USD\n"
     ]
    }
   ],
   "source": [
    "print(f\"Transaction costs: {pot_conv[0] - prob.objective.value()}M USD\")"
   ]
  },
  {
   "cell_type": "markdown",
   "metadata": {},
   "source": [
    "### Changing the minimum holdings (Question 4)\n",
    "\n",
    "What happens if we change the minimum holdings from 250k to 50k?"
   ]
  },
  {
   "cell_type": "code",
   "execution_count": 96,
   "metadata": {},
   "outputs": [
    {
     "data": {
      "text/plain": [
       "1"
      ]
     },
     "execution_count": 96,
     "metadata": {},
     "output_type": "execute_result"
    }
   ],
   "source": [
    "# set up variables for each currency type\n",
    "U2E = LpVariable(\"U2E\", lowBound=0, upBound=2) # How many USD to Euroes. Can't be negative\n",
    "U2G = LpVariable(\"U2G\", lowBound=0, upBound=2) # \"\" to GBP\n",
    "U2H = LpVariable(\"U2H\", lowBound=0, upBound=2)\n",
    "U2J = LpVariable(\"U2J\", lowBound=0, upBound=2)\n",
    "Ures = LpVariable(\"Ures\", lowBound=0, upBound=2) # residual. Can I drop this term if I set the initial conditions to an inequality? Maybe...\n",
    "\n",
    "E2U = LpVariable(\"E2U\", lowBound=0, upBound=5) # EUR 2 USD\n",
    "E2G = LpVariable(\"E2G\", lowBound=0, upBound=5)\n",
    "E2H = LpVariable(\"E2H\", lowBound=0, upBound=5)\n",
    "E2J = LpVariable(\"E2J\", lowBound=0, upBound=5)\n",
    "Eres = LpVariable(\"Eres\", lowBound=0, upBound=5)\n",
    "\n",
    "G2U = LpVariable(\"G2U\", lowBound=0, upBound=1)\n",
    "G2E = LpVariable(\"G2E\", lowBound=0, upBound=1)\n",
    "G2H = LpVariable(\"G2H\", lowBound=0, upBound=1)\n",
    "G2J = LpVariable(\"G2J\", lowBound=0, upBound=1)\n",
    "Gres = LpVariable(\"Gres\", lowBound=0, upBound=1)\n",
    "\n",
    "H2U = LpVariable(\"H2U\", lowBound=0, upBound=3)\n",
    "H2E = LpVariable(\"H2E\", lowBound=0, upBound=3)\n",
    "H2G = LpVariable(\"H2G\", lowBound=0, upBound=3)\n",
    "H2J = LpVariable(\"H2J\", lowBound=0, upBound=3)\n",
    "Hres = LpVariable(\"Hres\", lowBound=0, upBound=3)\n",
    "\n",
    "J2U = LpVariable(\"J2U\", lowBound=0, upBound=30)\n",
    "J2E = LpVariable(\"J2E\", lowBound=0, upBound=30)\n",
    "J2G = LpVariable(\"J2G\", lowBound=0, upBound=30)\n",
    "J2H = LpVariable(\"J2H\", lowBound=0, upBound=30)\n",
    "Jres = LpVariable(\"Jres\", lowBound=0, upBound=30)\n",
    "\n",
    "# to make the objective functions easier, we'll create a variable\n",
    "# for the final amount in each currency\n",
    "USDf = LpVariable(\"USDf\")\n",
    "EURf = LpVariable(\"EURf\")\n",
    "GBPf = LpVariable(\"GBPf\")\n",
    "HKDf = LpVariable(\"HKDf\")\n",
    "JPYf = LpVariable(\"JPYf\")\n",
    "\n",
    "# now the constraints:\n",
    "prob_4 = LpProblem('MoneyConversion', LpMaximize)\n",
    "# Initial values\n",
    "prob_4 += Ures + U2E + U2G + U2H + U2J == 2\n",
    "prob_4 += Eres + E2U + E2G + E2H + E2J == 5\n",
    "prob_4 += Gres + G2U + G2E + G2H + G2J == 1\n",
    "prob_4 += Hres + H2U + H2E + H2G + H2J == 3\n",
    "prob_4 += Jres + J2U + J2E + J2G + J2H == 30\n",
    "\n",
    "# The total amounts converted must be less than or equal to the final conversion values\n",
    "prob_4 += Ures +         .9724*E2U +   1.5593*G2U +  .12812*H2U +   .00843*J2U -  USDf == 0\n",
    "prob_4 += 1.01864*U2E +  Eres +        1.5881*G2E +  .1304*H2E +    .00856*J2E -  EURf == 0# conversion of .25 to Euro using Bid rate, not Ask\n",
    "prob_4 += .6409*U2G +    .6295*E2G +   Gres +         .08210*H2G +  .0054*J2G  -  GBPf == 0 # \"\"\n",
    "prob_4 += 7.7985*U2H +   7.6552*E2H +  12.154*G2H +   Hres +        .0658*J2H  -  HKDf == 0\n",
    "prob_4 += 118.55*U2J +   116.41*E2J +  184.97*G2J +   15.1005*H2J +  Jres      -  JPYf == 0\n",
    "\n",
    "\n",
    "# minimums for the final values\n",
    "prob_4 += USDf >= .05\n",
    "prob_4 += EURf >= .05/.9724  # using the Bid values, not the ask\n",
    "prob_4 += GBPf >= .05/1.5593\n",
    "prob_4 += HKDf >= .05/.12812\n",
    "prob_4 += JPYf >= .05/.00843\n",
    "\n",
    "# Need at least 8M GBP and 24M JPY\n",
    "prob_4 +=  EURf >= 8\n",
    "prob_4 +=  JPYf >= 54 \n",
    "\n",
    "# and the objective function: how much do we have of each, in USD?\n",
    "prob_4 += USDf + .9724*EURf + 1.5593*GBPf + .12812*HKDf + .00843*JPYf \n",
    "\n",
    "prob_4.solve()"
   ]
  },
  {
   "cell_type": "code",
   "execution_count": 100,
   "metadata": {},
   "outputs": [
    {
     "name": "stdout",
     "output_type": "stream",
     "text": [
      "We want (in millions): 0.05 USD, 8.0 EUR, 0.10185209 GBP, 4.5837409 HKD, 54.0 JPY\n",
      "This gives us a total of 9.030506848045 million USD\n",
      "This gives us an objective cost of 0.028053151954999578\n"
     ]
    }
   ],
   "source": [
    "# print out the values\n",
    "print(f\"We want (in millions): {USDf.value()} USD, {EURf.value()} EUR, {GBPf.value()} GBP, {HKDf.value()} HKD, {JPYf.value()} JPY\")\n",
    "print(f\"This gives us a total of {prob.objective.value()} million USD\")\n",
    "\n",
    "print(f\"This gives us an objective cost of {pot_conv[0]-prob_4.objective.value()}\")"
   ]
  },
  {
   "cell_type": "code",
   "execution_count": 98,
   "metadata": {},
   "outputs": [
    {
     "name": "stdout",
     "output_type": "stream",
     "text": [
      "7.7792\n",
      "0.158817963937\n",
      "0.587268884108\n",
      "0.45522\n"
     ]
    }
   ],
   "source": [
    "# equivalents in USD -- using the bid to USD\n",
    "print(EURf.value()*.9724)\n",
    "print(GBPf.value()*1.5593)\n",
    "print(HKDf.value()*.12812)\n",
    "print(JPYf.value()*.00843)"
   ]
  },
  {
   "cell_type": "code",
   "execution_count": 99,
   "metadata": {},
   "outputs": [
    {
     "name": "stdout",
     "output_type": "stream",
     "text": [
      "E2G:0.0\n",
      "E2H:0.0\n",
      "E2J:0.0\n",
      "E2U:0.0\n",
      "EURf:8.0\n",
      "Eres:5.0\n",
      "G2E:0.60620868\n",
      "G2H:0.0\n",
      "G2J:0.29193923\n",
      "G2U:0.0\n",
      "GBPf:0.10185209\n",
      "Gres:0.10185209\n",
      "H2E:0.0\n",
      "H2G:0.0\n",
      "H2J:0.0\n",
      "H2U:0.39025913\n",
      "HKDf:4.5837409\n",
      "Hres:2.6097409\n",
      "J2E:0.0\n",
      "J2G:0.0\n",
      "J2H:30.0\n",
      "J2U:0.0\n",
      "JPYf:54.0\n",
      "Jres:0.0\n",
      "U2E:2.0\n",
      "U2G:0.0\n",
      "U2H:0.0\n",
      "U2J:0.0\n",
      "USDf:0.05\n",
      "Ures:0.0\n"
     ]
    }
   ],
   "source": [
    "for var in prob_4.variables():\n",
    "    print(f\"{var}:{var.value()}\")"
   ]
  },
  {
   "cell_type": "markdown",
   "metadata": {},
   "source": [
    "### Exchange rate change (Question 5)\n",
    "\n",
    "Changing the USD to GBP rate from .6409 to .6414"
   ]
  },
  {
   "cell_type": "code",
   "execution_count": 105,
   "metadata": {},
   "outputs": [
    {
     "data": {
      "text/plain": [
       "1"
      ]
     },
     "execution_count": 105,
     "metadata": {},
     "output_type": "execute_result"
    }
   ],
   "source": [
    "# set up variables for each currency type\n",
    "U2E = LpVariable(\"U2E\", lowBound=0, upBound=2) # How many USD to Euroes. Can't be negative\n",
    "U2G = LpVariable(\"U2G\", lowBound=0, upBound=2) # \"\" to GBP\n",
    "U2H = LpVariable(\"U2H\", lowBound=0, upBound=2)\n",
    "U2J = LpVariable(\"U2J\", lowBound=0, upBound=2)\n",
    "Ures = LpVariable(\"Ures\", lowBound=0, upBound=2) # residual. Can I drop this term if I set the initial conditions to an inequality? Maybe...\n",
    "\n",
    "E2U = LpVariable(\"E2U\", lowBound=0, upBound=5) # EUR 2 USD\n",
    "E2G = LpVariable(\"E2G\", lowBound=0, upBound=5)\n",
    "E2H = LpVariable(\"E2H\", lowBound=0, upBound=5)\n",
    "E2J = LpVariable(\"E2J\", lowBound=0, upBound=5)\n",
    "Eres = LpVariable(\"Eres\", lowBound=0, upBound=5)\n",
    "\n",
    "G2U = LpVariable(\"G2U\", lowBound=0, upBound=1)\n",
    "G2E = LpVariable(\"G2E\", lowBound=0, upBound=1)\n",
    "G2H = LpVariable(\"G2H\", lowBound=0, upBound=1)\n",
    "G2J = LpVariable(\"G2J\", lowBound=0, upBound=1)\n",
    "Gres = LpVariable(\"Gres\", lowBound=0, upBound=1)\n",
    "\n",
    "H2U = LpVariable(\"H2U\", lowBound=0, upBound=3)\n",
    "H2E = LpVariable(\"H2E\", lowBound=0, upBound=3)\n",
    "H2G = LpVariable(\"H2G\", lowBound=0, upBound=3)\n",
    "H2J = LpVariable(\"H2J\", lowBound=0, upBound=3)\n",
    "Hres = LpVariable(\"Hres\", lowBound=0, upBound=3)\n",
    "\n",
    "J2U = LpVariable(\"J2U\", lowBound=0, upBound=30)\n",
    "J2E = LpVariable(\"J2E\", lowBound=0, upBound=30)\n",
    "J2G = LpVariable(\"J2G\", lowBound=0, upBound=30)\n",
    "J2H = LpVariable(\"J2H\", lowBound=0, upBound=30)\n",
    "Jres = LpVariable(\"Jres\", lowBound=0, upBound=30)\n",
    "\n",
    "# to make the objective functions easier, we'll create a variable\n",
    "# for the final amount in each currency\n",
    "USDf = LpVariable(\"USDf\")\n",
    "EURf = LpVariable(\"EURf\")\n",
    "GBPf = LpVariable(\"GBPf\")\n",
    "HKDf = LpVariable(\"HKDf\")\n",
    "JPYf = LpVariable(\"JPYf\")\n",
    "\n",
    "# now the constraints:\n",
    "prob_5 = LpProblem('MoneyConversion', LpMaximize)\n",
    "# Initial values\n",
    "prob_5 += Ures + U2E + U2G + U2H + U2J == 2\n",
    "prob_5 += Eres + E2U + E2G + E2H + E2J == 5\n",
    "prob_5 += Gres + G2U + G2E + G2H + G2J == 1\n",
    "prob_5 += Hres + H2U + H2E + H2G + H2J == 3\n",
    "prob_5 += Jres + J2U + J2E + J2G + J2H == 30\n",
    "\n",
    "# The total amounts converted must be less than or equal to the final conversion values\n",
    "prob_5 += Ures +         .9724*E2U +   1.5593*G2U +  .12812*H2U +   .00843*J2U -  USDf == 0\n",
    "prob_5 += 1.01864*U2E +  Eres +        1.5881*G2E +  .1304*H2E +    .00856*J2E -  EURf == 0# conversion of .25 to Euro using Bid rate, not Ask\n",
    "prob_5 += .6414*U2G +    .6295*E2G +   Gres +         .08210*H2G +  .0054*J2G  -  GBPf == 0 # \"\"\n",
    "prob_5 += 7.7985*U2H +   7.6552*E2H +  12.154*G2H +   Hres +        .0658*J2H  -  HKDf == 0\n",
    "prob_5 += 118.55*U2J +   116.41*E2J +  184.97*G2J +   15.1005*H2J +  Jres      -  JPYf == 0\n",
    "\n",
    "\n",
    "# minimums for the final values\n",
    "prob_5 += USDf >= .25\n",
    "prob_5 += EURf >= .25/.9724  # using the Bid values, not the ask\n",
    "prob_5 += GBPf >= .25/1.5593\n",
    "prob_5 += HKDf >= .25/.12812\n",
    "prob_5 += JPYf >= .25/.00843\n",
    "\n",
    "# Need at least 8M GBP and 24M JPY\n",
    "prob_5 +=  EURf >= 8\n",
    "prob_5 +=  JPYf >= 54 \n",
    "\n",
    "# and the objective function: how much do we have of each, in USD?\n",
    "prob_5 += USDf + .9724*EURf + 1.5593*GBPf + .12812*HKDf + .00843*JPYf \n",
    "\n",
    "prob_5.solve()"
   ]
  },
  {
   "cell_type": "code",
   "execution_count": 106,
   "metadata": {},
   "outputs": [
    {
     "name": "stdout",
     "output_type": "stream",
     "text": [
      "We want (in millions): 0.29608381 USD, 8.0 EUR, 0.16032835 GBP, 1.9512957 HKD, 54.0 JPY\n",
      "This gives us a total of 9.030506848045 million USD\n",
      "This gives us an objective cost of 0.028056188760999135\n"
     ]
    }
   ],
   "source": [
    "# print out the values\n",
    "print(f\"We want (in millions): {USDf.value()} USD, {EURf.value()} EUR, {GBPf.value()} GBP, {HKDf.value()} HKD, {JPYf.value()} JPY\")\n",
    "print(f\"This gives us a total of {prob.objective.value()} million USD\")\n",
    "\n",
    "print(f\"This gives us an objective cost of {pot_conv[0]-prob_5.objective.value()}\")"
   ]
  },
  {
   "cell_type": "code",
   "execution_count": 108,
   "metadata": {},
   "outputs": [
    {
     "name": "stdout",
     "output_type": "stream",
     "text": [
      "E2G:0.0\n",
      "E2H:0.0\n",
      "E2J:0.0\n",
      "E2U:0.0\n",
      "EURf:8.0\n",
      "Eres:5.0\n",
      "G2E:0.60620868\n",
      "G2H:0.0\n",
      "G2J:0.23346297\n",
      "G2U:0.0\n",
      "GBPf:0.16032835\n",
      "Gres:0.16032835\n",
      "H2E:0.0\n",
      "H2G:0.0\n",
      "H2J:0.0\n",
      "H2U:2.3109882\n",
      "HKDf:1.9512957\n",
      "Hres:0.68901178\n",
      "J2E:0.0\n",
      "J2G:0.0\n",
      "J2H:19.183646\n",
      "J2U:0.0\n",
      "JPYf:54.0\n",
      "Jres:10.816354\n",
      "U2E:2.0\n",
      "U2G:0.0\n",
      "U2H:0.0\n",
      "U2J:0.0\n",
      "USDf:0.29608381\n",
      "Ures:0.0\n"
     ]
    }
   ],
   "source": [
    "for var in prob_5.variables():\n",
    "    print(f\"{var}:{var.value()}\")"
   ]
  },
  {
   "cell_type": "code",
   "execution_count": null,
   "metadata": {},
   "outputs": [],
   "source": []
  }
 ],
 "metadata": {
  "interpreter": {
   "hash": "0ede8e7e71a5f2e64351c10584b1004e0ff656ebf00bf88bb6edfd7da7f0e049"
  },
  "kernelspec": {
   "display_name": "Python 3.9.7 ('MSDS')",
   "language": "python",
   "name": "python3"
  },
  "language_info": {
   "codemirror_mode": {
    "name": "ipython",
    "version": 3
   },
   "file_extension": ".py",
   "mimetype": "text/x-python",
   "name": "python",
   "nbconvert_exporter": "python",
   "pygments_lexer": "ipython3",
   "version": "3.9.7"
  },
  "orig_nbformat": 4
 },
 "nbformat": 4,
 "nbformat_minor": 2
}
