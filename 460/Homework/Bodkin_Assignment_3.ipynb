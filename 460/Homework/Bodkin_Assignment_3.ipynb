{
 "cells": [
  {
   "cell_type": "markdown",
   "metadata": {},
   "source": [
    "# Homework 3 MSDS 460\n",
    "Multiobjective and non-linear optimization\n",
    "\n",
    "Here we're going to be working with Markowitz models (minimizing variance while maximizing gain)\n"
   ]
  },
  {
   "cell_type": "code",
   "execution_count": 1,
   "metadata": {},
   "outputs": [],
   "source": [
    "# import packages\n",
    "import numpy as np\n",
    "from scipy import optimize\n",
    "from matplotlib import pyplot as plt\n"
   ]
  },
  {
   "cell_type": "markdown",
   "metadata": {},
   "source": [
    "\n",
    "We'll start by bringing in the data set we are working with:\n",
    "\n",
    "| A | B | C | D | E |\n",
    "| -: | -: | -: | -: | -: |\n",
    "| 0.12 | -0.32 | 4.48 | 0.58 | 5.10 |\n",
    "| 0.13 | 0.30 | -0.69 | -5.03 | -4.66 |\n",
    "| 0.13 | -0.04 | 7.00 | 5.43 | 2.46 |\n",
    "| 0.11 | -0.86 | -4.65 | -4.00 | -2.81 |\n",
    "| 0.11 | -0.18 | 3.03 | 2.00 | 1.76 |\n",
    "| 0.13 | 1.15 | 2.37 | -1.24 | 0.72 |\n",
    "| 0.12 | 0.74 | 2.33 | 3.46 | -1.44 |\n",
    "| 0.13 | 0.34 | 0.69 | -0.66 | 3.61 |\n",
    "| 0.13 | 0.82 | 5.33 | 4.23 | 3.09 |\n",
    "| 0.11 | -1.23 | 4.38 | -0.39 | 2.35 |\n",
    "| 0.08 | -1.45 | 2.76 | 5.21 | 2.26 |\n",
    "| 0.07 | -0.71 | -1.01 | 2.85 | -1.09 |\n",
    "| 0.97 | 7.50 | 18.31 | 31.85 | 8.17 |\n",
    "| 0.07 | 0.14 | 3.84 | 7.24 | 4.64 |\n",
    "| 0.07 | 0.99 | 10.95 | 18.26 | 15.54 |\n",
    "| 0.06 | -0.42 | -2.66 | 0.50 | -3.97 |\n",
    "| 0.06 | -0.03 | -3.80 | -3.04 | -2.60 |\n",
    "| 0.05 | -0.81 | 7.19 | 7.20 | 5.12 |\n",
    "| 0.06 | 1.49 | 5.64 | 5.71 | 2.33 |\n",
    "| 0.06 | 0.63 | 1.99 | 4.00 | 3.44 |\n",
    "| 0.06 | 0.46 | 4.76 | 8.79 | 4.50 |\n",
    "| 0.07 | 1.78 | 12.81 | 15.81 | 6.42 |\n",
    "| 0.11 | -0.64 | -12.40 | -21.40 | -13.87 |\n",
    "| 0.13 | 1.82 | -8.24 | -8.01 | -7.74 |\n",
    "| 0.17 | 1.91 | -0.04 | -0.62 | -2.73 |\n",
    "\n",
    "<br>\n",
    "\n",
    "<br>\n",
    "\n",
    "### Part 1\n",
    "Calculate the means and the covariance matrices. Assuming we don't have to do this by hand.\n",
    "\n",
    "$$\n",
    "\\mu = \\frac{1}N\\sum_{n=1}^N x_n\n",
    "$$\n",
    "\n",
    "$$\n",
    "\\sigma^2 = \\frac{1}{N-1}\\sum_{n=1}^N (x_n -\\mu)^2\n",
    "$$\n",
    "\n",
    "and if we have two vectors $x$ and $y$, we can calculate the covariance as\n",
    "$$\n",
    "\\sigma_{x,y} = \\frac{1}{N-1}\\sum_{n=1}^N (x_n - \\mu_x)(y_n - \\mu_y)\n",
    "$$"
   ]
  },
  {
   "cell_type": "code",
   "execution_count": 2,
   "metadata": {},
   "outputs": [
    {
     "name": "stdout",
     "output_type": "stream",
     "text": [
      "Mean of the five columns are: [0.001324, 0.005352, 0.025747999999999997, 0.031492000000000006, 0.012239999999999996]\n",
      "\n",
      "The covariance is \n",
      "[[3.15e-06 2.61e-05 5.26e-05 9.32e-05 1.91e-05]\n",
      " [2.61e-05 3.00e-04 5.80e-04 1.03e-03 2.68e-04]\n",
      " [5.26e-05 5.80e-04 4.12e-03 5.80e-03 3.22e-03]\n",
      " [9.32e-05 1.03e-03 5.80e-03 9.39e-03 4.67e-03]\n",
      " [1.91e-05 2.68e-04 3.22e-03 4.67e-03 3.26e-03]] \n",
      "\n",
      "note: numpy automatically calculates the unbiased estimator (divides by N-1)\n"
     ]
    }
   ],
   "source": [
    "data=  np.array([[ 0.12,  -0.32, 4.48, 0.58, 5.10],\n",
    "                 [ 0.13,  0.30, -0.69, -5.03, -4.66],\n",
    "                 [ 0.13,  -0.04, 7.00, 5.43, 2.46],\n",
    "                 [ 0.11,  -0.86, -4.65, -4.00, -2.81],\n",
    "                 [ 0.11,  -0.18, 3.03, 2.00, 1.76],\n",
    "                 [ 0.13,  1.15, 2.37, -1.24, 0.72],\n",
    "                 [ 0.12,  0.74, 2.33, 3.46, -1.44],\n",
    "                 [ 0.13,  0.34, 0.69, -0.66, 3.61],\n",
    "                 [ 0.13,  0.82, 5.33, 4.23, 3.09],\n",
    "                 [ 0.11,  -1.23, 4.38, -0.39, 2.35],\n",
    "                 [ 0.08,  -1.45, 2.76, 5.21, 2.26],\n",
    "                 [ 0.07,  -0.71, -1.01, 2.85, -1.09],\n",
    "                 [ 0.97,  7.50, 18.31, 31.85, 8.17],\n",
    "                 [ 0.07,  0.14, 3.84, 7.24, 4.64],\n",
    "                 [ 0.07,  0.99, 10.95, 18.26, 15.54],\n",
    "                 [ 0.06,  -0.42, -2.66, 0.50, -3.97],\n",
    "                 [ 0.06,  -0.03, -3.80, -3.04, -2.60],\n",
    "                 [ 0.05,  -0.81, 7.19, 7.20, 5.12],\n",
    "                 [ 0.06,  1.49, 5.64, 5.71, 2.33],\n",
    "                 [ 0.06,  0.63, 1.99, 4.00, 3.44],\n",
    "                 [ 0.06,  0.46, 4.76, 8.79, 4.50],\n",
    "                 [ 0.07,  1.78, 12.81, 15.81, 6.42],\n",
    "                 [ 0.11,  -0.64, -12.40, -21.40, -13.87],\n",
    "                 [ 0.13,  1.82, -8.24, -8.01, -7.74],\n",
    "                 [ 0.17,  1.91, -0.04, -0.62, -2.73]])\n",
    "\n",
    "# I think I need to convert everything from percentages to rates\n",
    "data = data*.01\n",
    "\n",
    "\n",
    "# mean\n",
    "means = np.mean(data,axis=0).tolist()\n",
    "# covariance -- unbiased\n",
    "sig = np.cov(data.T)\n",
    "\n",
    "\n",
    "print(f\"Mean of the five columns are: {means}\\n\")\n",
    "print(f\"The covariance is \\n{np.array2string(sig, precision=2, floatmode='fixed')} \\n\")\n",
    "print(\"note: numpy automatically calculates the unbiased estimator (divides by N-1)\")\n",
    "\n",
    "sig = sig.tolist()\n"
   ]
  },
  {
   "cell_type": "markdown",
   "metadata": {},
   "source": [
    "### Part 2\n",
    "State the objective function:\n",
    "\n",
    "As stated above, this is a multi-objective function, trying to minimize the variance of the expected returns while maintaining a minimum return level\n",
    "\n",
    "Starting with the variables:\n",
    "\n",
    "$ W \\equiv $ proportion invested in each investment <br>\n",
    "$ R \\equiv $ Random variable for return of each investment option <br>\n",
    "$ exp(R) \\equiv $ expected value of each investment option (mean)<br>\n",
    "$ cov(R) \\equiv \\Sigma \\equiv $ covariance of investment options <br>\n",
    "\n",
    "This gives us the following functions:\n",
    "\n",
    "Rate of Return (as a result of the random variables) = $ R^TW $ <br>\n",
    "Expected Value = $exp(R)^TW$ <br>\n",
    "Variance of Return = $W^T \\Sigma W$\n",
    "\n",
    "Which means that we are wanting to minimize\n",
    "$W^T \\Sigma W$\n",
    "\n",
    "\n",
    "\n",
    "#### Defining the objective function as a python function"
   ]
  },
  {
   "cell_type": "code",
   "execution_count": 3,
   "metadata": {},
   "outputs": [],
   "source": [
    "# Covariance is the same for this problem\n",
    "# but we'll pass it as a variable for future usage \n",
    "def obj(W,Sig):\n",
    "    return np.matmul(W, np.matmul(Sig, W))"
   ]
  },
  {
   "cell_type": "markdown",
   "metadata": {},
   "source": [
    "### Part 3\n",
    "Define the constraints\n",
    "\n",
    "We want the return of the investments to be greater than some minimum value\n",
    "\n",
    "$ exp(R)^TW \\ge \\mu_{min}$\n",
    "\n",
    "\n",
    "\n",
    "Additionally, you can't invest more money than you have\n",
    "\n",
    "$ \\sum_i^N W_i = 1 $"
   ]
  },
  {
   "cell_type": "code",
   "execution_count": 4,
   "metadata": {},
   "outputs": [],
   "source": [
    "# calculate returns -- makes it easier to report this later\n",
    "def rets(W, mu):\n",
    "    return np.matmul(mu,W)\n",
    "\n",
    "# minimum returns\n",
    "def return_const(W, mu, mu_min):\n",
    "    return (np.matmul(mu,W) - mu_min).tolist() # they're vectors, numpy should take care of that\n",
    "\n",
    "# probably easier to just define this inside the call to optimize below, but whatevs\n",
    "def total_const(W):\n",
    "    return (np.sum(W) - 1).tolist()\n",
    "\n",
    "def pos_const(W): # require positivity constraints\n",
    "    return np.sum(W).tolist() # if we pass only one variable, this is the same as W>=0"
   ]
  },
  {
   "cell_type": "markdown",
   "metadata": {},
   "source": [
    "### Part 4\n",
    "Run through optimize, return the solution\n",
    "\n",
    "This is going to be for a series of different minimum return values:\n",
    "\n",
    "$\\mu_{min} = $ [.005, .01, .015, .02, .025, .03]"
   ]
  },
  {
   "cell_type": "code",
   "execution_count": 5,
   "metadata": {},
   "outputs": [
    {
     "name": "stdout",
     "output_type": "stream",
     "text": [
      "---------------------------------------\n",
      "For minimum expected value: 0.005\n",
      "Success: True, Covariance amount: 0.00017074639737754747\n",
      "Expected Return: 0.005000000000060593\n",
      "Variable Values:\n",
      "\t[4.59422418e-01 3.94395635e-01 3.63971166e-02 1.73472348e-17\n",
      " 1.09784830e-01]\n",
      "---------------------------------------\n",
      "---------------------------------------\n",
      "For minimum expected value: 0.01\n",
      "Success: True, Covariance amount: 0.0005525443637361395\n",
      "Expected Return: 0.010000000001235085\n",
      "Variable Values:\n",
      "\t[0.35591658 0.3508418  0.27571448 0.01752714 0.        ]\n",
      "---------------------------------------\n",
      "---------------------------------------\n",
      "For minimum expected value: 0.015\n",
      "Success: True, Covariance amount: 0.0014498199514642281\n",
      "Expected Return: 0.015000000005517683\n",
      "Variable Values:\n",
      "\t[0.2449038  0.27307849 0.34217798 0.13983973 0.        ]\n",
      "---------------------------------------\n",
      "---------------------------------------\n",
      "For minimum expected value: 0.02\n",
      "Success: True, Covariance amount: 0.002394099139582315\n",
      "Expected Return: 0.020000000022300502\n",
      "Variable Values:\n",
      "\t[6.18050909e-02 2.07809004e-01 7.30385905e-01 2.77555756e-16\n",
      " 0.00000000e+00]\n",
      "---------------------------------------\n",
      "---------------------------------------\n",
      "For minimum expected value: 0.025\n",
      "Success: True, Covariance amount: 0.003868031339795496\n",
      "Expected Return: 0.024999999980402483\n",
      "Variable Values:\n",
      "\t[0.00000000e+00 3.66738586e-02 9.63326141e-01 0.00000000e+00\n",
      " 4.67476878e-17]\n",
      "---------------------------------------\n",
      "---------------------------------------\n",
      "For minimum expected value: 0.03\n",
      "Success: True, Covariance amount: 0.0076556456013076955\n",
      "Expected Return: 0.029999999462615785\n",
      "Variable Values:\n",
      "\t[0.00000000e+00 9.99200722e-16 2.59749397e-01 7.40250603e-01\n",
      " 0.00000000e+00]\n",
      "---------------------------------------\n"
     ]
    }
   ],
   "source": [
    "# define mu\n",
    "mu_mins = [.005, .01, .015, .02, .025, .03]\n",
    "obj_sol = [0, 0, 0, 0, 0, 0]\n",
    "sol_space = dict(zip(mu_mins,obj_sol))\n",
    "\n",
    "\n",
    "\n",
    "for mu_min in sol_space.keys():\n",
    "    # define constraint dictionary, since mu_min changes\n",
    "    consts = [{'type':'ineq', 'fun':return_const, 'args':(means,mu_min)},\\\n",
    "        {'type':'eq', 'fun':total_const}]\n",
    "    # define the function\n",
    "    func =  optimize.minimize(obj, np.ones([5,1]).tolist(),\\\n",
    "        args=sig, constraints=consts, bounds=[(0,None), (0,None), (0,None), (0,None), (0,None)])\n",
    "    print(\"---------------------------------------\")\n",
    "    print(f\"For minimum expected value: {mu_min}\")\n",
    "    print(f\"Success: {func.success}, Covariance amount: {func.fun}\")\n",
    "    print(f\"Expected Return: {rets(func.x, means)}\")\n",
    "    print(f\"Variable Values:\\n\\t{func.x}\")\n",
    "    print(\"---------------------------------------\")\n",
    "    sol_space[mu_min] = func.fun"
   ]
  },
  {
   "cell_type": "code",
   "execution_count": 6,
   "metadata": {},
   "outputs": [
    {
     "name": "stdout",
     "output_type": "stream",
     "text": [
      "0.0076556456013076955\n",
      "0.0076556456013076955\n"
     ]
    }
   ],
   "source": [
    "func.x\n",
    "\n",
    "print(np.matmul(func.x, np.matmul(sig,func.x)))\n",
    "print(obj(func.x, sig))"
   ]
  },
  {
   "cell_type": "code",
   "execution_count": 102,
   "metadata": {},
   "outputs": [
    {
     "data": {
      "text/plain": [
       "True"
      ]
     },
     "execution_count": 102,
     "metadata": {},
     "output_type": "execute_result"
    }
   ],
   "source": [
    "func.success"
   ]
  },
  {
   "cell_type": "code",
   "execution_count": 103,
   "metadata": {},
   "outputs": [
    {
     "data": {
      "text/plain": [
       "dict_values([array([0.00000000e+00, 9.99200722e-16, 2.59749397e-01, 7.40250603e-01,\n",
       "       0.00000000e+00]), 0.0076556456013076955, array([0.00016534, 0.00182767, 0.01072825, 0.01691945, 0.00857857]), 2, 12, 2, 0, 'Optimization terminated successfully', True])"
      ]
     },
     "execution_count": 103,
     "metadata": {},
     "output_type": "execute_result"
    }
   ],
   "source": [
    "func.values()"
   ]
  },
  {
   "cell_type": "code",
   "execution_count": 104,
   "metadata": {},
   "outputs": [
    {
     "data": {
      "text/plain": [
       "-5.373842135170115e-10"
      ]
     },
     "execution_count": 104,
     "metadata": {},
     "output_type": "execute_result"
    }
   ],
   "source": [
    "rets(func.x, means) - .03"
   ]
  },
  {
   "cell_type": "markdown",
   "metadata": {},
   "source": [
    "### Part 5\n",
    "Let's look through the efficient frontier curve"
   ]
  },
  {
   "cell_type": "code",
   "execution_count": 7,
   "metadata": {},
   "outputs": [
    {
     "data": {
      "text/plain": [
       "Text(0, 0.5, 'Return')"
      ]
     },
     "execution_count": 7,
     "metadata": {},
     "output_type": "execute_result"
    },
    {
     "data": {
      "image/png": "[encoded data removed]",
      "text/plain": [
       "<Figure size 432x288 with 1 Axes>"
      ]
     },
     "metadata": {
      "needs_background": "light"
     },
     "output_type": "display_data"
    }
   ],
   "source": [
    "fig, ax = plt.subplots()\n",
    "\n",
    "ax.plot(sol_space.values(), sol_space.keys())\n",
    "ax.set_xlabel('Risk')\n",
    "ax.set_ylabel('Return')\n"
   ]
  },
  {
   "cell_type": "markdown",
   "metadata": {},
   "source": [
    "and out of curiousity, let's solve it for a much more dense set of minimum return rates"
   ]
  },
  {
   "cell_type": "code",
   "execution_count": 20,
   "metadata": {},
   "outputs": [
    {
     "name": "stdout",
     "output_type": "stream",
     "text": [
      "---------------------------------------\n",
      "For minimum expected value: 0.005\n",
      "Success: True, Covariance amount: 0.00010870010200960485\n",
      "Expected Return: 0.004999999999599976\n",
      "Variable Values:\n",
      "\t[8.09904433e-01 4.74060660e-02 1.42689501e-01 3.46944695e-18\n",
      " 0.00000000e+00]\n",
      "---------------------------------------\n",
      "---------------------------------------\n",
      "For minimum expected value: 0.006\n",
      "Success: True, Covariance amount: 0.00018862389346336708\n",
      "Expected Return: 0.0059999999999590875\n",
      "Variable Values:\n",
      "\t[4.70321984e-01 4.05023331e-01 1.24654685e-01 1.73472348e-18\n",
      " 2.77555756e-17]\n",
      "---------------------------------------\n",
      "---------------------------------------\n",
      "For minimum expected value: 0.007\n",
      "Success: True, Covariance amount: 0.0002557269351890431\n",
      "Expected Return: 0.0069999999972032954\n",
      "Variable Values:\n",
      "\t[4.40384381e-01 3.91844082e-01 1.67771538e-01 0.00000000e+00\n",
      " 3.46944695e-18]\n",
      "---------------------------------------\n",
      "---------------------------------------\n",
      "For minimum expected value: 0.008\n",
      "Success: True, Covariance amount: 0.0003368830831543126\n",
      "Expected Return: 0.008000000000486451\n",
      "Variable Values:\n",
      "\t[4.08971610e-01 3.80431329e-01 2.10597060e-01 0.00000000e+00\n",
      " 8.41340886e-17]\n",
      "---------------------------------------\n",
      "---------------------------------------\n",
      "For minimum expected value: 0.009000000000000001\n",
      "Success: True, Covariance amount: 0.0004316402964337057\n",
      "Expected Return: 0.00900000000079806\n",
      "Variable Values:\n",
      "\t[0.38022073 0.36583099 0.25394828 0.         0.        ]\n",
      "---------------------------------------\n",
      "---------------------------------------\n",
      "For minimum expected value: 0.01\n",
      "Success: True, Covariance amount: 0.0005402542193613138\n",
      "Expected Return: 0.009999999999769082\n",
      "Variable Values:\n",
      "\t[3.52898151e-01 3.49520276e-01 2.97581573e-01 0.00000000e+00\n",
      " 1.29941630e-16]\n",
      "---------------------------------------\n",
      "---------------------------------------\n",
      "For minimum expected value: 0.011\n",
      "Success: True, Covariance amount: 0.0006628970579352909\n",
      "Expected Return: 0.010999999998727894\n",
      "Variable Values:\n",
      "\t[3.25139929e-01 3.33731240e-01 3.41128831e-01 2.08166817e-17\n",
      " 0.00000000e+00]\n",
      "---------------------------------------\n",
      "---------------------------------------\n",
      "For minimum expected value: 0.012\n",
      "Success: True, Covariance amount: 0.0007995424408732019\n",
      "Expected Return: 0.012000000010514081\n",
      "Variable Values:\n",
      "\t[2.96731202e-01 3.18721176e-01 3.84547622e-01 0.00000000e+00\n",
      " 2.24646690e-16]\n",
      "---------------------------------------\n",
      "---------------------------------------\n",
      "For minimum expected value: 0.013000000000000001\n",
      "Success: True, Covariance amount: 0.0009501478931960902\n",
      "Expected Return: 0.012999999999756134\n",
      "Variable Values:\n",
      "\t[2.67976569e-01 3.04125332e-01 4.27898099e-01 1.04083409e-17\n",
      " 0.00000000e+00]\n",
      "---------------------------------------\n",
      "---------------------------------------\n",
      "For minimum expected value: 0.014000000000000002\n",
      "Success: True, Covariance amount: 0.0011146891894832306\n",
      "Expected Return: 0.013999999999025226\n",
      "Variable Values:\n",
      "\t[2.38840556e-01 2.89986186e-01 4.71173258e-01 1.04083409e-17\n",
      " 1.25984292e-16]\n",
      "---------------------------------------\n",
      "---------------------------------------\n",
      "For minimum expected value: 0.015\n",
      "Success: True, Covariance amount: 0.0012931525893883453\n",
      "Expected Return: 0.014999999999300656\n",
      "Variable Values:\n",
      "\t[0.20955775 0.27602283 0.51441943 0.         0.        ]\n",
      "---------------------------------------\n",
      "---------------------------------------\n",
      "For minimum expected value: 0.016\n",
      "Success: True, Covariance amount: 0.0014855337289029734\n",
      "Expected Return: 0.015999999999040972\n",
      "Variable Values:\n",
      "\t[1.80202991e-01 2.62145624e-01 5.57651385e-01 6.24500451e-17\n",
      " 0.00000000e+00]\n",
      "---------------------------------------\n",
      "---------------------------------------\n",
      "For minimum expected value: 0.017\n",
      "Success: True, Covariance amount: 0.0016918231669638378\n",
      "Expected Return: 0.016999999998789955\n",
      "Variable Values:\n",
      "\t[0.15072644 0.24841427 0.60085929 0.         0.        ]\n",
      "---------------------------------------\n",
      "---------------------------------------\n",
      "For minimum expected value: 0.018000000000000002\n",
      "Success: True, Covariance amount: 0.0019120160444371817\n",
      "Expected Return: 0.0179999999985461\n",
      "Variable Values:\n",
      "\t[1.21155559e-01 2.34795873e-01 6.44048568e-01 9.71445147e-17\n",
      " 0.00000000e+00]\n",
      "---------------------------------------\n",
      "---------------------------------------\n",
      "For minimum expected value: 0.019\n",
      "Success: True, Covariance amount: 0.0021461088861637707\n",
      "Expected Return: 0.01899999999830851\n",
      "Variable Values:\n",
      "\t[9.15102336e-02 2.21266624e-01 6.87223143e-01 1.66533454e-16\n",
      " 2.03830008e-17]\n",
      "---------------------------------------\n",
      "---------------------------------------\n",
      "For minimum expected value: 0.02\n",
      "Success: True, Covariance amount: 0.002385302981019649\n",
      "Expected Return: 0.01999999999784055\n",
      "Variable Values:\n",
      "\t[0.00000000e+00 2.81819965e-01 7.18180035e-01 9.88792381e-17\n",
      " 0.00000000e+00]\n",
      "---------------------------------------\n",
      "---------------------------------------\n",
      "For minimum expected value: 0.021\n",
      "Success: True, Covariance amount: 0.0026504573533520483\n",
      "Expected Return: 0.021000000002268347\n",
      "Variable Values:\n",
      "\t[1.04083409e-17 2.32790743e-01 7.67209257e-01 1.53523028e-16\n",
      " 9.06393016e-17]\n",
      "---------------------------------------\n",
      "---------------------------------------\n",
      "For minimum expected value: 0.022000000000000002\n",
      "Success: True, Covariance amount: 0.0029313073747056586\n",
      "Expected Return: 0.02199999999970229\n",
      "Variable Values:\n",
      "\t[0.00000000e+00 1.83761522e-01 8.16238478e-01 0.00000000e+00\n",
      " 3.12196016e-16]\n",
      "---------------------------------------\n",
      "---------------------------------------\n",
      "For minimum expected value: 0.023000000000000003\n",
      "Success: True, Covariance amount: 0.003227853053077486\n",
      "Expected Return: 0.023000000017496195\n",
      "Variable Values:\n",
      "\t[0.00000000e+00 1.34732300e-01 8.65267700e-01 2.77555756e-17\n",
      " 4.45765979e-16]\n",
      "---------------------------------------\n",
      "---------------------------------------\n",
      "For minimum expected value: 0.024\n",
      "Success: True, Covariance amount: 0.003540094369986392\n",
      "Expected Return: 0.023999999994917528\n",
      "Variable Values:\n",
      "\t[4.33513107e-17 8.57030793e-02 9.14296921e-01 1.11022302e-16\n",
      " 0.00000000e+00]\n",
      "---------------------------------------\n",
      "---------------------------------------\n",
      "For minimum expected value: 0.025\n",
      "Success: True, Covariance amount: 0.003868031339795496\n",
      "Expected Return: 0.024999999980402483\n",
      "Variable Values:\n",
      "\t[0.00000000e+00 3.66738586e-02 9.63326141e-01 0.00000000e+00\n",
      " 4.67476878e-17]\n",
      "---------------------------------------\n",
      "---------------------------------------\n",
      "For minimum expected value: 0.026000000000000002\n",
      "Success: True, Covariance amount: 0.004274324787193538\n",
      "Expected Return: 0.025999999985560622\n",
      "Variable Values:\n",
      "\t[0.00000000e+00 0.00000000e+00 9.56128136e-01 4.38718638e-02\n",
      " 1.23136885e-15]\n",
      "---------------------------------------\n",
      "---------------------------------------\n",
      "For minimum expected value: 0.027\n",
      "Success: True, Covariance amount: 0.0049452618250877545\n",
      "Expected Return: 0.027000000021404912\n",
      "Variable Values:\n",
      "\t[6.14162429e-17 0.00000000e+00 7.82033422e-01 2.17966578e-01\n",
      " 2.08854208e-16]\n",
      "---------------------------------------\n",
      "---------------------------------------\n",
      "For minimum expected value: 0.028\n",
      "Success: True, Covariance amount: 0.005732461042689398\n",
      "Expected Return: 0.027999999997609583\n",
      "Variable Values:\n",
      "\t[7.39381363e-18 2.42861287e-17 6.07938719e-01 3.92061281e-01\n",
      " 5.75358905e-18]\n",
      "---------------------------------------\n",
      "---------------------------------------\n",
      "For minimum expected value: 0.029\n",
      "Success: True, Covariance amount: 0.0066359225015232455\n",
      "Expected Return: 0.028999999999789153\n",
      "Variable Values:\n",
      "\t[0.00000000e+00 1.73472348e-18 4.33844011e-01 5.66155989e-01\n",
      " 0.00000000e+00]\n",
      "---------------------------------------\n",
      "---------------------------------------\n",
      "For minimum expected value: 0.030000000000000002\n",
      "Success: True, Covariance amount: 0.0076556456013076955\n",
      "Expected Return: 0.029999999462615785\n",
      "Variable Values:\n",
      "\t[0.00000000e+00 9.99200722e-16 2.59749397e-01 7.40250603e-01\n",
      " 0.00000000e+00]\n",
      "---------------------------------------\n",
      "---------------------------------------\n",
      "For minimum expected value: 0.031000000000000003\n",
      "Success: True, Covariance amount: 0.00879163125298443\n",
      "Expected Return: 0.03099999930648579\n",
      "Variable Values:\n",
      "\t[0.         0.         0.08565472 0.91434528 0.        ]\n",
      "---------------------------------------\n",
      "---------------------------------------\n",
      "For minimum expected value: 0.032\n",
      "Success: False, Covariance amount: 0.009698698084264677\n",
      "Expected Return: 0.0319999992224999\n",
      "Variable Values:\n",
      "\t[7.92045861e-15 6.51329945e-17 5.86405646e-15 1.01613106e+00\n",
      " 6.83586589e-16]\n",
      "---------------------------------------\n",
      "---------------------------------------\n",
      "For minimum expected value: 0.033\n",
      "Success: False, Covariance amount: 0.010314338105707387\n",
      "Expected Return: 0.03299999920832643\n",
      "Variable Values:\n",
      "\t[1.29374074e-17 5.17416091e-18 7.33513493e-15 1.04788515e+00\n",
      " 2.23745660e-17]\n",
      "---------------------------------------\n",
      "---------------------------------------\n",
      "For minimum expected value: 0.034\n",
      "Success: False, Covariance amount: 0.010948920897242214\n",
      "Expected Return: 0.033999999194172716\n",
      "Variable Values:\n",
      "\t[1.33547677e-17 2.57929252e-17 1.56007877e-18 1.07963925e+00\n",
      " 4.62887223e-16]\n",
      "---------------------------------------\n"
     ]
    }
   ],
   "source": [
    "# define mu\n",
    "mu_mins = np.arange(0.005, 0.035, 0.001).tolist()\n",
    "obj_sol = np.zeros(len(mu_mins))\n",
    "sol_space = dict(zip(mu_mins,obj_sol))\n",
    "\n",
    "\n",
    "\n",
    "for mu_min in sol_space.keys():\n",
    "    # define constraint dictionary, since mu_min changes\n",
    "    consts = [{'type':'ineq', 'fun':return_const, 'args':(means,mu_min)},\\\n",
    "        {'type':'eq', 'fun':total_const}]\n",
    "    # define the function\n",
    "    func =  optimize.minimize(obj, np.ones([5,1]).tolist(),\\\n",
    "        args=sig, constraints=consts, bounds=[(0,None), (0,None), (0,None), (0,None), (0,None)], options={'maxiter':10000}, tol=1e-8)\n",
    "    print(\"---------------------------------------\")\n",
    "    print(f\"For minimum expected value: {mu_min}\")\n",
    "    print(f\"Success: {func.success}, Covariance amount: {func.fun}\")\n",
    "    print(f\"Expected Return: {rets(func.x, means)}\")\n",
    "    print(f\"Variable Values:\\n\\t{func.x}\")\n",
    "    print(\"---------------------------------------\")\n",
    "    sol_space[mu_min] = func.fun"
   ]
  },
  {
   "cell_type": "code",
   "execution_count": 21,
   "metadata": {},
   "outputs": [
    {
     "data": {
      "text/plain": [
       "[<matplotlib.lines.Line2D at 0x1423e796dc0>]"
      ]
     },
     "execution_count": 21,
     "metadata": {},
     "output_type": "execute_result"
    },
    {
     "data": {
      "image/png": "[encoded data removed]",
      "text/plain": [
       "<Figure size 432x288 with 1 Axes>"
      ]
     },
     "metadata": {
      "needs_background": "light"
     },
     "output_type": "display_data"
    }
   ],
   "source": [
    "fig, ax = plt.subplots()\n",
    "\n",
    "ax.plot(sol_space.values(), sol_space.keys())"
   ]
  },
  {
   "cell_type": "code",
   "execution_count": null,
   "metadata": {},
   "outputs": [],
   "source": []
  }
 ],
 "metadata": {
  "interpreter": {
   "hash": "e6f5ab44297089514ffa059ea0d83d6392bebfea7e191fb6b7f26c8412c9553b"
  },
  "kernelspec": {
   "display_name": "Python 3.9.7 ('MSDS')",
   "language": "python",
   "name": "python3"
  },
  "language_info": {
   "codemirror_mode": {
    "name": "ipython",
    "version": 3
   },
   "file_extension": ".py",
   "mimetype": "text/x-python",
   "name": "python",
   "nbconvert_exporter": "python",
   "pygments_lexer": "ipython3",
   "version": "3.9.7"
  },
  "orig_nbformat": 4
 },
 "nbformat": 4,
 "nbformat_minor": 2
}
