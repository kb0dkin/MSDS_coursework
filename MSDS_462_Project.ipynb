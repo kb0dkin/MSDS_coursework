{
 "cells": [
  {
   "cell_type": "markdown",
   "id": "ffce0b0b",
   "metadata": {},
   "source": [
    "# MSS 462 Final Project\n",
    "\n",
    "Have you ever wanted to track what your cat is doing around your house during the day?\n",
    "\n",
    "Me too! \n",
    "\n",
    "This computer vision project takes an image and puts a bounding box around cats that are in the image. \n",
    "It is built with Resnet-50 as the basis, then additional fine-tuning is done using the \"feline-felid\" dataset from ImageNet. \n",
    "Since this is a transfer learning situation, I froze the resnet layers and just train the outputs\n",
    "\n",
    "The model is then exported as a tflite model, so that I can run it on a Raspberry Pi."
   ]
  },
  {
   "cell_type": "code",
   "execution_count": 33,
   "id": "20a091db",
   "metadata": {},
   "outputs": [],
   "source": [
    "import numpy as np\n",
    "import PIL\n",
    "\n",
    "from matplotlib import pyplot as plt\n",
    "\n",
    "# all of the tensorflow stuff\n",
    "import tensorflow as tf\n",
    "from tensorflow.keras.applications import ResNet50\n",
    "from tensorflow.keras.layers import Dense, GlobalAveragePooling2D\n",
    "from tensorflow.keras.models import Model\n",
    "from tensorflow.keras.preprocessing import image\n",
    "\n",
    "# for bringing in the dataset\n",
    "from tkinter import Tk\n",
    "from tkinter import filedialog as fd\n",
    "from os import listdir, path"
   ]
  },
  {
   "cell_type": "markdown",
   "id": "ee81ba8a",
   "metadata": {},
   "source": [
    "### Define the model\n",
    "\n"
   ]
  },
  {
   "cell_type": "code",
   "execution_count": 42,
   "id": "f38ad69f",
   "metadata": {},
   "outputs": [],
   "source": [
    "def cat_boxer():\n",
    "    inputs = tf.keras.Input(shape=(224,224,3))\n",
    "    \n",
    "    resnet = ResNet50(weights='imagenet', include_top=False, input_shape=(224,224,3))\n",
    "    for layer in resnet.layers: # make the Resnet instance untrainable\n",
    "        layer.trainable = False \n",
    "        \n",
    "    classifier = resnet(inputs, training=False)\n",
    "    classifier = tf.keras.layers.Dense(1024, activation='relu')(classifier) # add a training layer\n",
    "    classifier = tf.keras.layers.Dense(1, activation='sigmoid')(classifier) # is it a cat?\n",
    "    \n",
    "    return Model(inputs=inputs, outputs=classifier)"
   ]
  },
  {
   "cell_type": "markdown",
   "id": "b048b292",
   "metadata": {},
   "source": [
    "### Bring in the training data\n",
    "\n",
    "This is the feline dataset from ImageNet"
   ]
  },
  {
   "cell_type": "code",
   "execution_count": 18,
   "id": "e112598f",
   "metadata": {},
   "outputs": [],
   "source": [
    "# this create root is a gross hack that I haven't figure out how to avoid\n",
    "# and don't care enough to spend time looking up\n",
    "root = Tk()\n",
    "image_dir = fd.askdirectory(master=root)\n",
    "root.destroy()\n",
    "\n",
    "cat_pics = np.ndarray((0, 224, 224, 3))\n",
    "for file in listdir(image_dir):\n",
    "    temp_img = image.load_img(path.join(image_dir,file), target_size=(224,224)) # load it in\n",
    "    cat_pics = np.concatenate([cat_pics, np.expand_dims(image.img_to_array(temp_img), axis=0)], axis=0)\n",
    "    \n"
   ]
  },
  {
   "cell_type": "markdown",
   "id": "152df3a0",
   "metadata": {},
   "source": [
    "### instantiate the model and train\n",
    "\n"
   ]
  },
  {
   "cell_type": "code",
   "execution_count": 43,
   "id": "3c86e22d",
   "metadata": {},
   "outputs": [],
   "source": [
    "mdl = cat_boxer()\n",
    "\n",
    "mdl.compile(optimizer='adam', loss=keras.losses.BinaryCrossentropy, metrics=[tf.keras.metrics.BinaryAccuracy()])"
   ]
  },
  {
   "cell_type": "code",
   "execution_count": 6,
   "id": "4613b74e",
   "metadata": {},
   "outputs": [
    {
     "name": "stdout",
     "output_type": "stream",
     "text": [
      "Help on function img_to_array in module keras.utils.image_utils:\n",
      "\n",
      "img_to_array(img, data_format=None, dtype=None)\n",
      "    Converts a PIL Image instance to a Numpy array.\n",
      "    \n",
      "    Usage:\n",
      "    \n",
      "    ```python\n",
      "    from PIL import Image\n",
      "    img_data = np.random.random(size=(100, 100, 3))\n",
      "    img = tf.keras.preprocessing.image.array_to_img(img_data)\n",
      "    array = tf.keras.preprocessing.image.img_to_array(img)\n",
      "    ```\n",
      "    \n",
      "    \n",
      "    Args:\n",
      "        img: Input PIL Image instance.\n",
      "        data_format: Image data format, can be either `\"channels_first\"` or\n",
      "          `\"channels_last\"`. Defaults to `None`, in which case the global setting\n",
      "          `tf.keras.backend.image_data_format()` is used (unless you changed it,\n",
      "          it defaults to `\"channels_last\"`).\n",
      "        dtype: Dtype to use. Default to `None`, in which case the global setting\n",
      "          `tf.keras.backend.floatx()` is used (unless you changed it, it defaults\n",
      "          to `\"float32\"`).\n",
      "    \n",
      "    Returns:\n",
      "        A 3D Numpy array.\n",
      "    \n",
      "    Raises:\n",
      "        ValueError: if invalid `img` or `data_format` is passed.\n",
      "\n"
     ]
    }
   ],
   "source": [
    "help(image.img_to_array)"
   ]
  },
  {
   "cell_type": "code",
   "execution_count": 7,
   "id": "8ba41666",
   "metadata": {},
   "outputs": [
    {
     "name": "stdout",
     "output_type": "stream",
     "text": [
      "Help on function load_img in module keras.utils.image_utils:\n",
      "\n",
      "load_img(path, grayscale=False, color_mode='rgb', target_size=None, interpolation='nearest', keep_aspect_ratio=False)\n",
      "    Loads an image into PIL format.\n",
      "    \n",
      "    Usage:\n",
      "    \n",
      "    ```\n",
      "    image = tf.keras.preprocessing.image.load_img(image_path)\n",
      "    input_arr = tf.keras.preprocessing.image.img_to_array(image)\n",
      "    input_arr = np.array([input_arr])  # Convert single image to a batch.\n",
      "    predictions = model.predict(input_arr)\n",
      "    ```\n",
      "    \n",
      "    Args:\n",
      "        path: Path to image file.\n",
      "        grayscale: DEPRECATED use `color_mode=\"grayscale\"`.\n",
      "        color_mode: One of `\"grayscale\"`, `\"rgb\"`, `\"rgba\"`. Default: `\"rgb\"`.\n",
      "          The desired image format.\n",
      "        target_size: Either `None` (default to original size) or tuple of ints\n",
      "          `(img_height, img_width)`.\n",
      "        interpolation: Interpolation method used to resample the image if the\n",
      "          target size is different from that of the loaded image. Supported\n",
      "          methods are `\"nearest\"`, `\"bilinear\"`, and `\"bicubic\"`. If PIL version\n",
      "          1.1.3 or newer is installed, `\"lanczos\"` is also supported. If PIL\n",
      "          version 3.4.0 or newer is installed, `\"box\"` and `\"hamming\"` are also\n",
      "          supported. By default, `\"nearest\"` is used.\n",
      "        keep_aspect_ratio: Boolean, whether to resize images to a target\n",
      "                size without aspect ratio distortion. The image is cropped in\n",
      "                the center with target aspect ratio before resizing.\n",
      "    \n",
      "    Returns:\n",
      "        A PIL Image instance.\n",
      "    \n",
      "    Raises:\n",
      "        ImportError: if PIL is not available.\n",
      "        ValueError: if interpolation method is not supported.\n",
      "\n"
     ]
    }
   ],
   "source": [
    "help(image.load_img)"
   ]
  },
  {
   "cell_type": "code",
   "execution_count": 9,
   "id": "8c347928",
   "metadata": {},
   "outputs": [
    {
     "name": "stdout",
     "output_type": "stream",
     "text": [
      "Help on built-in function listdir in module posix:\n",
      "\n",
      "listdir(path=None)\n",
      "    Return a list containing the names of the files in the directory.\n",
      "    \n",
      "    path can be specified as either str, bytes, or a path-like object.  If path is bytes,\n",
      "      the filenames returned will also be bytes; in all other circumstances\n",
      "      the filenames returned will be str.\n",
      "    If path is None, uses the path='.'.\n",
      "    On some platforms, path may also be specified as an open file descriptor;\\\n",
      "      the file descriptor must refer to a directory.\n",
      "      If this functionality is unavailable, using it raises NotImplementedError.\n",
      "    \n",
      "    The list is in arbitrary order.  It does not include the special\n",
      "    entries '.' and '..' even if they are present in the directory.\n",
      "\n"
     ]
    }
   ],
   "source": [
    "help(listdir)"
   ]
  },
  {
   "cell_type": "code",
   "execution_count": 19,
   "id": "1a67d1d6",
   "metadata": {},
   "outputs": [
    {
     "data": {
      "text/plain": [
       "(1846, 224, 224, 3)"
      ]
     },
     "execution_count": 19,
     "metadata": {},
     "output_type": "execute_result"
    }
   ],
   "source": [
    "cat_pics.shape"
   ]
  },
  {
   "cell_type": "code",
   "execution_count": null,
   "id": "fa004e7c",
   "metadata": {},
   "outputs": [],
   "source": []
  }
 ],
 "metadata": {
  "kernelspec": {
   "display_name": "Python 3 (ipykernel)",
   "language": "python",
   "name": "python3"
  },
  "language_info": {
   "codemirror_mode": {
    "name": "ipython",
    "version": 3
   },
   "file_extension": ".py",
   "mimetype": "text/x-python",
   "name": "python",
   "nbconvert_exporter": "python",
   "pygments_lexer": "ipython3",
   "version": "3.8.12"
  }
 },
 "nbformat": 4,
 "nbformat_minor": 5
}
