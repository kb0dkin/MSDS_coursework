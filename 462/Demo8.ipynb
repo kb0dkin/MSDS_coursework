{
 "cells": [
  {
   "cell_type": "markdown",
   "metadata": {},
   "source": [
    "# Resnet 50 transfer learning\n",
    "\n",
    "Going to import an imagenet resnet50 model for tf, then build a classifier on top of it that predicts tool types from a dataset I got from kaggle"
   ]
  },
  {
   "cell_type": "code",
   "execution_count": 9,
   "metadata": {},
   "outputs": [],
   "source": [
    "import numpy as np\n",
    "from matplotlib import pyplot as plt\n",
    "from PIL import Image as PIL_Image\n",
    "\n",
    "import tensorflow as tf\n",
    "from tensorflow.keras.preprocessing import image as keras_image\n",
    "from tensorflow.keras.applications.resnet50 import preprocess_input, decode_predictions\n",
    "\n",
    "from tkinter import Tk\n",
    "from tkinter import filedialog as fd"
   ]
  },
  {
   "cell_type": "markdown",
   "metadata": {},
   "source": [
    "### Bring in the imagenet model"
   ]
  },
  {
   "cell_type": "code",
   "execution_count": 2,
   "metadata": {},
   "outputs": [],
   "source": [
    "im_net = tf.keras.applications.resnet50.ResNet50(weights='imagenet') \n",
    "# im_net = tf.keras.applications.resnet50.ResNet50(include_top=False, pooling='max', ) \n"
   ]
  },
  {
   "cell_type": "code",
   "execution_count": 15,
   "metadata": {},
   "outputs": [
    {
     "name": "stdout",
     "output_type": "stream",
     "text": [
      "1/1 [==============================] - 0s 26ms/step\n",
      "Predicted from C:/Users/17204/Pictures/WeddingAlbum/DSC_1004.JPG: [('n03291819', 'envelope', 0.30060416), ('n04033901', 'quill', 0.14208815), ('n06785654', 'crossword_puzzle', 0.12100624)]\n"
     ]
    }
   ],
   "source": [
    "root = Tk()\n",
    "image_paths = fd.askopenfilenames(master=root, filetypes=[('jpeg','*.jpg'),('ping','*.png')])\n",
    "root.destroy()\n",
    "\n",
    "for img_pth in image_paths:\n",
    "    img = keras_image.load_img(img_pth, target_size=(224,224))\n",
    "    x = keras_image.img_to_array(img)\n",
    "    x = np.expand_dims(x, axis=0)\n",
    "    x = preprocess_input(x) # thanks keras for doing all that\n",
    "\n",
    "    preds = im_net.predict(x) # just run that sucker\n",
    "    # img.show()\n",
    "    print(f\"Predicted from {img_pth}: {decode_predictions(preds, top=3)[0]}\")"
   ]
  },
  {
   "cell_type": "code",
   "execution_count": null,
   "metadata": {},
   "outputs": [],
   "source": []
  }
 ],
 "metadata": {
  "kernelspec": {
   "display_name": "Python 3.9.13 ('MSDS')",
   "language": "python",
   "name": "python3"
  },
  "language_info": {
   "codemirror_mode": {
    "name": "ipython",
    "version": 3
   },
   "file_extension": ".py",
   "mimetype": "text/x-python",
   "name": "python",
   "nbconvert_exporter": "python",
   "pygments_lexer": "ipython3",
   "version": "3.9.13"
  },
  "orig_nbformat": 4,
  "vscode": {
   "interpreter": {
    "hash": "e6f5ab44297089514ffa059ea0d83d6392bebfea7e191fb6b7f26c8412c9553b"
   }
  }
 },
 "nbformat": 4,
 "nbformat_minor": 2
}
