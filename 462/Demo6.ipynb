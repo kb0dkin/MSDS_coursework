{
 "cells": [
  {
   "cell_type": "markdown",
   "metadata": {},
   "source": [
    "# MSDS 462 Demo 6\n",
    "\n",
    "Training a basic model, then exporting to a tflite model to run on a raspberry pi"
   ]
  },
  {
   "cell_type": "code",
   "execution_count": 1,
   "metadata": {},
   "outputs": [],
   "source": [
    "import numpy as np\n",
    "from matplotlib import pyplot as plt\n",
    "\n",
    "# tensorflow stuff\n",
    "from tensorflow.keras.layers import Dense, Dropout, Conv2D, MaxPooling2D, Flatten\n",
    "from tensorflow.keras.models import Sequential\n",
    "from tensorflow import lite\n",
    "\n",
    "\n",
    "# importing the mnist dataset\n",
    "from sklearn.datasets import fetch_openml\n",
    "mnist = fetch_openml('mnist_784')\n",
    "from sklearn.model_selection import train_test_split\n",
    "from sklearn.metrics import accuracy_score\n",
    "\n",
    "from subprocess import run"
   ]
  },
  {
   "cell_type": "code",
   "execution_count": 2,
   "metadata": {},
   "outputs": [],
   "source": [
    "# preparing the data -- reshaping, creating the one hot array for the softmax etc\n",
    "in_set = np.array(mnist.data).reshape(70000,28,28,1)\n",
    "out_set = np.zeros((70000,10)) # empty for the one-hot encoding\n",
    "out_set[np.arange(70000), np.array(mnist.target, dtype=int)] = 1 # ones for the correct value\n",
    "\n",
    "\n",
    "# get the testing and training set\n",
    "in_train, in_test, out_train, out_test = train_test_split(in_set, out_set, train_size=.8)"
   ]
  },
  {
   "cell_type": "markdown",
   "metadata": {},
   "source": [
    "### Build and train the model"
   ]
  },
  {
   "cell_type": "code",
   "execution_count": 4,
   "metadata": {},
   "outputs": [
    {
     "name": "stdout",
     "output_type": "stream",
     "text": [
      "Epoch 1/20\n",
      "1750/1750 [==============================] - 4s 2ms/step - loss: 1.4233 - Accuracy: 0.6284\n",
      "Epoch 2/20\n",
      "1750/1750 [==============================] - 4s 2ms/step - loss: 0.5618 - Accuracy: 0.8322\n",
      "Epoch 3/20\n",
      "1750/1750 [==============================] - 4s 2ms/step - loss: 0.4554 - Accuracy: 0.8652\n",
      "Epoch 4/20\n",
      "1750/1750 [==============================] - 4s 2ms/step - loss: 0.4159 - Accuracy: 0.8764\n",
      "Epoch 5/20\n",
      "1750/1750 [==============================] - 4s 2ms/step - loss: 0.3925 - Accuracy: 0.8821\n",
      "Epoch 6/20\n",
      "1750/1750 [==============================] - 4s 2ms/step - loss: 0.3898 - Accuracy: 0.8842\n",
      "Epoch 7/20\n",
      "1750/1750 [==============================] - 4s 2ms/step - loss: 0.3806 - Accuracy: 0.8852\n",
      "Epoch 8/20\n",
      "1750/1750 [==============================] - 4s 2ms/step - loss: 0.3799 - Accuracy: 0.8858\n",
      "Epoch 9/20\n",
      "1750/1750 [==============================] - 4s 2ms/step - loss: 0.3760 - Accuracy: 0.8863\n",
      "Epoch 10/20\n",
      "1750/1750 [==============================] - 4s 2ms/step - loss: 0.3727 - Accuracy: 0.8878\n",
      "Epoch 11/20\n",
      "1750/1750 [==============================] - 4s 2ms/step - loss: 0.3668 - Accuracy: 0.8890\n",
      "Epoch 12/20\n",
      "1750/1750 [==============================] - 4s 2ms/step - loss: 0.3660 - Accuracy: 0.8899\n",
      "Epoch 13/20\n",
      "1750/1750 [==============================] - 4s 2ms/step - loss: 0.3665 - Accuracy: 0.8889\n",
      "Epoch 14/20\n",
      "1750/1750 [==============================] - 4s 2ms/step - loss: 0.3675 - Accuracy: 0.8896\n",
      "Epoch 15/20\n",
      "1750/1750 [==============================] - 4s 2ms/step - loss: 0.3610 - Accuracy: 0.8910\n",
      "Epoch 16/20\n",
      "1750/1750 [==============================] - 4s 2ms/step - loss: 0.3629 - Accuracy: 0.8901\n",
      "Epoch 17/20\n",
      "1750/1750 [==============================] - 4s 2ms/step - loss: 0.3648 - Accuracy: 0.8904\n",
      "Epoch 18/20\n",
      "1750/1750 [==============================] - 4s 2ms/step - loss: 0.3601 - Accuracy: 0.8892\n",
      "Epoch 19/20\n",
      "1750/1750 [==============================] - 4s 2ms/step - loss: 0.3618 - Accuracy: 0.8907\n",
      "Epoch 20/20\n",
      "1750/1750 [==============================] - 4s 2ms/step - loss: 0.3618 - Accuracy: 0.8906\n",
      "438/438 [==============================] - 0s 941us/step\n",
      "Model test prediction accuracy: 0.9062857142857143\n"
     ]
    }
   ],
   "source": [
    "mdl = Sequential() # create the model\n",
    "\n",
    "mdl.add(Conv2D(1,3, activation='relu', input_shape=[28,28,1]))\n",
    "mdl.add(MaxPooling2D())\n",
    "mdl.add(Dropout(.25)) # add a dropout layer\n",
    "mdl.add(Conv2D(1,3, activation='relu', input_shape=[25,25,1])) # down by 3 from the conv and the pooling\n",
    "# mdl.add(MaxPooling2D())\n",
    "# mdl.add(Conv2D(1,3, activation='relu', input_shape=[22,22,1])) # down by 3 from the conv and the pooling mdl.add(MaxPooling2D())\n",
    "mdl.add(Flatten())\n",
    "mdl.add(Dense(10, activation='softmax')) # for the 10 values of the one-hot\n",
    "\n",
    "mdl.compile(loss='CategoricalCrossentropy', optimizer='rmsprop', metrics='Accuracy')\n",
    "mdl.fit(in_train, out_train, epochs = 20, verbose=1)\n",
    "\n",
    "# Check on the test set\n",
    "test_pred = mdl.predict(in_test) # test it\n",
    "print(f\"Model test prediction accuracy: {accuracy_score(np.argmax(out_test, axis=1), np.argmax(test_pred, axis=1))}\")"
   ]
  },
  {
   "cell_type": "markdown",
   "metadata": {},
   "source": [
    "### Export to TF Lite model\n",
    "\n",
    "using the tf.lite.TFLinteConverter"
   ]
  },
  {
   "cell_type": "code",
   "execution_count": 5,
   "metadata": {},
   "outputs": [
    {
     "name": "stderr",
     "output_type": "stream",
     "text": [
      "WARNING:absl:Found untraced functions such as _jit_compiled_convolution_op, _jit_compiled_convolution_op while saving (showing 2 of 2). These functions will not be directly callable after loading.\n"
     ]
    },
    {
     "name": "stdout",
     "output_type": "stream",
     "text": [
      "INFO:tensorflow:Assets written to: C:\\Users\\17204\\AppData\\Local\\Temp\\tmp1t1sqcnv\\assets\n"
     ]
    },
    {
     "name": "stderr",
     "output_type": "stream",
     "text": [
      "INFO:tensorflow:Assets written to: C:\\Users\\17204\\AppData\\Local\\Temp\\tmp1t1sqcnv\\assets\n"
     ]
    }
   ],
   "source": [
    "converter = lite.TFLiteConverter.from_keras_model(mdl) # create the converter\n",
    "tflite_model = converter.convert() # and run it\n",
    "\n",
    "with open('model.tflite','wb') as f:\n",
    "    f.write(tflite_model)\n"
   ]
  }
 ],
 "metadata": {
  "kernelspec": {
   "display_name": "Python 3.9.7 ('MSDS')",
   "language": "python",
   "name": "python3"
  },
  "language_info": {
   "codemirror_mode": {
    "name": "ipython",
    "version": 3
   },
   "file_extension": ".py",
   "mimetype": "text/x-python",
   "name": "python",
   "nbconvert_exporter": "python",
   "pygments_lexer": "ipython3",
   "version": "3.9.13"
  },
  "orig_nbformat": 4,
  "vscode": {
   "interpreter": {
    "hash": "e6f5ab44297089514ffa059ea0d83d6392bebfea7e191fb6b7f26c8412c9553b"
   }
  }
 },
 "nbformat": 4,
 "nbformat_minor": 2
}
